{
 "cells": [
  {
   "cell_type": "code",
   "execution_count": 77,
   "id": "e30fd8a4",
   "metadata": {},
   "outputs": [
    {
     "data": {
      "text/html": [
       "        <script type=\"text/javascript\">\n",
       "        window.PlotlyConfig = {MathJaxConfig: 'local'};\n",
       "        if (window.MathJax) {MathJax.Hub.Config({SVG: {font: \"STIX-Web\"}});}\n",
       "        if (typeof require !== 'undefined') {\n",
       "        require.undef(\"plotly\");\n",
       "        requirejs.config({\n",
       "            paths: {\n",
       "                'plotly': ['https://cdn.plot.ly/plotly-2.9.0.min']\n",
       "            }\n",
       "        });\n",
       "        require(['plotly'], function(Plotly) {\n",
       "            window._Plotly = Plotly;\n",
       "        });\n",
       "        }\n",
       "        </script>\n",
       "        "
      ]
     },
     "metadata": {},
     "output_type": "display_data"
    },
    {
     "data": {
      "text/html": [
       "<div>\n",
       "<style scoped>\n",
       "    .dataframe tbody tr th:only-of-type {\n",
       "        vertical-align: middle;\n",
       "    }\n",
       "\n",
       "    .dataframe tbody tr th {\n",
       "        vertical-align: top;\n",
       "    }\n",
       "\n",
       "    .dataframe thead tr th {\n",
       "        text-align: left;\n",
       "    }\n",
       "\n",
       "    .dataframe thead tr:last-of-type th {\n",
       "        text-align: right;\n",
       "    }\n",
       "</style>\n",
       "<table border=\"1\" class=\"dataframe\">\n",
       "  <thead>\n",
       "    <tr>\n",
       "      <th>Bank Ticker</th>\n",
       "      <th colspan=\"6\" halign=\"left\">BAC</th>\n",
       "      <th colspan=\"4\" halign=\"left\">C</th>\n",
       "      <th>...</th>\n",
       "      <th colspan=\"4\" halign=\"left\">MS</th>\n",
       "      <th colspan=\"6\" halign=\"left\">WFC</th>\n",
       "    </tr>\n",
       "    <tr>\n",
       "      <th>Stock Info</th>\n",
       "      <th>High</th>\n",
       "      <th>Low</th>\n",
       "      <th>Open</th>\n",
       "      <th>Close</th>\n",
       "      <th>Volume</th>\n",
       "      <th>Adj Close</th>\n",
       "      <th>High</th>\n",
       "      <th>Low</th>\n",
       "      <th>Open</th>\n",
       "      <th>Close</th>\n",
       "      <th>...</th>\n",
       "      <th>Open</th>\n",
       "      <th>Close</th>\n",
       "      <th>Volume</th>\n",
       "      <th>Adj Close</th>\n",
       "      <th>High</th>\n",
       "      <th>Low</th>\n",
       "      <th>Open</th>\n",
       "      <th>Close</th>\n",
       "      <th>Volume</th>\n",
       "      <th>Adj Close</th>\n",
       "    </tr>\n",
       "    <tr>\n",
       "      <th>Date</th>\n",
       "      <th></th>\n",
       "      <th></th>\n",
       "      <th></th>\n",
       "      <th></th>\n",
       "      <th></th>\n",
       "      <th></th>\n",
       "      <th></th>\n",
       "      <th></th>\n",
       "      <th></th>\n",
       "      <th></th>\n",
       "      <th></th>\n",
       "      <th></th>\n",
       "      <th></th>\n",
       "      <th></th>\n",
       "      <th></th>\n",
       "      <th></th>\n",
       "      <th></th>\n",
       "      <th></th>\n",
       "      <th></th>\n",
       "      <th></th>\n",
       "      <th></th>\n",
       "    </tr>\n",
       "  </thead>\n",
       "  <tbody>\n",
       "    <tr>\n",
       "      <th>2006-01-03</th>\n",
       "      <td>47.180000</td>\n",
       "      <td>46.150002</td>\n",
       "      <td>46.919998</td>\n",
       "      <td>47.080002</td>\n",
       "      <td>16296700.0</td>\n",
       "      <td>33.777519</td>\n",
       "      <td>493.799988</td>\n",
       "      <td>481.100006</td>\n",
       "      <td>490.000000</td>\n",
       "      <td>492.899994</td>\n",
       "      <td>...</td>\n",
       "      <td>57.169998</td>\n",
       "      <td>58.310001</td>\n",
       "      <td>5377000.0</td>\n",
       "      <td>35.558960</td>\n",
       "      <td>31.975000</td>\n",
       "      <td>31.195000</td>\n",
       "      <td>31.600000</td>\n",
       "      <td>31.900000</td>\n",
       "      <td>11016400.0</td>\n",
       "      <td>20.242823</td>\n",
       "    </tr>\n",
       "    <tr>\n",
       "      <th>2006-01-04</th>\n",
       "      <td>47.240002</td>\n",
       "      <td>46.450001</td>\n",
       "      <td>47.000000</td>\n",
       "      <td>46.580002</td>\n",
       "      <td>17757900.0</td>\n",
       "      <td>33.418774</td>\n",
       "      <td>491.000000</td>\n",
       "      <td>483.500000</td>\n",
       "      <td>488.600006</td>\n",
       "      <td>483.799988</td>\n",
       "      <td>...</td>\n",
       "      <td>58.700001</td>\n",
       "      <td>58.349998</td>\n",
       "      <td>7977800.0</td>\n",
       "      <td>35.583351</td>\n",
       "      <td>31.820000</td>\n",
       "      <td>31.365000</td>\n",
       "      <td>31.799999</td>\n",
       "      <td>31.530001</td>\n",
       "      <td>10870000.0</td>\n",
       "      <td>20.008028</td>\n",
       "    </tr>\n",
       "    <tr>\n",
       "      <th>2006-01-05</th>\n",
       "      <td>46.830002</td>\n",
       "      <td>46.320000</td>\n",
       "      <td>46.580002</td>\n",
       "      <td>46.639999</td>\n",
       "      <td>14970700.0</td>\n",
       "      <td>33.461823</td>\n",
       "      <td>487.799988</td>\n",
       "      <td>484.000000</td>\n",
       "      <td>484.399994</td>\n",
       "      <td>486.200012</td>\n",
       "      <td>...</td>\n",
       "      <td>58.549999</td>\n",
       "      <td>58.509998</td>\n",
       "      <td>5778000.0</td>\n",
       "      <td>35.680916</td>\n",
       "      <td>31.555000</td>\n",
       "      <td>31.309999</td>\n",
       "      <td>31.500000</td>\n",
       "      <td>31.495001</td>\n",
       "      <td>10158000.0</td>\n",
       "      <td>19.985823</td>\n",
       "    </tr>\n",
       "    <tr>\n",
       "      <th>2006-01-06</th>\n",
       "      <td>46.910000</td>\n",
       "      <td>46.349998</td>\n",
       "      <td>46.799999</td>\n",
       "      <td>46.570000</td>\n",
       "      <td>12599800.0</td>\n",
       "      <td>33.411602</td>\n",
       "      <td>489.000000</td>\n",
       "      <td>482.000000</td>\n",
       "      <td>488.799988</td>\n",
       "      <td>486.200012</td>\n",
       "      <td>...</td>\n",
       "      <td>58.770000</td>\n",
       "      <td>58.570000</td>\n",
       "      <td>6889800.0</td>\n",
       "      <td>35.717514</td>\n",
       "      <td>31.775000</td>\n",
       "      <td>31.385000</td>\n",
       "      <td>31.580000</td>\n",
       "      <td>31.680000</td>\n",
       "      <td>8403800.0</td>\n",
       "      <td>20.103214</td>\n",
       "    </tr>\n",
       "    <tr>\n",
       "      <th>2006-01-09</th>\n",
       "      <td>46.970001</td>\n",
       "      <td>46.360001</td>\n",
       "      <td>46.720001</td>\n",
       "      <td>46.599998</td>\n",
       "      <td>15619400.0</td>\n",
       "      <td>33.433121</td>\n",
       "      <td>487.399994</td>\n",
       "      <td>483.000000</td>\n",
       "      <td>486.000000</td>\n",
       "      <td>483.899994</td>\n",
       "      <td>...</td>\n",
       "      <td>58.630001</td>\n",
       "      <td>59.189999</td>\n",
       "      <td>4144500.0</td>\n",
       "      <td>36.095604</td>\n",
       "      <td>31.825001</td>\n",
       "      <td>31.555000</td>\n",
       "      <td>31.674999</td>\n",
       "      <td>31.674999</td>\n",
       "      <td>5619600.0</td>\n",
       "      <td>20.100046</td>\n",
       "    </tr>\n",
       "  </tbody>\n",
       "</table>\n",
       "<p>5 rows × 36 columns</p>\n",
       "</div>"
      ],
      "text/plain": [
       "Bank Ticker        BAC                                               \\\n",
       "Stock Info        High        Low       Open      Close      Volume   \n",
       "Date                                                                  \n",
       "2006-01-03   47.180000  46.150002  46.919998  47.080002  16296700.0   \n",
       "2006-01-04   47.240002  46.450001  47.000000  46.580002  17757900.0   \n",
       "2006-01-05   46.830002  46.320000  46.580002  46.639999  14970700.0   \n",
       "2006-01-06   46.910000  46.349998  46.799999  46.570000  12599800.0   \n",
       "2006-01-09   46.970001  46.360001  46.720001  46.599998  15619400.0   \n",
       "\n",
       "Bank Ticker                      C                                      ...  \\\n",
       "Stock Info   Adj Close        High         Low        Open       Close  ...   \n",
       "Date                                                                    ...   \n",
       "2006-01-03   33.777519  493.799988  481.100006  490.000000  492.899994  ...   \n",
       "2006-01-04   33.418774  491.000000  483.500000  488.600006  483.799988  ...   \n",
       "2006-01-05   33.461823  487.799988  484.000000  484.399994  486.200012  ...   \n",
       "2006-01-06   33.411602  489.000000  482.000000  488.799988  486.200012  ...   \n",
       "2006-01-09   33.433121  487.399994  483.000000  486.000000  483.899994  ...   \n",
       "\n",
       "Bank Ticker         MS                                         WFC             \\\n",
       "Stock Info        Open      Close     Volume  Adj Close       High        Low   \n",
       "Date                                                                            \n",
       "2006-01-03   57.169998  58.310001  5377000.0  35.558960  31.975000  31.195000   \n",
       "2006-01-04   58.700001  58.349998  7977800.0  35.583351  31.820000  31.365000   \n",
       "2006-01-05   58.549999  58.509998  5778000.0  35.680916  31.555000  31.309999   \n",
       "2006-01-06   58.770000  58.570000  6889800.0  35.717514  31.775000  31.385000   \n",
       "2006-01-09   58.630001  59.189999  4144500.0  36.095604  31.825001  31.555000   \n",
       "\n",
       "Bank Ticker                                               \n",
       "Stock Info        Open      Close      Volume  Adj Close  \n",
       "Date                                                      \n",
       "2006-01-03   31.600000  31.900000  11016400.0  20.242823  \n",
       "2006-01-04   31.799999  31.530001  10870000.0  20.008028  \n",
       "2006-01-05   31.500000  31.495001  10158000.0  19.985823  \n",
       "2006-01-06   31.580000  31.680000   8403800.0  20.103214  \n",
       "2006-01-09   31.674999  31.674999   5619600.0  20.100046  \n",
       "\n",
       "[5 rows x 36 columns]"
      ]
     },
     "execution_count": 77,
     "metadata": {},
     "output_type": "execute_result"
    }
   ],
   "source": [
    "from pandas_datareader import data, wb\n",
    "import pandas as pd\n",
    "import numpy as np\n",
    "import seaborn as sb\n",
    "import matplotlib.pyplot as plt\n",
    "import plotly\n",
    "import cufflinks as cf\n",
    "import datetime as dt\n",
    "%matplotlib inline\n",
    "cf.go_offline()\n",
    "\n",
    "# Establish start and end dates\n",
    "start = dt.datetime(2006, 1, 1)\n",
    "end = dt.datetime(2016, 1, 1)\n",
    "\n",
    "# Bank of America Stock Information\n",
    "BOA = data.DataReader(\"BAC\", \"yahoo\", start, end)\n",
    "\n",
    "# CitiGroup\n",
    "citi = data.DataReader(\"C\", \"yahoo\", start, end)\n",
    "\n",
    "# Goldman Sachs\n",
    "gold = data.DataReader(\"GS\", \"yahoo\", start, end)\n",
    "\n",
    "# JPMorgan Chase\n",
    "jpm = data.DataReader(\"JPM\", \"yahoo\", start, end)\n",
    "\n",
    "# Morgan Stanley\n",
    "ms = data.DataReader(\"MS\", \"yahoo\", start, end)\n",
    "\n",
    "# Wells Fargo\n",
    "fargo = data.DataReader(\"WFC\", \"yahoo\", start, end)\n",
    "\n",
    "# Establish Ticker Symbols and Column Names\n",
    "tickers = [\"BAC\", \"C\", \"GS\", \"JPM\", \"MS\", \"WFC\"]\n",
    "col_names = [\"Bank Ticker\", \"Stock Info\"]\n",
    "\n",
    "# Concat all into single dataframe with ticker symbols as keys\n",
    "stocks = pd.concat([BOA, citi, gold, jpm, ms, fargo], axis=1, keys=tickers, names=col_names)\n",
    "stocks.head()"
   ]
  },
  {
   "cell_type": "code",
   "execution_count": 18,
   "id": "3eb86fa2",
   "metadata": {},
   "outputs": [
    {
     "data": {
      "text/plain": [
       "Bank Ticker\n",
       "BAC     54.900002\n",
       "C      564.099976\n",
       "GS     247.919998\n",
       "JPM     70.080002\n",
       "MS      89.300003\n",
       "WFC     58.520000\n",
       "dtype: float64"
      ]
     },
     "execution_count": 18,
     "metadata": {},
     "output_type": "execute_result"
    }
   ],
   "source": [
    "# Max Close Price of Each\n",
    "stocks.xs(level=\"Stock Info\", key=\"Close\", axis=1).max()"
   ]
  },
  {
   "cell_type": "code",
   "execution_count": 23,
   "id": "ac76381d",
   "metadata": {},
   "outputs": [
    {
     "data": {
      "text/html": [
       "<div>\n",
       "<style scoped>\n",
       "    .dataframe tbody tr th:only-of-type {\n",
       "        vertical-align: middle;\n",
       "    }\n",
       "\n",
       "    .dataframe tbody tr th {\n",
       "        vertical-align: top;\n",
       "    }\n",
       "\n",
       "    .dataframe thead th {\n",
       "        text-align: right;\n",
       "    }\n",
       "</style>\n",
       "<table border=\"1\" class=\"dataframe\">\n",
       "  <thead>\n",
       "    <tr style=\"text-align: right;\">\n",
       "      <th></th>\n",
       "      <th>BAC Return</th>\n",
       "      <th>C Return</th>\n",
       "      <th>GS Return</th>\n",
       "      <th>JPM Return</th>\n",
       "      <th>MS Return</th>\n",
       "      <th>WFC Return</th>\n",
       "    </tr>\n",
       "    <tr>\n",
       "      <th>Date</th>\n",
       "      <th></th>\n",
       "      <th></th>\n",
       "      <th></th>\n",
       "      <th></th>\n",
       "      <th></th>\n",
       "      <th></th>\n",
       "    </tr>\n",
       "  </thead>\n",
       "  <tbody>\n",
       "    <tr>\n",
       "      <th>2006-01-03</th>\n",
       "      <td>NaN</td>\n",
       "      <td>NaN</td>\n",
       "      <td>NaN</td>\n",
       "      <td>NaN</td>\n",
       "      <td>NaN</td>\n",
       "      <td>NaN</td>\n",
       "    </tr>\n",
       "    <tr>\n",
       "      <th>2006-01-04</th>\n",
       "      <td>-0.010620</td>\n",
       "      <td>-0.018462</td>\n",
       "      <td>-0.013812</td>\n",
       "      <td>-0.014183</td>\n",
       "      <td>0.000686</td>\n",
       "      <td>-0.011599</td>\n",
       "    </tr>\n",
       "    <tr>\n",
       "      <th>2006-01-05</th>\n",
       "      <td>0.001288</td>\n",
       "      <td>0.004961</td>\n",
       "      <td>-0.000393</td>\n",
       "      <td>0.003029</td>\n",
       "      <td>0.002742</td>\n",
       "      <td>-0.001110</td>\n",
       "    </tr>\n",
       "    <tr>\n",
       "      <th>2006-01-06</th>\n",
       "      <td>-0.001501</td>\n",
       "      <td>0.000000</td>\n",
       "      <td>0.014169</td>\n",
       "      <td>0.007046</td>\n",
       "      <td>0.001025</td>\n",
       "      <td>0.005874</td>\n",
       "    </tr>\n",
       "    <tr>\n",
       "      <th>2006-01-09</th>\n",
       "      <td>0.000644</td>\n",
       "      <td>-0.004731</td>\n",
       "      <td>0.012030</td>\n",
       "      <td>0.016242</td>\n",
       "      <td>0.010586</td>\n",
       "      <td>-0.000158</td>\n",
       "    </tr>\n",
       "  </tbody>\n",
       "</table>\n",
       "</div>"
      ],
      "text/plain": [
       "            BAC Return  C Return  GS Return  JPM Return  MS Return  WFC Return\n",
       "Date                                                                          \n",
       "2006-01-03         NaN       NaN        NaN         NaN        NaN         NaN\n",
       "2006-01-04   -0.010620 -0.018462  -0.013812   -0.014183   0.000686   -0.011599\n",
       "2006-01-05    0.001288  0.004961  -0.000393    0.003029   0.002742   -0.001110\n",
       "2006-01-06   -0.001501  0.000000   0.014169    0.007046   0.001025    0.005874\n",
       "2006-01-09    0.000644 -0.004731   0.012030    0.016242   0.010586   -0.000158"
      ]
     },
     "execution_count": 23,
     "metadata": {},
     "output_type": "execute_result"
    }
   ],
   "source": [
    "# Get Daily Returns for Each and Store in New DataFrame\n",
    "returns = pd.DataFrame()\n",
    "for ticker in tickers:\n",
    "    returns[ticker + ' Return'] = stocks[ticker]['Close'].pct_change()\n",
    "returns.head()"
   ]
  },
  {
   "cell_type": "code",
   "execution_count": 26,
   "id": "8fc131f5",
   "metadata": {},
   "outputs": [
    {
     "data": {
      "text/plain": [
       "<seaborn.axisgrid.PairGrid at 0x1ce549d1400>"
      ]
     },
     "execution_count": 26,
     "metadata": {},
     "output_type": "execute_result"
    },
    {
     "data": {
      "image/png": "[encoded data removed]",
      "text/plain": [
       "<Figure size 1080x1080 with 42 Axes>"
      ]
     },
     "metadata": {
      "needs_background": "light"
     },
     "output_type": "display_data"
    }
   ],
   "source": [
    "sb.pairplot(data=returns[1:])"
   ]
  },
  {
   "cell_type": "code",
   "execution_count": 29,
   "id": "011433b2",
   "metadata": {},
   "outputs": [
    {
     "data": {
      "text/plain": [
       "BAC Return   2009-01-20\n",
       "C Return     2009-02-27\n",
       "GS Return    2009-01-20\n",
       "JPM Return   2009-01-20\n",
       "MS Return    2008-10-09\n",
       "WFC Return   2009-01-20\n",
       "dtype: datetime64[ns]"
      ]
     },
     "execution_count": 29,
     "metadata": {},
     "output_type": "execute_result"
    }
   ],
   "source": [
    "# Biggest Drops for Each - Largely Coincides with Obama Inauguration\n",
    "returns.idxmin()"
   ]
  },
  {
   "cell_type": "code",
   "execution_count": 30,
   "id": "6077830e",
   "metadata": {},
   "outputs": [
    {
     "data": {
      "text/plain": [
       "BAC Return   2009-04-09\n",
       "C Return     2008-11-24\n",
       "GS Return    2008-11-24\n",
       "JPM Return   2009-01-21\n",
       "MS Return    2008-10-13\n",
       "WFC Return   2008-07-16\n",
       "dtype: datetime64[ns]"
      ]
     },
     "execution_count": 30,
     "metadata": {},
     "output_type": "execute_result"
    }
   ],
   "source": [
    "# Biggest Gains for Each\n",
    "returns.idxmax()"
   ]
  },
  {
   "cell_type": "code",
   "execution_count": 31,
   "id": "4ca9efc6",
   "metadata": {},
   "outputs": [
    {
     "data": {
      "text/plain": [
       "BAC Return    0.036647\n",
       "C Return      0.038672\n",
       "GS Return     0.025390\n",
       "JPM Return    0.027667\n",
       "MS Return     0.037819\n",
       "WFC Return    0.030238\n",
       "dtype: float64"
      ]
     },
     "execution_count": 31,
     "metadata": {},
     "output_type": "execute_result"
    }
   ],
   "source": [
    "# Standard Deviation to Determine Risk\n",
    "returns.std()"
   ]
  },
  {
   "cell_type": "code",
   "execution_count": 39,
   "id": "50cfd290",
   "metadata": {},
   "outputs": [
    {
     "data": {
      "text/plain": [
       "BAC Return    0.016163\n",
       "C Return      0.015289\n",
       "GS Return     0.014046\n",
       "JPM Return    0.014017\n",
       "MS Return     0.016249\n",
       "WFC Return    0.012591\n",
       "dtype: float64"
      ]
     },
     "execution_count": 39,
     "metadata": {},
     "output_type": "execute_result"
    }
   ],
   "source": [
    "# Risk over 2015\n",
    "returns.loc['2015-01-01':'2015-12-31'].std()"
   ]
  },
  {
   "cell_type": "code",
   "execution_count": 45,
   "id": "a40c8e9b",
   "metadata": {},
   "outputs": [
    {
     "data": {
      "text/plain": [
       "<seaborn.axisgrid.FacetGrid at 0x1ce59b5ae80>"
      ]
     },
     "execution_count": 45,
     "metadata": {},
     "output_type": "execute_result"
    },
    {
     "data": {
      "image/png": "[encoded data removed]",
      "text/plain": [
       "<Figure size 360x360 with 1 Axes>"
      ]
     },
     "metadata": {
      "needs_background": "light"
     },
     "output_type": "display_data"
    }
   ],
   "source": [
    "# Distribution Plot of MorganStanley 2015 returns\n",
    "sb.displot(data=returns.loc['2015-01-01':'2015-12-31']['MS Return'], bins=50)"
   ]
  },
  {
   "cell_type": "code",
   "execution_count": 46,
   "id": "1412b617",
   "metadata": {},
   "outputs": [
    {
     "data": {
      "text/plain": [
       "<seaborn.axisgrid.FacetGrid at 0x1ce59ffddc0>"
      ]
     },
     "execution_count": 46,
     "metadata": {},
     "output_type": "execute_result"
    },
    {
     "data": {
      "image/png": "[encoded data removed]",
      "text/plain": [
       "<Figure size 360x360 with 1 Axes>"
      ]
     },
     "metadata": {
      "needs_background": "light"
     },
     "output_type": "display_data"
    }
   ],
   "source": [
    "# Distribution Plot of CitiGroup 2008 returns\n",
    "sb.displot(data=returns.loc['2008-01-01':'2008-12-31']['C Return'], bins=50)"
   ]
  },
  {
   "cell_type": "code",
   "execution_count": 59,
   "id": "0927807a",
   "metadata": {},
   "outputs": [
    {
     "data": {
      "text/plain": [
       "<AxesSubplot:xlabel='Date'>"
      ]
     },
     "execution_count": 59,
     "metadata": {},
     "output_type": "execute_result"
    },
    {
     "data": {
      "image/png": "[encoded data removed]",
      "text/plain": [
       "<Figure size 864x288 with 1 Axes>"
      ]
     },
     "metadata": {
      "needs_background": "light"
     },
     "output_type": "display_data"
    }
   ],
   "source": [
    "# Lineplot of all stock close prices\n",
    "stocks.xs(level=\"Stock Info\", key=\"Close\", axis=1).plot(figsize=[12, 4])"
   ]
  },
  {
   "cell_type": "code",
   "execution_count": 66,
   "id": "7603e9ea",
   "metadata": {},
   "outputs": [
    {
     "data": {
      "text/plain": [
       "<matplotlib.legend.Legend at 0x1ce623a58e0>"
      ]
     },
     "execution_count": 66,
     "metadata": {},
     "output_type": "execute_result"
    },
    {
     "data": {
      "image/png": "[encoded data removed]",
      "text/plain": [
       "<Figure size 864x288 with 1 Axes>"
      ]
     },
     "metadata": {
      "needs_background": "light"
     },
     "output_type": "display_data"
    }
   ],
   "source": [
    "# Bank of America 30 day rolling average Close price\n",
    "# Plotted with Close Prices over 2008\n",
    "BOA['Close'].loc['2008-01-01':'2008-12-31'].rolling(window=30).mean().plot(figsize=[12,4])\n",
    "BOA['Close'].loc['2008-01-01':'2008-12-31'].plot(label=\"BOA Close\", figsize=[12,4])\n",
    "plt.legend()"
   ]
  },
  {
   "cell_type": "code",
   "execution_count": 70,
   "id": "180078e5",
   "metadata": {},
   "outputs": [
    {
     "data": {
      "text/plain": [
       "<AxesSubplot:xlabel='Bank Ticker', ylabel='Bank Ticker'>"
      ]
     },
     "execution_count": 70,
     "metadata": {},
     "output_type": "execute_result"
    },
    {
     "data": {
      "image/png": "[encoded data removed]",
      "text/plain": [
       "<Figure size 432x288 with 2 Axes>"
      ]
     },
     "metadata": {
      "needs_background": "light"
     },
     "output_type": "display_data"
    }
   ],
   "source": [
    "# Heatmap of stock correlation\n",
    "sb.heatmap(stocks.xs(level=\"Stock Info\", key=\"Close\", axis=1).corr(), annot=True, cmap=\"coolwarm\")"
   ]
  },
  {
   "cell_type": "code",
   "execution_count": 71,
   "id": "9f4ae8c6",
   "metadata": {},
   "outputs": [
    {
     "data": {
      "text/plain": [
       "<seaborn.matrix.ClusterGrid at 0x1ce63a7ec70>"
      ]
     },
     "execution_count": 71,
     "metadata": {},
     "output_type": "execute_result"
    },
    {
     "data": {
      "image/png": "[encoded data removed]",
      "text/plain": [
       "<Figure size 720x720 with 4 Axes>"
      ]
     },
     "metadata": {
      "needs_background": "light"
     },
     "output_type": "display_data"
    }
   ],
   "source": [
    "# Clustermap of stock correlation\n",
    "sb.clustermap(data=stocks.xs(level=\"Stock Info\", key=\"Close\", axis=1).corr(), annot=True, cmap=\"coolwarm\")"
   ]
  },
  {
   "cell_type": "code",
   "execution_count": 78,
   "id": "5ab6d052",
   "metadata": {},
   "outputs": [
    {
     "data": {
      "application/vnd.plotly.v1+json": {
       "config": {
        "linkText": "Export to plot.ly",
        "plotlyServerURL": "https://plot.ly",
        "showLink": true
       },
       "data": [
        {
         "close": [
          17.899999618530273,
          17.3799991607666,
          16.860000610351562,
          16.940000534057617,
          17.290000915527344,
          16.979999542236328,
          16.68000030517578,
          16.450000762939453,
          16.040000915527344,
          15.199999809265137,
          15.380000114440918,
          15.260000228881836,
          15.40999984741211,
          16.09000015258789,
          15.729999542236328,
          15.850000381469727,
          15.630000114440918,
          15.199999809265137,
          15.430000305175781,
          15.149999618530273,
          15.460000038146973,
          15.890000343322754,
          15.789999961853027,
          15.970000267028809,
          16.489999771118164,
          16.350000381469727,
          16.420000076293945,
          16.360000610351562,
          16.670000076293945,
          16.610000610351562,
          16.6299991607666,
          16.299999237060547,
          16.209999084472656,
          16.3799991607666,
          16.200000762939453,
          16.3799991607666,
          16.489999771118164,
          16.040000915527344,
          15.8100004196167,
          16.010000228881836,
          16.040000915527344,
          15.84000015258789,
          16,
          16.219999313354492,
          16.170000076293945,
          15.789999961853027,
          16.110000610351562,
          16.09000015258789,
          16.09000015258789,
          16.1299991607666,
          16.09000015258789,
          15.979999542236328,
          15.609999656677246,
          15.84000015258789,
          15.720000267028809,
          15.609999656677246,
          15.40999984741211,
          15.420000076293945,
          15.3100004196167,
          15.520000457763672,
          15.390000343322754,
          15.40999984741211,
          15.539999961853027,
          15.510000228881836,
          15.460000038146973,
          15.609999656677246,
          15.710000038146973,
          15.720000267028809,
          15.800000190734863,
          15.819999694824219,
          15.640000343322754,
          15.789999961853027,
          15.5600004196167,
          15.569999694824219,
          15.5,
          15.739999771118164,
          15.6899995803833,
          15.640000343322754,
          15.5600004196167,
          15.649999618530273,
          15.979999542236328,
          15.930000305175781,
          16.110000610351562,
          16.440000534057617,
          16.350000381469727,
          16.290000915527344,
          16.239999771118164,
          16.450000762939453,
          16.489999771118164,
          16.43000030517578,
          16.469999313354492,
          16.520000457763672,
          16.350000381469727,
          16.510000228881836,
          16.770000457763672,
          16.739999771118164,
          16.729999542236328,
          16.75,
          16.5,
          16.739999771118164,
          16.670000076293945,
          16.5,
          16.549999237060547,
          16.719999313354492,
          16.93000030517578,
          16.780000686645508,
          17.190000534057617,
          17.079999923706055,
          17.309999465942383,
          17.59000015258789,
          17.489999771118164,
          17.489999771118164,
          17.469999313354492,
          17.549999237060547,
          17.3700008392334,
          17.3799991607666,
          17.170000076293945,
          17.469999313354492,
          17.670000076293945,
          17.489999771118164,
          17.3700008392334,
          17.40999984741211,
          16.889999389648438,
          17.020000457763672,
          17.219999313354492,
          17.030000686645508,
          16.940000534057617,
          16.690000534057617,
          16.25,
          16.479999542236328,
          16.700000762939453,
          17.020000457763672,
          17.1299991607666,
          17.68000030517578,
          17.950000762939453,
          18.100000381469727,
          18.1200008392334,
          18.079999923706055,
          18.450000762939453,
          18.18000030517578,
          17.899999618530273,
          17.670000076293945,
          17.8799991607666,
          18.15999984741211,
          18.1299991607666,
          17.8799991607666,
          17.770000457763672,
          17.799999237060547,
          17.8700008392334,
          17.809999465942383,
          17.75,
          18.040000915527344,
          17.790000915527344,
          17.520000457763672,
          17.6200008392334,
          17.700000762939453,
          17.770000457763672,
          17.690000534057617,
          17.459999084472656,
          16.719999313354492,
          16.100000381469727,
          15.289999961853027,
          15.260000228881836,
          16.059999465942383,
          16.440000534057617,
          16.360000610351562,
          16.34000015258789,
          15.579999923706055,
          15.850000381469727,
          15.9399995803833,
          15.649999618530273,
          16.15999984741211,
          15.899999618530273,
          16.040000915527344,
          16.040000915527344,
          15.960000038146973,
          16.309999465942383,
          16.329999923706055,
          15.859999656677246,
          15.5600004196167,
          15.699999809265137,
          15.569999694824219,
          15.720000267028809,
          15.550000190734863,
          15.890000343322754,
          15.470000267028809,
          15.350000381469727,
          15.579999923706055,
          15.550000190734863,
          15.380000114440918,
          15.6899995803833,
          15.6899995803833,
          15.75,
          15.75,
          15.579999923706055,
          15.520000457763672,
          15.520000457763672,
          15.640000343322754,
          16.190000534057617,
          16.1200008392334,
          16.139999389648438,
          16.200000762939453,
          15.899999618530273,
          16.15999984741211,
          16.520000457763672,
          16.510000228881836,
          16.399999618530273,
          17.280000686645508,
          17.09000015258789,
          16.780000686645508,
          17.059999465942383,
          17.18000030517578,
          17.010000228881836,
          17.309999465942383,
          17.950000762939453,
          17.68000030517578,
          17.850000381469727,
          17.75,
          17.3700008392334,
          17.200000762939453,
          17.43000030517578,
          17.420000076293945,
          17.84000015258789,
          17.690000534057617,
          17.649999618530273,
          17.469999313354492,
          17.469999313354492,
          17.440000534057617,
          17.479999542236328,
          17.43000030517578,
          17.809999465942383,
          17.6200008392334,
          17.299999237060547,
          17.799999237060547,
          17.540000915527344,
          17.190000534057617,
          17.100000381469727,
          17.200000762939453,
          16.729999542236328,
          16.799999237060547,
          17.420000076293945,
          17.75,
          17.299999237060547,
          16.760000228881836,
          16.969999313354492,
          17.079999923706055,
          17.34000015258789,
          17.270000457763672,
          17.1299991607666,
          17.280000686645508,
          17.049999237060547,
          16.829999923706055
         ],
         "high": [
          18.030000686645508,
          17.809999465942383,
          17.440000534057617,
          17.18000030517578,
          17.34000015258789,
          17.3799991607666,
          17.030000686645508,
          16.889999389648438,
          16.219999313354492,
          15.760000228881836,
          15.399999618530273,
          15.630000114440918,
          15.569999694824219,
          16.190000534057617,
          16.190000534057617,
          15.930000305175781,
          15.789999961853027,
          15.729999542236328,
          15.489999771118164,
          15.470000267028809,
          15.489999771118164,
          15.930000305175781,
          16,
          16.09000015258789,
          16.75,
          16.5,
          16.6200008392334,
          16.450000762939453,
          16.729999542236328,
          16.790000915527344,
          16.68000030517578,
          16.559999465942383,
          16.3799991607666,
          16.43000030517578,
          16.31999969482422,
          16.549999237060547,
          16.5,
          16.440000534057617,
          15.880000114440918,
          16.030000686645508,
          16.149999618530273,
          15.979999542236328,
          16.030000686645508,
          16.6200008392334,
          16.329999923706055,
          16.1299991607666,
          16.15999984741211,
          16.209999084472656,
          16.149999618530273,
          16.219999313354492,
          16.1200008392334,
          16.100000381469727,
          15.970000267028809,
          15.930000305175781,
          15.880000114440918,
          15.800000190734863,
          15.649999618530273,
          15.539999961853027,
          15.489999771118164,
          15.609999656677246,
          15.520000457763672,
          15.460000038146973,
          15.619999885559082,
          15.600000381469727,
          15.649999618530273,
          15.739999771118164,
          15.760000228881836,
          15.789999961853027,
          15.859999656677246,
          15.949999809265137,
          15.850000381469727,
          15.9399995803833,
          15.75,
          15.6899995803833,
          15.640000343322754,
          15.829999923706055,
          15.800000190734863,
          15.75,
          15.760000228881836,
          15.710000038146973,
          16.040000915527344,
          16.049999237060547,
          16.149999618530273,
          16.450000762939453,
          16.610000610351562,
          16.489999771118164,
          16.329999923706055,
          16.459999084472656,
          16.59000015258789,
          16.479999542236328,
          16.520000457763672,
          16.59000015258789,
          16.520000457763672,
          16.540000915527344,
          16.780000686645508,
          16.850000381469727,
          16.75,
          16.799999237060547,
          16.729999542236328,
          16.75,
          16.729999542236328,
          16.670000076293945,
          16.639999389648438,
          16.760000228881836,
          17.020000457763672,
          16.979999542236328,
          17.350000381469727,
          17.329999923706055,
          17.350000381469727,
          17.6200008392334,
          17.68000030517578,
          17.579999923706055,
          17.5,
          17.559999465942383,
          17.600000381469727,
          17.399999618530273,
          17.389999389648438,
          17.530000686645508,
          17.719999313354492,
          17.690000534057617,
          17.6200008392334,
          17.520000457763672,
          17.25,
          17.1299991607666,
          17.309999465942383,
          17.209999084472656,
          17.010000228881836,
          16.93000030517578,
          16.5,
          16.719999313354492,
          16.84000015258789,
          17.049999237060547,
          17.149999618530273,
          17.850000381469727,
          18.06999969482422,
          18.15999984741211,
          18.229999542236328,
          18.170000076293945,
          18.479999542236328,
          18.43000030517578,
          18.229999542236328,
          17.780000686645508,
          17.889999389648438,
          18.200000762939453,
          18.290000915527344,
          18.059999465942383,
          17.969999313354492,
          17.93000030517578,
          18.049999237060547,
          17.979999542236328,
          18.06999969482422,
          18.049999237060547,
          17.969999313354492,
          17.649999618530273,
          17.690000534057617,
          17.700000762939453,
          17.809999465942383,
          17.899999618530273,
          17.690000534057617,
          17.200000762939453,
          16.65999984741211,
          15.979999542236328,
          16.200000762939453,
          16.059999465942383,
          16.450000762939453,
          16.440000534057617,
          16.3799991607666,
          16.049999237060547,
          15.859999656677246,
          16.190000534057617,
          15.859999656677246,
          16.15999984741211,
          16.459999084472656,
          16.110000610351562,
          16.059999465942383,
          16.06999969482422,
          16.389999389648438,
          16.389999389648438,
          16.479999542236328,
          15.710000038146973,
          15.75,
          15.579999923706055,
          15.850000381469727,
          15.619999885559082,
          16.020000457763672,
          15.819999694824219,
          15.529999732971191,
          15.600000381469727,
          15.640000343322754,
          15.380000114440918,
          15.789999961853027,
          15.819999694824219,
          15.930000305175781,
          15.779999732971191,
          15.819999694824219,
          15.619999885559082,
          15.59000015258789,
          15.920000076293945,
          16.280000686645508,
          16.290000915527344,
          16.209999084472656,
          16.290000915527344,
          16.290000915527344,
          16.200000762939453,
          16.549999237060547,
          16.549999237060547,
          16.469999313354492,
          17.309999465942383,
          17.440000534057617,
          17.18000030517578,
          17.139999389648438,
          17.260000228881836,
          17.309999465942383,
          17.3700008392334,
          18.09000015258789,
          18.079999923706055,
          17.940000534057617,
          17.989999771118164,
          17.6299991607666,
          17.309999465942383,
          17.459999084472656,
          17.600000381469727,
          17.8700008392334,
          17.850000381469727,
          17.829999923706055,
          17.729999542236328,
          17.56999969482422,
          17.56999969482422,
          17.5,
          17.579999923706055,
          17.809999465942383,
          17.889999389648438,
          17.770000457763672,
          17.829999923706055,
          17.799999237060547,
          17.459999084472656,
          17.3799991607666,
          17.40999984741211,
          17.059999465942383,
          16.889999389648438,
          17.489999771118164,
          17.780000686645508,
          17.829999923706055,
          17.270000457763672,
          17.030000686645508,
          17.110000610351562,
          17.34000015258789,
          17.3799991607666,
          17.229999542236328,
          17.350000381469727,
          17.239999771118164,
          17.06999969482422
         ],
         "low": [
          17.68000030517578,
          17.290000915527344,
          16.780000686645508,
          16.8700008392334,
          17.100000381469727,
          16.950000762939453,
          16.65999984741211,
          16.31999969482422,
          15.770000457763672,
          15.149999618530273,
          14.970000267028809,
          15.199999809265137,
          15.149999618530273,
          15.430000305175781,
          15.729999542236328,
          15.699999809265137,
          15.479999542236328,
          15.180000305175781,
          15.199999809265137,
          15.149999618530273,
          15.119999885559082,
          15.609999656677246,
          15.75,
          15.899999618530273,
          16.219999313354492,
          16.25,
          16.350000381469727,
          16.209999084472656,
          16.3700008392334,
          16.540000915527344,
          16.3700008392334,
          16.239999771118164,
          16.079999923706055,
          16.010000228881836,
          16.100000381469727,
          16.25,
          16.31999969482422,
          15.899999618530273,
          15.619999885559082,
          15.720000267028809,
          15.960000038146973,
          15.760000228881836,
          15.75,
          16,
          16.1200008392334,
          15.789999961853027,
          15.869999885559082,
          15.899999618530273,
          15.9399995803833,
          15.850000381469727,
          15.960000038146973,
          15.90999984741211,
          15.609999656677246,
          15.640000343322754,
          15.720000267028809,
          15.609999656677246,
          15.399999618530273,
          15.260000228881836,
          15.270000457763672,
          15.399999618530273,
          15.380000114440918,
          15.25,
          15.430000305175781,
          15.34000015258789,
          15.449999809265137,
          15.5,
          15.529999732971191,
          15.600000381469727,
          15.739999771118164,
          15.710000038146973,
          15.59000015258789,
          15.579999923706055,
          15.5,
          15.5600004196167,
          15.430000305175781,
          15.489999771118164,
          15.680000305175781,
          15.609999656677246,
          15.5600004196167,
          15.5,
          15.569999694824219,
          15.800000190734863,
          15.920000076293945,
          16.1200008392334,
          16.329999923706055,
          16.079999923706055,
          16.09000015258789,
          16.219999313354492,
          16.43000030517578,
          16.350000381469727,
          16.360000610351562,
          16.450000762939453,
          16.299999237060547,
          16.309999465942383,
          16.579999923706055,
          16.6299991607666,
          16.559999465942383,
          16.700000762939453,
          16.43000030517578,
          16.540000915527344,
          16.579999923706055,
          16.469999313354492,
          16.469999313354492,
          16.5,
          16.670000076293945,
          16.719999313354492,
          16.969999313354492,
          17.049999237060547,
          17,
          17.360000610351562,
          17.440000534057617,
          17.360000610351562,
          17.25,
          17.3700008392334,
          17.299999237060547,
          17.219999313354492,
          17.1200008392334,
          17.350000381469727,
          17.559999465942383,
          17.450000762939453,
          17.350000381469727,
          17.350000381469727,
          16.860000610351562,
          16.850000381469727,
          17.09000015258789,
          16.889999389648438,
          16.709999084472656,
          16.34000015258789,
          16.219999313354492,
          16.450000762939453,
          16.65999984741211,
          16.899999618530273,
          16.860000610351562,
          17.489999771118164,
          17.860000610351562,
          17.889999389648438,
          18.079999923706055,
          18.020000457763672,
          18.030000686645508,
          18.079999923706055,
          17.84000015258789,
          17.5,
          17.600000381469727,
          17.920000076293945,
          18.049999237060547,
          17.860000610351562,
          17.639999389648438,
          17.709999084472656,
          17.799999237060547,
          17.770000457763672,
          17.600000381469727,
          17.860000610351562,
          17.719999313354492,
          17.020000457763672,
          17.440000534057617,
          17.540000915527344,
          17.559999465942383,
          17.649999618530273,
          17.440000534057617,
          16.719999313354492,
          16.100000381469727,
          14.600000381469727,
          15.25,
          15.34000015258789,
          16.09000015258789,
          16.200000762939453,
          16.18000030517578,
          15.460000038146973,
          15.569999694824219,
          15.869999885559082,
          15.5,
          15.899999618530273,
          15.829999923706055,
          15.8100004196167,
          15.899999618530273,
          15.899999618530273,
          16.010000228881836,
          16.09000015258789,
          15.779999732971191,
          15.5,
          15.569999694824219,
          15.449999809265137,
          15.579999923706055,
          15.399999618530273,
          15.8100004196167,
          15.380000114440918,
          15.25,
          15.319999694824219,
          15.359999656677246,
          14.630000114440918,
          15.4399995803833,
          15.569999694824219,
          15.569999694824219,
          15.510000228881836,
          15.5,
          15.430000305175781,
          15.399999618530273,
          15.550000190734863,
          15.720000267028809,
          16.030000686645508,
          15.979999542236328,
          16.100000381469727,
          15.899999618530273,
          16,
          16.25,
          16.34000015258789,
          16.299999237060547,
          16.450000762939453,
          16.969999313354492,
          16.760000228881836,
          16.8700008392334,
          16.989999771118164,
          16.959999084472656,
          17.030000686645508,
          17.760000228881836,
          17.559999465942383,
          17.559999465942383,
          17.68000030517578,
          17.350000381469727,
          17.09000015258789,
          17.010000228881836,
          17.34000015258789,
          17.43000030517578,
          17.6200008392334,
          17.59000015258789,
          17.459999084472656,
          17.25,
          17.40999984741211,
          17.329999923706055,
          17.420000076293945,
          17.479999542236328,
          17.549999237060547,
          17.25,
          17.3799991607666,
          17.440000534057617,
          17.1299991607666,
          16.8700008392334,
          16.959999084472656,
          16.639999389648438,
          16.5,
          16.989999771118164,
          17.229999542236328,
          17.299999237060547,
          16.760000228881836,
          16.770000457763672,
          16.850000381469727,
          17.100000381469727,
          17.219999313354492,
          16.979999542236328,
          17.15999984741211,
          17.040000915527344,
          16.829999923706055
         ],
         "open": [
          17.989999771118164,
          17.790000915527344,
          17.420000076293945,
          17.139999389648438,
          17.15999984741211,
          17.3799991607666,
          17.020000457763672,
          16.81999969482422,
          16,
          15.59000015258789,
          15.15999984741211,
          15.59000015258789,
          15.279999732971191,
          15.550000190734863,
          16.040000915527344,
          15.720000267028809,
          15.550000190734863,
          15.720000267028809,
          15.3100004196167,
          15.229999542236328,
          15.270000457763672,
          15.619999885559082,
          15.789999961853027,
          15.979999542236328,
          16.299999237060547,
          16.350000381469727,
          16.559999465942383,
          16.329999923706055,
          16.40999984741211,
          16.729999542236328,
          16.520000457763672,
          16.549999237060547,
          16.209999084472656,
          16.139999389648438,
          16.31999969482422,
          16.270000457763672,
          16.3700008392334,
          16.420000076293945,
          15.779999732971191,
          15.789999961853027,
          16.030000686645508,
          15.960000038146973,
          15.920000076293945,
          16,
          16.309999465942383,
          16.040000915527344,
          15.920000076293945,
          16.049999237060547,
          16.079999923706055,
          16.110000610351562,
          16.06999969482422,
          16.010000228881836,
          15.960000038146973,
          15.699999809265137,
          15.819999694824219,
          15.729999542236328,
          15.630000114440918,
          15.390000343322754,
          15.479999542236328,
          15.420000076293945,
          15.5,
          15.420000076293945,
          15.430000305175781,
          15.390000343322754,
          15.529999732971191,
          15.510000228881836,
          15.630000114440918,
          15.6899995803833,
          15.779999732971191,
          15.880000114440918,
          15.699999809265137,
          15.640000343322754,
          15.710000038146973,
          15.619999885559082,
          15.600000381469727,
          15.550000190734863,
          15.720000267028809,
          15.710000038146973,
          15.630000114440918,
          15.579999923706055,
          15.600000381469727,
          16,
          16,
          16.139999389648438,
          16.420000076293945,
          16.360000610351562,
          16.229999542236328,
          16.31999969482422,
          16.450000762939453,
          16.459999084472656,
          16.440000534057617,
          16.530000686645508,
          16.520000457763672,
          16.309999465942383,
          16.59000015258789,
          16.780000686645508,
          16.709999084472656,
          16.719999313354492,
          16.729999542236328,
          16.559999465942383,
          16.719999313354492,
          16.65999984741211,
          16.579999923706055,
          16.520000457763672,
          16.670000076293945,
          16.8700008392334,
          17.040000915527344,
          17.270000457763672,
          17.049999237060547,
          17.389999389648438,
          17.6200008392334,
          17.450000762939453,
          17.329999923706055,
          17.459999084472656,
          17.59000015258789,
          17.350000381469727,
          17.280000686645508,
          17.360000610351562,
          17.559999465942383,
          17.530000686645508,
          17.56999969482422,
          17.479999542236328,
          17.1299991607666,
          17.079999923706055,
          17.25,
          17.15999984741211,
          16.780000686645508,
          16.899999618530273,
          16.420000076293945,
          16.530000686645508,
          16.799999237060547,
          16.969999313354492,
          16.93000030517578,
          17.530000686645508,
          17.90999984741211,
          17.959999084472656,
          18.149999618530273,
          18.110000610351562,
          18.030000686645508,
          18.389999389648438,
          18.18000030517578,
          17.65999984741211,
          17.790000915527344,
          17.950000762939453,
          18.200000762939453,
          18.030000686645508,
          17.90999984741211,
          17.790000915527344,
          17.93000030517578,
          17.90999984741211,
          17.920000076293945,
          17.8700008392334,
          17.850000381469727,
          17.6200008392334,
          17.559999465942383,
          17.56999969482422,
          17.610000610351562,
          17.719999313354492,
          17.549999237060547,
          17.190000534057617,
          16.200000762939453,
          15.020000457763672,
          16.200000762939453,
          15.8100004196167,
          16.3799991607666,
          16.399999618530273,
          16.329999923706055,
          15.949999809265137,
          15.819999694824219,
          15.970000267028809,
          15.789999961853027,
          15.960000038146973,
          16.3700008392334,
          15.869999885559082,
          15.989999771118164,
          15.970000267028809,
          16.040000915527344,
          16.350000381469727,
          16.290000915527344,
          15.680000305175781,
          15.670000076293945,
          15.489999771118164,
          15.600000381469727,
          15.539999961853027,
          15.880000114440918,
          15.789999961853027,
          15.5,
          15.550000190734863,
          15.520000457763672,
          15.079999923706055,
          15.449999809265137,
          15.680000305175781,
          15.779999732971191,
          15.720000267028809,
          15.75,
          15.600000381469727,
          15.449999809265137,
          15.770000457763672,
          15.8100004196167,
          16.290000915527344,
          16,
          16.15999984741211,
          16.260000228881836,
          16,
          16.290000915527344,
          16.520000457763672,
          16.399999618530273,
          16.450000762939453,
          17.15999984741211,
          17.18000030517578,
          16.899999618530273,
          17.010000228881836,
          17.299999237060547,
          17.030000686645508,
          17.84000015258789,
          18.030000686645508,
          17.6299991607666,
          17.989999771118164,
          17.579999923706055,
          17.1299991607666,
          17.1299991607666,
          17.5,
          17.43000030517578,
          17.780000686645508,
          17.809999465942383,
          17.6200008392334,
          17.260000228881836,
          17.510000228881836,
          17.459999084472656,
          17.479999542236328,
          17.520000457763672,
          17.8799991607666,
          17.68000030517578,
          17.440000534057617,
          17.790000915527344,
          17.389999389648438,
          17.110000610351562,
          17.149999618530273,
          16.969999313354492,
          16.760000228881836,
          17.020000457763672,
          17.649999618530273,
          17.799999237060547,
          17.190000534057617,
          16.979999542236328,
          17.049999237060547,
          17.15999984741211,
          17.31999969482422,
          17.219999313354492,
          17.25,
          17.200000762939453,
          17.010000228881836
         ],
         "showlegend": false,
         "type": "candlestick",
         "x": [
          "2015-01-02",
          "2015-01-05",
          "2015-01-06",
          "2015-01-07",
          "2015-01-08",
          "2015-01-09",
          "2015-01-12",
          "2015-01-13",
          "2015-01-14",
          "2015-01-15",
          "2015-01-16",
          "2015-01-20",
          "2015-01-21",
          "2015-01-22",
          "2015-01-23",
          "2015-01-26",
          "2015-01-27",
          "2015-01-28",
          "2015-01-29",
          "2015-01-30",
          "2015-02-02",
          "2015-02-03",
          "2015-02-04",
          "2015-02-05",
          "2015-02-06",
          "2015-02-09",
          "2015-02-10",
          "2015-02-11",
          "2015-02-12",
          "2015-02-13",
          "2015-02-17",
          "2015-02-18",
          "2015-02-19",
          "2015-02-20",
          "2015-02-23",
          "2015-02-24",
          "2015-02-25",
          "2015-02-26",
          "2015-02-27",
          "2015-03-02",
          "2015-03-03",
          "2015-03-04",
          "2015-03-05",
          "2015-03-06",
          "2015-03-09",
          "2015-03-10",
          "2015-03-11",
          "2015-03-12",
          "2015-03-13",
          "2015-03-16",
          "2015-03-17",
          "2015-03-18",
          "2015-03-19",
          "2015-03-20",
          "2015-03-23",
          "2015-03-24",
          "2015-03-25",
          "2015-03-26",
          "2015-03-27",
          "2015-03-30",
          "2015-03-31",
          "2015-04-01",
          "2015-04-02",
          "2015-04-06",
          "2015-04-07",
          "2015-04-08",
          "2015-04-09",
          "2015-04-10",
          "2015-04-13",
          "2015-04-14",
          "2015-04-15",
          "2015-04-16",
          "2015-04-17",
          "2015-04-20",
          "2015-04-21",
          "2015-04-22",
          "2015-04-23",
          "2015-04-24",
          "2015-04-27",
          "2015-04-28",
          "2015-04-29",
          "2015-04-30",
          "2015-05-01",
          "2015-05-04",
          "2015-05-05",
          "2015-05-06",
          "2015-05-07",
          "2015-05-08",
          "2015-05-11",
          "2015-05-12",
          "2015-05-13",
          "2015-05-14",
          "2015-05-15",
          "2015-05-18",
          "2015-05-19",
          "2015-05-20",
          "2015-05-21",
          "2015-05-22",
          "2015-05-26",
          "2015-05-27",
          "2015-05-28",
          "2015-05-29",
          "2015-06-01",
          "2015-06-02",
          "2015-06-03",
          "2015-06-04",
          "2015-06-05",
          "2015-06-08",
          "2015-06-09",
          "2015-06-10",
          "2015-06-11",
          "2015-06-12",
          "2015-06-15",
          "2015-06-16",
          "2015-06-17",
          "2015-06-18",
          "2015-06-19",
          "2015-06-22",
          "2015-06-23",
          "2015-06-24",
          "2015-06-25",
          "2015-06-26",
          "2015-06-29",
          "2015-06-30",
          "2015-07-01",
          "2015-07-02",
          "2015-07-06",
          "2015-07-07",
          "2015-07-08",
          "2015-07-09",
          "2015-07-10",
          "2015-07-13",
          "2015-07-14",
          "2015-07-15",
          "2015-07-16",
          "2015-07-17",
          "2015-07-20",
          "2015-07-21",
          "2015-07-22",
          "2015-07-23",
          "2015-07-24",
          "2015-07-27",
          "2015-07-28",
          "2015-07-29",
          "2015-07-30",
          "2015-07-31",
          "2015-08-03",
          "2015-08-04",
          "2015-08-05",
          "2015-08-06",
          "2015-08-07",
          "2015-08-10",
          "2015-08-11",
          "2015-08-12",
          "2015-08-13",
          "2015-08-14",
          "2015-08-17",
          "2015-08-18",
          "2015-08-19",
          "2015-08-20",
          "2015-08-21",
          "2015-08-24",
          "2015-08-25",
          "2015-08-26",
          "2015-08-27",
          "2015-08-28",
          "2015-08-31",
          "2015-09-01",
          "2015-09-02",
          "2015-09-03",
          "2015-09-04",
          "2015-09-08",
          "2015-09-09",
          "2015-09-10",
          "2015-09-11",
          "2015-09-14",
          "2015-09-15",
          "2015-09-16",
          "2015-09-17",
          "2015-09-18",
          "2015-09-21",
          "2015-09-22",
          "2015-09-23",
          "2015-09-24",
          "2015-09-25",
          "2015-09-28",
          "2015-09-29",
          "2015-09-30",
          "2015-10-01",
          "2015-10-02",
          "2015-10-05",
          "2015-10-06",
          "2015-10-07",
          "2015-10-08",
          "2015-10-09",
          "2015-10-12",
          "2015-10-13",
          "2015-10-14",
          "2015-10-15",
          "2015-10-16",
          "2015-10-19",
          "2015-10-20",
          "2015-10-21",
          "2015-10-22",
          "2015-10-23",
          "2015-10-26",
          "2015-10-27",
          "2015-10-28",
          "2015-10-29",
          "2015-10-30",
          "2015-11-02",
          "2015-11-03",
          "2015-11-04",
          "2015-11-05",
          "2015-11-06",
          "2015-11-09",
          "2015-11-10",
          "2015-11-11",
          "2015-11-12",
          "2015-11-13",
          "2015-11-16",
          "2015-11-17",
          "2015-11-18",
          "2015-11-19",
          "2015-11-20",
          "2015-11-23",
          "2015-11-24",
          "2015-11-25",
          "2015-11-27",
          "2015-11-30",
          "2015-12-01",
          "2015-12-02",
          "2015-12-03",
          "2015-12-04",
          "2015-12-07",
          "2015-12-08",
          "2015-12-09",
          "2015-12-10",
          "2015-12-11",
          "2015-12-14",
          "2015-12-15",
          "2015-12-16",
          "2015-12-17",
          "2015-12-18",
          "2015-12-21",
          "2015-12-22",
          "2015-12-23",
          "2015-12-24",
          "2015-12-28",
          "2015-12-29",
          "2015-12-30",
          "2015-12-31"
         ],
         "yaxis": "y2"
        }
       ],
       "layout": {
        "legend": {
         "bgcolor": "#F5F6F9",
         "font": {
          "color": "#4D5663"
         }
        },
        "paper_bgcolor": "#F5F6F9",
        "plot_bgcolor": "#F5F6F9",
        "template": {
         "data": {
          "bar": [
           {
            "error_x": {
             "color": "#2a3f5f"
            },
            "error_y": {
             "color": "#2a3f5f"
            },
            "marker": {
             "line": {
              "color": "#E5ECF6",
              "width": 0.5
             },
             "pattern": {
              "fillmode": "overlay",
              "size": 10,
              "solidity": 0.2
             }
            },
            "type": "bar"
           }
          ],
          "barpolar": [
           {
            "marker": {
             "line": {
              "color": "#E5ECF6",
              "width": 0.5
             },
             "pattern": {
              "fillmode": "overlay",
              "size": 10,
              "solidity": 0.2
             }
            },
            "type": "barpolar"
           }
          ],
          "carpet": [
           {
            "aaxis": {
             "endlinecolor": "#2a3f5f",
             "gridcolor": "white",
             "linecolor": "white",
             "minorgridcolor": "white",
             "startlinecolor": "#2a3f5f"
            },
            "baxis": {
             "endlinecolor": "#2a3f5f",
             "gridcolor": "white",
             "linecolor": "white",
             "minorgridcolor": "white",
             "startlinecolor": "#2a3f5f"
            },
            "type": "carpet"
           }
          ],
          "choropleth": [
           {
            "colorbar": {
             "outlinewidth": 0,
             "ticks": ""
            },
            "type": "choropleth"
           }
          ],
          "contour": [
           {
            "colorbar": {
             "outlinewidth": 0,
             "ticks": ""
            },
            "colorscale": [
             [
              0,
              "#0d0887"
             ],
             [
              0.1111111111111111,
              "#46039f"
             ],
             [
              0.2222222222222222,
              "#7201a8"
             ],
             [
              0.3333333333333333,
              "#9c179e"
             ],
             [
              0.4444444444444444,
              "#bd3786"
             ],
             [
              0.5555555555555556,
              "#d8576b"
             ],
             [
              0.6666666666666666,
              "#ed7953"
             ],
             [
              0.7777777777777778,
              "#fb9f3a"
             ],
             [
              0.8888888888888888,
              "#fdca26"
             ],
             [
              1,
              "#f0f921"
             ]
            ],
            "type": "contour"
           }
          ],
          "contourcarpet": [
           {
            "colorbar": {
             "outlinewidth": 0,
             "ticks": ""
            },
            "type": "contourcarpet"
           }
          ],
          "heatmap": [
           {
            "colorbar": {
             "outlinewidth": 0,
             "ticks": ""
            },
            "colorscale": [
             [
              0,
              "#0d0887"
             ],
             [
              0.1111111111111111,
              "#46039f"
             ],
             [
              0.2222222222222222,
              "#7201a8"
             ],
             [
              0.3333333333333333,
              "#9c179e"
             ],
             [
              0.4444444444444444,
              "#bd3786"
             ],
             [
              0.5555555555555556,
              "#d8576b"
             ],
             [
              0.6666666666666666,
              "#ed7953"
             ],
             [
              0.7777777777777778,
              "#fb9f3a"
             ],
             [
              0.8888888888888888,
              "#fdca26"
             ],
             [
              1,
              "#f0f921"
             ]
            ],
            "type": "heatmap"
           }
          ],
          "heatmapgl": [
           {
            "colorbar": {
             "outlinewidth": 0,
             "ticks": ""
            },
            "colorscale": [
             [
              0,
              "#0d0887"
             ],
             [
              0.1111111111111111,
              "#46039f"
             ],
             [
              0.2222222222222222,
              "#7201a8"
             ],
             [
              0.3333333333333333,
              "#9c179e"
             ],
             [
              0.4444444444444444,
              "#bd3786"
             ],
             [
              0.5555555555555556,
              "#d8576b"
             ],
             [
              0.6666666666666666,
              "#ed7953"
             ],
             [
              0.7777777777777778,
              "#fb9f3a"
             ],
             [
              0.8888888888888888,
              "#fdca26"
             ],
             [
              1,
              "#f0f921"
             ]
            ],
            "type": "heatmapgl"
           }
          ],
          "histogram": [
           {
            "marker": {
             "pattern": {
              "fillmode": "overlay",
              "size": 10,
              "solidity": 0.2
             }
            },
            "type": "histogram"
           }
          ],
          "histogram2d": [
           {
            "colorbar": {
             "outlinewidth": 0,
             "ticks": ""
            },
            "colorscale": [
             [
              0,
              "#0d0887"
             ],
             [
              0.1111111111111111,
              "#46039f"
             ],
             [
              0.2222222222222222,
              "#7201a8"
             ],
             [
              0.3333333333333333,
              "#9c179e"
             ],
             [
              0.4444444444444444,
              "#bd3786"
             ],
             [
              0.5555555555555556,
              "#d8576b"
             ],
             [
              0.6666666666666666,
              "#ed7953"
             ],
             [
              0.7777777777777778,
              "#fb9f3a"
             ],
             [
              0.8888888888888888,
              "#fdca26"
             ],
             [
              1,
              "#f0f921"
             ]
            ],
            "type": "histogram2d"
           }
          ],
          "histogram2dcontour": [
           {
            "colorbar": {
             "outlinewidth": 0,
             "ticks": ""
            },
            "colorscale": [
             [
              0,
              "#0d0887"
             ],
             [
              0.1111111111111111,
              "#46039f"
             ],
             [
              0.2222222222222222,
              "#7201a8"
             ],
             [
              0.3333333333333333,
              "#9c179e"
             ],
             [
              0.4444444444444444,
              "#bd3786"
             ],
             [
              0.5555555555555556,
              "#d8576b"
             ],
             [
              0.6666666666666666,
              "#ed7953"
             ],
             [
              0.7777777777777778,
              "#fb9f3a"
             ],
             [
              0.8888888888888888,
              "#fdca26"
             ],
             [
              1,
              "#f0f921"
             ]
            ],
            "type": "histogram2dcontour"
           }
          ],
          "mesh3d": [
           {
            "colorbar": {
             "outlinewidth": 0,
             "ticks": ""
            },
            "type": "mesh3d"
           }
          ],
          "parcoords": [
           {
            "line": {
             "colorbar": {
              "outlinewidth": 0,
              "ticks": ""
             }
            },
            "type": "parcoords"
           }
          ],
          "pie": [
           {
            "automargin": true,
            "type": "pie"
           }
          ],
          "scatter": [
           {
            "marker": {
             "colorbar": {
              "outlinewidth": 0,
              "ticks": ""
             }
            },
            "type": "scatter"
           }
          ],
          "scatter3d": [
           {
            "line": {
             "colorbar": {
              "outlinewidth": 0,
              "ticks": ""
             }
            },
            "marker": {
             "colorbar": {
              "outlinewidth": 0,
              "ticks": ""
             }
            },
            "type": "scatter3d"
           }
          ],
          "scattercarpet": [
           {
            "marker": {
             "colorbar": {
              "outlinewidth": 0,
              "ticks": ""
             }
            },
            "type": "scattercarpet"
           }
          ],
          "scattergeo": [
           {
            "marker": {
             "colorbar": {
              "outlinewidth": 0,
              "ticks": ""
             }
            },
            "type": "scattergeo"
           }
          ],
          "scattergl": [
           {
            "marker": {
             "colorbar": {
              "outlinewidth": 0,
              "ticks": ""
             }
            },
            "type": "scattergl"
           }
          ],
          "scattermapbox": [
           {
            "marker": {
             "colorbar": {
              "outlinewidth": 0,
              "ticks": ""
             }
            },
            "type": "scattermapbox"
           }
          ],
          "scatterpolar": [
           {
            "marker": {
             "colorbar": {
              "outlinewidth": 0,
              "ticks": ""
             }
            },
            "type": "scatterpolar"
           }
          ],
          "scatterpolargl": [
           {
            "marker": {
             "colorbar": {
              "outlinewidth": 0,
              "ticks": ""
             }
            },
            "type": "scatterpolargl"
           }
          ],
          "scatterternary": [
           {
            "marker": {
             "colorbar": {
              "outlinewidth": 0,
              "ticks": ""
             }
            },
            "type": "scatterternary"
           }
          ],
          "surface": [
           {
            "colorbar": {
             "outlinewidth": 0,
             "ticks": ""
            },
            "colorscale": [
             [
              0,
              "#0d0887"
             ],
             [
              0.1111111111111111,
              "#46039f"
             ],
             [
              0.2222222222222222,
              "#7201a8"
             ],
             [
              0.3333333333333333,
              "#9c179e"
             ],
             [
              0.4444444444444444,
              "#bd3786"
             ],
             [
              0.5555555555555556,
              "#d8576b"
             ],
             [
              0.6666666666666666,
              "#ed7953"
             ],
             [
              0.7777777777777778,
              "#fb9f3a"
             ],
             [
              0.8888888888888888,
              "#fdca26"
             ],
             [
              1,
              "#f0f921"
             ]
            ],
            "type": "surface"
           }
          ],
          "table": [
           {
            "cells": {
             "fill": {
              "color": "#EBF0F8"
             },
             "line": {
              "color": "white"
             }
            },
            "header": {
             "fill": {
              "color": "#C8D4E3"
             },
             "line": {
              "color": "white"
             }
            },
            "type": "table"
           }
          ]
         },
         "layout": {
          "annotationdefaults": {
           "arrowcolor": "#2a3f5f",
           "arrowhead": 0,
           "arrowwidth": 1
          },
          "autotypenumbers": "strict",
          "coloraxis": {
           "colorbar": {
            "outlinewidth": 0,
            "ticks": ""
           }
          },
          "colorscale": {
           "diverging": [
            [
             0,
             "#8e0152"
            ],
            [
             0.1,
             "#c51b7d"
            ],
            [
             0.2,
             "#de77ae"
            ],
            [
             0.3,
             "#f1b6da"
            ],
            [
             0.4,
             "#fde0ef"
            ],
            [
             0.5,
             "#f7f7f7"
            ],
            [
             0.6,
             "#e6f5d0"
            ],
            [
             0.7,
             "#b8e186"
            ],
            [
             0.8,
             "#7fbc41"
            ],
            [
             0.9,
             "#4d9221"
            ],
            [
             1,
             "#276419"
            ]
           ],
           "sequential": [
            [
             0,
             "#0d0887"
            ],
            [
             0.1111111111111111,
             "#46039f"
            ],
            [
             0.2222222222222222,
             "#7201a8"
            ],
            [
             0.3333333333333333,
             "#9c179e"
            ],
            [
             0.4444444444444444,
             "#bd3786"
            ],
            [
             0.5555555555555556,
             "#d8576b"
            ],
            [
             0.6666666666666666,
             "#ed7953"
            ],
            [
             0.7777777777777778,
             "#fb9f3a"
            ],
            [
             0.8888888888888888,
             "#fdca26"
            ],
            [
             1,
             "#f0f921"
            ]
           ],
           "sequentialminus": [
            [
             0,
             "#0d0887"
            ],
            [
             0.1111111111111111,
             "#46039f"
            ],
            [
             0.2222222222222222,
             "#7201a8"
            ],
            [
             0.3333333333333333,
             "#9c179e"
            ],
            [
             0.4444444444444444,
             "#bd3786"
            ],
            [
             0.5555555555555556,
             "#d8576b"
            ],
            [
             0.6666666666666666,
             "#ed7953"
            ],
            [
             0.7777777777777778,
             "#fb9f3a"
            ],
            [
             0.8888888888888888,
             "#fdca26"
            ],
            [
             1,
             "#f0f921"
            ]
           ]
          },
          "colorway": [
           "#636efa",
           "#EF553B",
           "#00cc96",
           "#ab63fa",
           "#FFA15A",
           "#19d3f3",
           "#FF6692",
           "#B6E880",
           "#FF97FF",
           "#FECB52"
          ],
          "font": {
           "color": "#2a3f5f"
          },
          "geo": {
           "bgcolor": "white",
           "lakecolor": "white",
           "landcolor": "#E5ECF6",
           "showlakes": true,
           "showland": true,
           "subunitcolor": "white"
          },
          "hoverlabel": {
           "align": "left"
          },
          "hovermode": "closest",
          "mapbox": {
           "style": "light"
          },
          "paper_bgcolor": "white",
          "plot_bgcolor": "#E5ECF6",
          "polar": {
           "angularaxis": {
            "gridcolor": "white",
            "linecolor": "white",
            "ticks": ""
           },
           "bgcolor": "#E5ECF6",
           "radialaxis": {
            "gridcolor": "white",
            "linecolor": "white",
            "ticks": ""
           }
          },
          "scene": {
           "xaxis": {
            "backgroundcolor": "#E5ECF6",
            "gridcolor": "white",
            "gridwidth": 2,
            "linecolor": "white",
            "showbackground": true,
            "ticks": "",
            "zerolinecolor": "white"
           },
           "yaxis": {
            "backgroundcolor": "#E5ECF6",
            "gridcolor": "white",
            "gridwidth": 2,
            "linecolor": "white",
            "showbackground": true,
            "ticks": "",
            "zerolinecolor": "white"
           },
           "zaxis": {
            "backgroundcolor": "#E5ECF6",
            "gridcolor": "white",
            "gridwidth": 2,
            "linecolor": "white",
            "showbackground": true,
            "ticks": "",
            "zerolinecolor": "white"
           }
          },
          "shapedefaults": {
           "line": {
            "color": "#2a3f5f"
           }
          },
          "ternary": {
           "aaxis": {
            "gridcolor": "white",
            "linecolor": "white",
            "ticks": ""
           },
           "baxis": {
            "gridcolor": "white",
            "linecolor": "white",
            "ticks": ""
           },
           "bgcolor": "#E5ECF6",
           "caxis": {
            "gridcolor": "white",
            "linecolor": "white",
            "ticks": ""
           }
          },
          "title": {
           "x": 0.05
          },
          "xaxis": {
           "automargin": true,
           "gridcolor": "white",
           "linecolor": "white",
           "ticks": "",
           "title": {
            "standoff": 15
           },
           "zerolinecolor": "white",
           "zerolinewidth": 2
          },
          "yaxis": {
           "automargin": true,
           "gridcolor": "white",
           "linecolor": "white",
           "ticks": "",
           "title": {
            "standoff": 15
           },
           "zerolinecolor": "white",
           "zerolinewidth": 2
          }
         }
        },
        "title": {
         "font": {
          "color": "#4D5663"
         }
        },
        "xaxis": {
         "gridcolor": "#E1E5ED",
         "rangeslider": {
          "visible": false
         },
         "showgrid": true,
         "tickfont": {
          "color": "#4D5663"
         },
         "title": {
          "font": {
           "color": "#4D5663"
          },
          "text": ""
         },
         "zerolinecolor": "#E1E5ED"
        },
        "yaxis": {
         "gridcolor": "#E1E5ED",
         "showgrid": true,
         "showticklabels": false,
         "tickfont": {
          "color": "#4D5663"
         },
         "title": {
          "font": {
           "color": "#4D5663"
          },
          "text": ""
         },
         "zerolinecolor": "#E1E5ED"
        },
        "yaxis2": {
         "gridcolor": "#E1E5ED",
         "showgrid": true,
         "tickfont": {
          "color": "#4D5663"
         },
         "title": {
          "font": {
           "color": "#4D5663"
          },
          "text": ""
         },
         "zerolinecolor": "#E1E5ED"
        }
       }
      },
      "text/html": [
       "<div>                            <div id=\"681e53e8-e3af-4ab3-a18a-c0b01b1da5ff\" class=\"plotly-graph-div\" style=\"height:525px; width:100%;\"></div>            <script type=\"text/javascript\">                require([\"plotly\"], function(Plotly) {                    window.PLOTLYENV=window.PLOTLYENV || {};\n",
       "                    window.PLOTLYENV.BASE_URL='https://plot.ly';                                    if (document.getElementById(\"681e53e8-e3af-4ab3-a18a-c0b01b1da5ff\")) {                    Plotly.newPlot(                        \"681e53e8-e3af-4ab3-a18a-c0b01b1da5ff\",                        [{\"close\":[17.899999618530273,17.3799991607666,16.860000610351562,16.940000534057617,17.290000915527344,16.979999542236328,16.68000030517578,16.450000762939453,16.040000915527344,15.199999809265137,15.380000114440918,15.260000228881836,15.40999984741211,16.09000015258789,15.729999542236328,15.850000381469727,15.630000114440918,15.199999809265137,15.430000305175781,15.149999618530273,15.460000038146973,15.890000343322754,15.789999961853027,15.970000267028809,16.489999771118164,16.350000381469727,16.420000076293945,16.360000610351562,16.670000076293945,16.610000610351562,16.6299991607666,16.299999237060547,16.209999084472656,16.3799991607666,16.200000762939453,16.3799991607666,16.489999771118164,16.040000915527344,15.8100004196167,16.010000228881836,16.040000915527344,15.84000015258789,16.0,16.219999313354492,16.170000076293945,15.789999961853027,16.110000610351562,16.09000015258789,16.09000015258789,16.1299991607666,16.09000015258789,15.979999542236328,15.609999656677246,15.84000015258789,15.720000267028809,15.609999656677246,15.40999984741211,15.420000076293945,15.3100004196167,15.520000457763672,15.390000343322754,15.40999984741211,15.539999961853027,15.510000228881836,15.460000038146973,15.609999656677246,15.710000038146973,15.720000267028809,15.800000190734863,15.819999694824219,15.640000343322754,15.789999961853027,15.5600004196167,15.569999694824219,15.5,15.739999771118164,15.6899995803833,15.640000343322754,15.5600004196167,15.649999618530273,15.979999542236328,15.930000305175781,16.110000610351562,16.440000534057617,16.350000381469727,16.290000915527344,16.239999771118164,16.450000762939453,16.489999771118164,16.43000030517578,16.469999313354492,16.520000457763672,16.350000381469727,16.510000228881836,16.770000457763672,16.739999771118164,16.729999542236328,16.75,16.5,16.739999771118164,16.670000076293945,16.5,16.549999237060547,16.719999313354492,16.93000030517578,16.780000686645508,17.190000534057617,17.079999923706055,17.309999465942383,17.59000015258789,17.489999771118164,17.489999771118164,17.469999313354492,17.549999237060547,17.3700008392334,17.3799991607666,17.170000076293945,17.469999313354492,17.670000076293945,17.489999771118164,17.3700008392334,17.40999984741211,16.889999389648438,17.020000457763672,17.219999313354492,17.030000686645508,16.940000534057617,16.690000534057617,16.25,16.479999542236328,16.700000762939453,17.020000457763672,17.1299991607666,17.68000030517578,17.950000762939453,18.100000381469727,18.1200008392334,18.079999923706055,18.450000762939453,18.18000030517578,17.899999618530273,17.670000076293945,17.8799991607666,18.15999984741211,18.1299991607666,17.8799991607666,17.770000457763672,17.799999237060547,17.8700008392334,17.809999465942383,17.75,18.040000915527344,17.790000915527344,17.520000457763672,17.6200008392334,17.700000762939453,17.770000457763672,17.690000534057617,17.459999084472656,16.719999313354492,16.100000381469727,15.289999961853027,15.260000228881836,16.059999465942383,16.440000534057617,16.360000610351562,16.34000015258789,15.579999923706055,15.850000381469727,15.9399995803833,15.649999618530273,16.15999984741211,15.899999618530273,16.040000915527344,16.040000915527344,15.960000038146973,16.309999465942383,16.329999923706055,15.859999656677246,15.5600004196167,15.699999809265137,15.569999694824219,15.720000267028809,15.550000190734863,15.890000343322754,15.470000267028809,15.350000381469727,15.579999923706055,15.550000190734863,15.380000114440918,15.6899995803833,15.6899995803833,15.75,15.75,15.579999923706055,15.520000457763672,15.520000457763672,15.640000343322754,16.190000534057617,16.1200008392334,16.139999389648438,16.200000762939453,15.899999618530273,16.15999984741211,16.520000457763672,16.510000228881836,16.399999618530273,17.280000686645508,17.09000015258789,16.780000686645508,17.059999465942383,17.18000030517578,17.010000228881836,17.309999465942383,17.950000762939453,17.68000030517578,17.850000381469727,17.75,17.3700008392334,17.200000762939453,17.43000030517578,17.420000076293945,17.84000015258789,17.690000534057617,17.649999618530273,17.469999313354492,17.469999313354492,17.440000534057617,17.479999542236328,17.43000030517578,17.809999465942383,17.6200008392334,17.299999237060547,17.799999237060547,17.540000915527344,17.190000534057617,17.100000381469727,17.200000762939453,16.729999542236328,16.799999237060547,17.420000076293945,17.75,17.299999237060547,16.760000228881836,16.969999313354492,17.079999923706055,17.34000015258789,17.270000457763672,17.1299991607666,17.280000686645508,17.049999237060547,16.829999923706055],\"high\":[18.030000686645508,17.809999465942383,17.440000534057617,17.18000030517578,17.34000015258789,17.3799991607666,17.030000686645508,16.889999389648438,16.219999313354492,15.760000228881836,15.399999618530273,15.630000114440918,15.569999694824219,16.190000534057617,16.190000534057617,15.930000305175781,15.789999961853027,15.729999542236328,15.489999771118164,15.470000267028809,15.489999771118164,15.930000305175781,16.0,16.09000015258789,16.75,16.5,16.6200008392334,16.450000762939453,16.729999542236328,16.790000915527344,16.68000030517578,16.559999465942383,16.3799991607666,16.43000030517578,16.31999969482422,16.549999237060547,16.5,16.440000534057617,15.880000114440918,16.030000686645508,16.149999618530273,15.979999542236328,16.030000686645508,16.6200008392334,16.329999923706055,16.1299991607666,16.15999984741211,16.209999084472656,16.149999618530273,16.219999313354492,16.1200008392334,16.100000381469727,15.970000267028809,15.930000305175781,15.880000114440918,15.800000190734863,15.649999618530273,15.539999961853027,15.489999771118164,15.609999656677246,15.520000457763672,15.460000038146973,15.619999885559082,15.600000381469727,15.649999618530273,15.739999771118164,15.760000228881836,15.789999961853027,15.859999656677246,15.949999809265137,15.850000381469727,15.9399995803833,15.75,15.6899995803833,15.640000343322754,15.829999923706055,15.800000190734863,15.75,15.760000228881836,15.710000038146973,16.040000915527344,16.049999237060547,16.149999618530273,16.450000762939453,16.610000610351562,16.489999771118164,16.329999923706055,16.459999084472656,16.59000015258789,16.479999542236328,16.520000457763672,16.59000015258789,16.520000457763672,16.540000915527344,16.780000686645508,16.850000381469727,16.75,16.799999237060547,16.729999542236328,16.75,16.729999542236328,16.670000076293945,16.639999389648438,16.760000228881836,17.020000457763672,16.979999542236328,17.350000381469727,17.329999923706055,17.350000381469727,17.6200008392334,17.68000030517578,17.579999923706055,17.5,17.559999465942383,17.600000381469727,17.399999618530273,17.389999389648438,17.530000686645508,17.719999313354492,17.690000534057617,17.6200008392334,17.520000457763672,17.25,17.1299991607666,17.309999465942383,17.209999084472656,17.010000228881836,16.93000030517578,16.5,16.719999313354492,16.84000015258789,17.049999237060547,17.149999618530273,17.850000381469727,18.06999969482422,18.15999984741211,18.229999542236328,18.170000076293945,18.479999542236328,18.43000030517578,18.229999542236328,17.780000686645508,17.889999389648438,18.200000762939453,18.290000915527344,18.059999465942383,17.969999313354492,17.93000030517578,18.049999237060547,17.979999542236328,18.06999969482422,18.049999237060547,17.969999313354492,17.649999618530273,17.690000534057617,17.700000762939453,17.809999465942383,17.899999618530273,17.690000534057617,17.200000762939453,16.65999984741211,15.979999542236328,16.200000762939453,16.059999465942383,16.450000762939453,16.440000534057617,16.3799991607666,16.049999237060547,15.859999656677246,16.190000534057617,15.859999656677246,16.15999984741211,16.459999084472656,16.110000610351562,16.059999465942383,16.06999969482422,16.389999389648438,16.389999389648438,16.479999542236328,15.710000038146973,15.75,15.579999923706055,15.850000381469727,15.619999885559082,16.020000457763672,15.819999694824219,15.529999732971191,15.600000381469727,15.640000343322754,15.380000114440918,15.789999961853027,15.819999694824219,15.930000305175781,15.779999732971191,15.819999694824219,15.619999885559082,15.59000015258789,15.920000076293945,16.280000686645508,16.290000915527344,16.209999084472656,16.290000915527344,16.290000915527344,16.200000762939453,16.549999237060547,16.549999237060547,16.469999313354492,17.309999465942383,17.440000534057617,17.18000030517578,17.139999389648438,17.260000228881836,17.309999465942383,17.3700008392334,18.09000015258789,18.079999923706055,17.940000534057617,17.989999771118164,17.6299991607666,17.309999465942383,17.459999084472656,17.600000381469727,17.8700008392334,17.850000381469727,17.829999923706055,17.729999542236328,17.56999969482422,17.56999969482422,17.5,17.579999923706055,17.809999465942383,17.889999389648438,17.770000457763672,17.829999923706055,17.799999237060547,17.459999084472656,17.3799991607666,17.40999984741211,17.059999465942383,16.889999389648438,17.489999771118164,17.780000686645508,17.829999923706055,17.270000457763672,17.030000686645508,17.110000610351562,17.34000015258789,17.3799991607666,17.229999542236328,17.350000381469727,17.239999771118164,17.06999969482422],\"low\":[17.68000030517578,17.290000915527344,16.780000686645508,16.8700008392334,17.100000381469727,16.950000762939453,16.65999984741211,16.31999969482422,15.770000457763672,15.149999618530273,14.970000267028809,15.199999809265137,15.149999618530273,15.430000305175781,15.729999542236328,15.699999809265137,15.479999542236328,15.180000305175781,15.199999809265137,15.149999618530273,15.119999885559082,15.609999656677246,15.75,15.899999618530273,16.219999313354492,16.25,16.350000381469727,16.209999084472656,16.3700008392334,16.540000915527344,16.3700008392334,16.239999771118164,16.079999923706055,16.010000228881836,16.100000381469727,16.25,16.31999969482422,15.899999618530273,15.619999885559082,15.720000267028809,15.960000038146973,15.760000228881836,15.75,16.0,16.1200008392334,15.789999961853027,15.869999885559082,15.899999618530273,15.9399995803833,15.850000381469727,15.960000038146973,15.90999984741211,15.609999656677246,15.640000343322754,15.720000267028809,15.609999656677246,15.399999618530273,15.260000228881836,15.270000457763672,15.399999618530273,15.380000114440918,15.25,15.430000305175781,15.34000015258789,15.449999809265137,15.5,15.529999732971191,15.600000381469727,15.739999771118164,15.710000038146973,15.59000015258789,15.579999923706055,15.5,15.5600004196167,15.430000305175781,15.489999771118164,15.680000305175781,15.609999656677246,15.5600004196167,15.5,15.569999694824219,15.800000190734863,15.920000076293945,16.1200008392334,16.329999923706055,16.079999923706055,16.09000015258789,16.219999313354492,16.43000030517578,16.350000381469727,16.360000610351562,16.450000762939453,16.299999237060547,16.309999465942383,16.579999923706055,16.6299991607666,16.559999465942383,16.700000762939453,16.43000030517578,16.540000915527344,16.579999923706055,16.469999313354492,16.469999313354492,16.5,16.670000076293945,16.719999313354492,16.969999313354492,17.049999237060547,17.0,17.360000610351562,17.440000534057617,17.360000610351562,17.25,17.3700008392334,17.299999237060547,17.219999313354492,17.1200008392334,17.350000381469727,17.559999465942383,17.450000762939453,17.350000381469727,17.350000381469727,16.860000610351562,16.850000381469727,17.09000015258789,16.889999389648438,16.709999084472656,16.34000015258789,16.219999313354492,16.450000762939453,16.65999984741211,16.899999618530273,16.860000610351562,17.489999771118164,17.860000610351562,17.889999389648438,18.079999923706055,18.020000457763672,18.030000686645508,18.079999923706055,17.84000015258789,17.5,17.600000381469727,17.920000076293945,18.049999237060547,17.860000610351562,17.639999389648438,17.709999084472656,17.799999237060547,17.770000457763672,17.600000381469727,17.860000610351562,17.719999313354492,17.020000457763672,17.440000534057617,17.540000915527344,17.559999465942383,17.649999618530273,17.440000534057617,16.719999313354492,16.100000381469727,14.600000381469727,15.25,15.34000015258789,16.09000015258789,16.200000762939453,16.18000030517578,15.460000038146973,15.569999694824219,15.869999885559082,15.5,15.899999618530273,15.829999923706055,15.8100004196167,15.899999618530273,15.899999618530273,16.010000228881836,16.09000015258789,15.779999732971191,15.5,15.569999694824219,15.449999809265137,15.579999923706055,15.399999618530273,15.8100004196167,15.380000114440918,15.25,15.319999694824219,15.359999656677246,14.630000114440918,15.4399995803833,15.569999694824219,15.569999694824219,15.510000228881836,15.5,15.430000305175781,15.399999618530273,15.550000190734863,15.720000267028809,16.030000686645508,15.979999542236328,16.100000381469727,15.899999618530273,16.0,16.25,16.34000015258789,16.299999237060547,16.450000762939453,16.969999313354492,16.760000228881836,16.8700008392334,16.989999771118164,16.959999084472656,17.030000686645508,17.760000228881836,17.559999465942383,17.559999465942383,17.68000030517578,17.350000381469727,17.09000015258789,17.010000228881836,17.34000015258789,17.43000030517578,17.6200008392334,17.59000015258789,17.459999084472656,17.25,17.40999984741211,17.329999923706055,17.420000076293945,17.479999542236328,17.549999237060547,17.25,17.3799991607666,17.440000534057617,17.1299991607666,16.8700008392334,16.959999084472656,16.639999389648438,16.5,16.989999771118164,17.229999542236328,17.299999237060547,16.760000228881836,16.770000457763672,16.850000381469727,17.100000381469727,17.219999313354492,16.979999542236328,17.15999984741211,17.040000915527344,16.829999923706055],\"open\":[17.989999771118164,17.790000915527344,17.420000076293945,17.139999389648438,17.15999984741211,17.3799991607666,17.020000457763672,16.81999969482422,16.0,15.59000015258789,15.15999984741211,15.59000015258789,15.279999732971191,15.550000190734863,16.040000915527344,15.720000267028809,15.550000190734863,15.720000267028809,15.3100004196167,15.229999542236328,15.270000457763672,15.619999885559082,15.789999961853027,15.979999542236328,16.299999237060547,16.350000381469727,16.559999465942383,16.329999923706055,16.40999984741211,16.729999542236328,16.520000457763672,16.549999237060547,16.209999084472656,16.139999389648438,16.31999969482422,16.270000457763672,16.3700008392334,16.420000076293945,15.779999732971191,15.789999961853027,16.030000686645508,15.960000038146973,15.920000076293945,16.0,16.309999465942383,16.040000915527344,15.920000076293945,16.049999237060547,16.079999923706055,16.110000610351562,16.06999969482422,16.010000228881836,15.960000038146973,15.699999809265137,15.819999694824219,15.729999542236328,15.630000114440918,15.390000343322754,15.479999542236328,15.420000076293945,15.5,15.420000076293945,15.430000305175781,15.390000343322754,15.529999732971191,15.510000228881836,15.630000114440918,15.6899995803833,15.779999732971191,15.880000114440918,15.699999809265137,15.640000343322754,15.710000038146973,15.619999885559082,15.600000381469727,15.550000190734863,15.720000267028809,15.710000038146973,15.630000114440918,15.579999923706055,15.600000381469727,16.0,16.0,16.139999389648438,16.420000076293945,16.360000610351562,16.229999542236328,16.31999969482422,16.450000762939453,16.459999084472656,16.440000534057617,16.530000686645508,16.520000457763672,16.309999465942383,16.59000015258789,16.780000686645508,16.709999084472656,16.719999313354492,16.729999542236328,16.559999465942383,16.719999313354492,16.65999984741211,16.579999923706055,16.520000457763672,16.670000076293945,16.8700008392334,17.040000915527344,17.270000457763672,17.049999237060547,17.389999389648438,17.6200008392334,17.450000762939453,17.329999923706055,17.459999084472656,17.59000015258789,17.350000381469727,17.280000686645508,17.360000610351562,17.559999465942383,17.530000686645508,17.56999969482422,17.479999542236328,17.1299991607666,17.079999923706055,17.25,17.15999984741211,16.780000686645508,16.899999618530273,16.420000076293945,16.530000686645508,16.799999237060547,16.969999313354492,16.93000030517578,17.530000686645508,17.90999984741211,17.959999084472656,18.149999618530273,18.110000610351562,18.030000686645508,18.389999389648438,18.18000030517578,17.65999984741211,17.790000915527344,17.950000762939453,18.200000762939453,18.030000686645508,17.90999984741211,17.790000915527344,17.93000030517578,17.90999984741211,17.920000076293945,17.8700008392334,17.850000381469727,17.6200008392334,17.559999465942383,17.56999969482422,17.610000610351562,17.719999313354492,17.549999237060547,17.190000534057617,16.200000762939453,15.020000457763672,16.200000762939453,15.8100004196167,16.3799991607666,16.399999618530273,16.329999923706055,15.949999809265137,15.819999694824219,15.970000267028809,15.789999961853027,15.960000038146973,16.3700008392334,15.869999885559082,15.989999771118164,15.970000267028809,16.040000915527344,16.350000381469727,16.290000915527344,15.680000305175781,15.670000076293945,15.489999771118164,15.600000381469727,15.539999961853027,15.880000114440918,15.789999961853027,15.5,15.550000190734863,15.520000457763672,15.079999923706055,15.449999809265137,15.680000305175781,15.779999732971191,15.720000267028809,15.75,15.600000381469727,15.449999809265137,15.770000457763672,15.8100004196167,16.290000915527344,16.0,16.15999984741211,16.260000228881836,16.0,16.290000915527344,16.520000457763672,16.399999618530273,16.450000762939453,17.15999984741211,17.18000030517578,16.899999618530273,17.010000228881836,17.299999237060547,17.030000686645508,17.84000015258789,18.030000686645508,17.6299991607666,17.989999771118164,17.579999923706055,17.1299991607666,17.1299991607666,17.5,17.43000030517578,17.780000686645508,17.809999465942383,17.6200008392334,17.260000228881836,17.510000228881836,17.459999084472656,17.479999542236328,17.520000457763672,17.8799991607666,17.68000030517578,17.440000534057617,17.790000915527344,17.389999389648438,17.110000610351562,17.149999618530273,16.969999313354492,16.760000228881836,17.020000457763672,17.649999618530273,17.799999237060547,17.190000534057617,16.979999542236328,17.049999237060547,17.15999984741211,17.31999969482422,17.219999313354492,17.25,17.200000762939453,17.010000228881836],\"showlegend\":false,\"x\":[\"2015-01-02\",\"2015-01-05\",\"2015-01-06\",\"2015-01-07\",\"2015-01-08\",\"2015-01-09\",\"2015-01-12\",\"2015-01-13\",\"2015-01-14\",\"2015-01-15\",\"2015-01-16\",\"2015-01-20\",\"2015-01-21\",\"2015-01-22\",\"2015-01-23\",\"2015-01-26\",\"2015-01-27\",\"2015-01-28\",\"2015-01-29\",\"2015-01-30\",\"2015-02-02\",\"2015-02-03\",\"2015-02-04\",\"2015-02-05\",\"2015-02-06\",\"2015-02-09\",\"2015-02-10\",\"2015-02-11\",\"2015-02-12\",\"2015-02-13\",\"2015-02-17\",\"2015-02-18\",\"2015-02-19\",\"2015-02-20\",\"2015-02-23\",\"2015-02-24\",\"2015-02-25\",\"2015-02-26\",\"2015-02-27\",\"2015-03-02\",\"2015-03-03\",\"2015-03-04\",\"2015-03-05\",\"2015-03-06\",\"2015-03-09\",\"2015-03-10\",\"2015-03-11\",\"2015-03-12\",\"2015-03-13\",\"2015-03-16\",\"2015-03-17\",\"2015-03-18\",\"2015-03-19\",\"2015-03-20\",\"2015-03-23\",\"2015-03-24\",\"2015-03-25\",\"2015-03-26\",\"2015-03-27\",\"2015-03-30\",\"2015-03-31\",\"2015-04-01\",\"2015-04-02\",\"2015-04-06\",\"2015-04-07\",\"2015-04-08\",\"2015-04-09\",\"2015-04-10\",\"2015-04-13\",\"2015-04-14\",\"2015-04-15\",\"2015-04-16\",\"2015-04-17\",\"2015-04-20\",\"2015-04-21\",\"2015-04-22\",\"2015-04-23\",\"2015-04-24\",\"2015-04-27\",\"2015-04-28\",\"2015-04-29\",\"2015-04-30\",\"2015-05-01\",\"2015-05-04\",\"2015-05-05\",\"2015-05-06\",\"2015-05-07\",\"2015-05-08\",\"2015-05-11\",\"2015-05-12\",\"2015-05-13\",\"2015-05-14\",\"2015-05-15\",\"2015-05-18\",\"2015-05-19\",\"2015-05-20\",\"2015-05-21\",\"2015-05-22\",\"2015-05-26\",\"2015-05-27\",\"2015-05-28\",\"2015-05-29\",\"2015-06-01\",\"2015-06-02\",\"2015-06-03\",\"2015-06-04\",\"2015-06-05\",\"2015-06-08\",\"2015-06-09\",\"2015-06-10\",\"2015-06-11\",\"2015-06-12\",\"2015-06-15\",\"2015-06-16\",\"2015-06-17\",\"2015-06-18\",\"2015-06-19\",\"2015-06-22\",\"2015-06-23\",\"2015-06-24\",\"2015-06-25\",\"2015-06-26\",\"2015-06-29\",\"2015-06-30\",\"2015-07-01\",\"2015-07-02\",\"2015-07-06\",\"2015-07-07\",\"2015-07-08\",\"2015-07-09\",\"2015-07-10\",\"2015-07-13\",\"2015-07-14\",\"2015-07-15\",\"2015-07-16\",\"2015-07-17\",\"2015-07-20\",\"2015-07-21\",\"2015-07-22\",\"2015-07-23\",\"2015-07-24\",\"2015-07-27\",\"2015-07-28\",\"2015-07-29\",\"2015-07-30\",\"2015-07-31\",\"2015-08-03\",\"2015-08-04\",\"2015-08-05\",\"2015-08-06\",\"2015-08-07\",\"2015-08-10\",\"2015-08-11\",\"2015-08-12\",\"2015-08-13\",\"2015-08-14\",\"2015-08-17\",\"2015-08-18\",\"2015-08-19\",\"2015-08-20\",\"2015-08-21\",\"2015-08-24\",\"2015-08-25\",\"2015-08-26\",\"2015-08-27\",\"2015-08-28\",\"2015-08-31\",\"2015-09-01\",\"2015-09-02\",\"2015-09-03\",\"2015-09-04\",\"2015-09-08\",\"2015-09-09\",\"2015-09-10\",\"2015-09-11\",\"2015-09-14\",\"2015-09-15\",\"2015-09-16\",\"2015-09-17\",\"2015-09-18\",\"2015-09-21\",\"2015-09-22\",\"2015-09-23\",\"2015-09-24\",\"2015-09-25\",\"2015-09-28\",\"2015-09-29\",\"2015-09-30\",\"2015-10-01\",\"2015-10-02\",\"2015-10-05\",\"2015-10-06\",\"2015-10-07\",\"2015-10-08\",\"2015-10-09\",\"2015-10-12\",\"2015-10-13\",\"2015-10-14\",\"2015-10-15\",\"2015-10-16\",\"2015-10-19\",\"2015-10-20\",\"2015-10-21\",\"2015-10-22\",\"2015-10-23\",\"2015-10-26\",\"2015-10-27\",\"2015-10-28\",\"2015-10-29\",\"2015-10-30\",\"2015-11-02\",\"2015-11-03\",\"2015-11-04\",\"2015-11-05\",\"2015-11-06\",\"2015-11-09\",\"2015-11-10\",\"2015-11-11\",\"2015-11-12\",\"2015-11-13\",\"2015-11-16\",\"2015-11-17\",\"2015-11-18\",\"2015-11-19\",\"2015-11-20\",\"2015-11-23\",\"2015-11-24\",\"2015-11-25\",\"2015-11-27\",\"2015-11-30\",\"2015-12-01\",\"2015-12-02\",\"2015-12-03\",\"2015-12-04\",\"2015-12-07\",\"2015-12-08\",\"2015-12-09\",\"2015-12-10\",\"2015-12-11\",\"2015-12-14\",\"2015-12-15\",\"2015-12-16\",\"2015-12-17\",\"2015-12-18\",\"2015-12-21\",\"2015-12-22\",\"2015-12-23\",\"2015-12-24\",\"2015-12-28\",\"2015-12-29\",\"2015-12-30\",\"2015-12-31\"],\"yaxis\":\"y2\",\"type\":\"candlestick\"}],                        {\"legend\":{\"bgcolor\":\"#F5F6F9\",\"font\":{\"color\":\"#4D5663\"}},\"paper_bgcolor\":\"#F5F6F9\",\"plot_bgcolor\":\"#F5F6F9\",\"template\":{\"data\":{\"barpolar\":[{\"marker\":{\"line\":{\"color\":\"#E5ECF6\",\"width\":0.5},\"pattern\":{\"fillmode\":\"overlay\",\"size\":10,\"solidity\":0.2}},\"type\":\"barpolar\"}],\"bar\":[{\"error_x\":{\"color\":\"#2a3f5f\"},\"error_y\":{\"color\":\"#2a3f5f\"},\"marker\":{\"line\":{\"color\":\"#E5ECF6\",\"width\":0.5},\"pattern\":{\"fillmode\":\"overlay\",\"size\":10,\"solidity\":0.2}},\"type\":\"bar\"}],\"carpet\":[{\"aaxis\":{\"endlinecolor\":\"#2a3f5f\",\"gridcolor\":\"white\",\"linecolor\":\"white\",\"minorgridcolor\":\"white\",\"startlinecolor\":\"#2a3f5f\"},\"baxis\":{\"endlinecolor\":\"#2a3f5f\",\"gridcolor\":\"white\",\"linecolor\":\"white\",\"minorgridcolor\":\"white\",\"startlinecolor\":\"#2a3f5f\"},\"type\":\"carpet\"}],\"choropleth\":[{\"colorbar\":{\"outlinewidth\":0,\"ticks\":\"\"},\"type\":\"choropleth\"}],\"contourcarpet\":[{\"colorbar\":{\"outlinewidth\":0,\"ticks\":\"\"},\"type\":\"contourcarpet\"}],\"contour\":[{\"colorbar\":{\"outlinewidth\":0,\"ticks\":\"\"},\"colorscale\":[[0.0,\"#0d0887\"],[0.1111111111111111,\"#46039f\"],[0.2222222222222222,\"#7201a8\"],[0.3333333333333333,\"#9c179e\"],[0.4444444444444444,\"#bd3786\"],[0.5555555555555556,\"#d8576b\"],[0.6666666666666666,\"#ed7953\"],[0.7777777777777778,\"#fb9f3a\"],[0.8888888888888888,\"#fdca26\"],[1.0,\"#f0f921\"]],\"type\":\"contour\"}],\"heatmapgl\":[{\"colorbar\":{\"outlinewidth\":0,\"ticks\":\"\"},\"colorscale\":[[0.0,\"#0d0887\"],[0.1111111111111111,\"#46039f\"],[0.2222222222222222,\"#7201a8\"],[0.3333333333333333,\"#9c179e\"],[0.4444444444444444,\"#bd3786\"],[0.5555555555555556,\"#d8576b\"],[0.6666666666666666,\"#ed7953\"],[0.7777777777777778,\"#fb9f3a\"],[0.8888888888888888,\"#fdca26\"],[1.0,\"#f0f921\"]],\"type\":\"heatmapgl\"}],\"heatmap\":[{\"colorbar\":{\"outlinewidth\":0,\"ticks\":\"\"},\"colorscale\":[[0.0,\"#0d0887\"],[0.1111111111111111,\"#46039f\"],[0.2222222222222222,\"#7201a8\"],[0.3333333333333333,\"#9c179e\"],[0.4444444444444444,\"#bd3786\"],[0.5555555555555556,\"#d8576b\"],[0.6666666666666666,\"#ed7953\"],[0.7777777777777778,\"#fb9f3a\"],[0.8888888888888888,\"#fdca26\"],[1.0,\"#f0f921\"]],\"type\":\"heatmap\"}],\"histogram2dcontour\":[{\"colorbar\":{\"outlinewidth\":0,\"ticks\":\"\"},\"colorscale\":[[0.0,\"#0d0887\"],[0.1111111111111111,\"#46039f\"],[0.2222222222222222,\"#7201a8\"],[0.3333333333333333,\"#9c179e\"],[0.4444444444444444,\"#bd3786\"],[0.5555555555555556,\"#d8576b\"],[0.6666666666666666,\"#ed7953\"],[0.7777777777777778,\"#fb9f3a\"],[0.8888888888888888,\"#fdca26\"],[1.0,\"#f0f921\"]],\"type\":\"histogram2dcontour\"}],\"histogram2d\":[{\"colorbar\":{\"outlinewidth\":0,\"ticks\":\"\"},\"colorscale\":[[0.0,\"#0d0887\"],[0.1111111111111111,\"#46039f\"],[0.2222222222222222,\"#7201a8\"],[0.3333333333333333,\"#9c179e\"],[0.4444444444444444,\"#bd3786\"],[0.5555555555555556,\"#d8576b\"],[0.6666666666666666,\"#ed7953\"],[0.7777777777777778,\"#fb9f3a\"],[0.8888888888888888,\"#fdca26\"],[1.0,\"#f0f921\"]],\"type\":\"histogram2d\"}],\"histogram\":[{\"marker\":{\"pattern\":{\"fillmode\":\"overlay\",\"size\":10,\"solidity\":0.2}},\"type\":\"histogram\"}],\"mesh3d\":[{\"colorbar\":{\"outlinewidth\":0,\"ticks\":\"\"},\"type\":\"mesh3d\"}],\"parcoords\":[{\"line\":{\"colorbar\":{\"outlinewidth\":0,\"ticks\":\"\"}},\"type\":\"parcoords\"}],\"pie\":[{\"automargin\":true,\"type\":\"pie\"}],\"scatter3d\":[{\"line\":{\"colorbar\":{\"outlinewidth\":0,\"ticks\":\"\"}},\"marker\":{\"colorbar\":{\"outlinewidth\":0,\"ticks\":\"\"}},\"type\":\"scatter3d\"}],\"scattercarpet\":[{\"marker\":{\"colorbar\":{\"outlinewidth\":0,\"ticks\":\"\"}},\"type\":\"scattercarpet\"}],\"scattergeo\":[{\"marker\":{\"colorbar\":{\"outlinewidth\":0,\"ticks\":\"\"}},\"type\":\"scattergeo\"}],\"scattergl\":[{\"marker\":{\"colorbar\":{\"outlinewidth\":0,\"ticks\":\"\"}},\"type\":\"scattergl\"}],\"scattermapbox\":[{\"marker\":{\"colorbar\":{\"outlinewidth\":0,\"ticks\":\"\"}},\"type\":\"scattermapbox\"}],\"scatterpolargl\":[{\"marker\":{\"colorbar\":{\"outlinewidth\":0,\"ticks\":\"\"}},\"type\":\"scatterpolargl\"}],\"scatterpolar\":[{\"marker\":{\"colorbar\":{\"outlinewidth\":0,\"ticks\":\"\"}},\"type\":\"scatterpolar\"}],\"scatter\":[{\"marker\":{\"colorbar\":{\"outlinewidth\":0,\"ticks\":\"\"}},\"type\":\"scatter\"}],\"scatterternary\":[{\"marker\":{\"colorbar\":{\"outlinewidth\":0,\"ticks\":\"\"}},\"type\":\"scatterternary\"}],\"surface\":[{\"colorbar\":{\"outlinewidth\":0,\"ticks\":\"\"},\"colorscale\":[[0.0,\"#0d0887\"],[0.1111111111111111,\"#46039f\"],[0.2222222222222222,\"#7201a8\"],[0.3333333333333333,\"#9c179e\"],[0.4444444444444444,\"#bd3786\"],[0.5555555555555556,\"#d8576b\"],[0.6666666666666666,\"#ed7953\"],[0.7777777777777778,\"#fb9f3a\"],[0.8888888888888888,\"#fdca26\"],[1.0,\"#f0f921\"]],\"type\":\"surface\"}],\"table\":[{\"cells\":{\"fill\":{\"color\":\"#EBF0F8\"},\"line\":{\"color\":\"white\"}},\"header\":{\"fill\":{\"color\":\"#C8D4E3\"},\"line\":{\"color\":\"white\"}},\"type\":\"table\"}]},\"layout\":{\"annotationdefaults\":{\"arrowcolor\":\"#2a3f5f\",\"arrowhead\":0,\"arrowwidth\":1},\"autotypenumbers\":\"strict\",\"coloraxis\":{\"colorbar\":{\"outlinewidth\":0,\"ticks\":\"\"}},\"colorscale\":{\"diverging\":[[0,\"#8e0152\"],[0.1,\"#c51b7d\"],[0.2,\"#de77ae\"],[0.3,\"#f1b6da\"],[0.4,\"#fde0ef\"],[0.5,\"#f7f7f7\"],[0.6,\"#e6f5d0\"],[0.7,\"#b8e186\"],[0.8,\"#7fbc41\"],[0.9,\"#4d9221\"],[1,\"#276419\"]],\"sequential\":[[0.0,\"#0d0887\"],[0.1111111111111111,\"#46039f\"],[0.2222222222222222,\"#7201a8\"],[0.3333333333333333,\"#9c179e\"],[0.4444444444444444,\"#bd3786\"],[0.5555555555555556,\"#d8576b\"],[0.6666666666666666,\"#ed7953\"],[0.7777777777777778,\"#fb9f3a\"],[0.8888888888888888,\"#fdca26\"],[1.0,\"#f0f921\"]],\"sequentialminus\":[[0.0,\"#0d0887\"],[0.1111111111111111,\"#46039f\"],[0.2222222222222222,\"#7201a8\"],[0.3333333333333333,\"#9c179e\"],[0.4444444444444444,\"#bd3786\"],[0.5555555555555556,\"#d8576b\"],[0.6666666666666666,\"#ed7953\"],[0.7777777777777778,\"#fb9f3a\"],[0.8888888888888888,\"#fdca26\"],[1.0,\"#f0f921\"]]},\"colorway\":[\"#636efa\",\"#EF553B\",\"#00cc96\",\"#ab63fa\",\"#FFA15A\",\"#19d3f3\",\"#FF6692\",\"#B6E880\",\"#FF97FF\",\"#FECB52\"],\"font\":{\"color\":\"#2a3f5f\"},\"geo\":{\"bgcolor\":\"white\",\"lakecolor\":\"white\",\"landcolor\":\"#E5ECF6\",\"showlakes\":true,\"showland\":true,\"subunitcolor\":\"white\"},\"hoverlabel\":{\"align\":\"left\"},\"hovermode\":\"closest\",\"mapbox\":{\"style\":\"light\"},\"paper_bgcolor\":\"white\",\"plot_bgcolor\":\"#E5ECF6\",\"polar\":{\"angularaxis\":{\"gridcolor\":\"white\",\"linecolor\":\"white\",\"ticks\":\"\"},\"bgcolor\":\"#E5ECF6\",\"radialaxis\":{\"gridcolor\":\"white\",\"linecolor\":\"white\",\"ticks\":\"\"}},\"scene\":{\"xaxis\":{\"backgroundcolor\":\"#E5ECF6\",\"gridcolor\":\"white\",\"gridwidth\":2,\"linecolor\":\"white\",\"showbackground\":true,\"ticks\":\"\",\"zerolinecolor\":\"white\"},\"yaxis\":{\"backgroundcolor\":\"#E5ECF6\",\"gridcolor\":\"white\",\"gridwidth\":2,\"linecolor\":\"white\",\"showbackground\":true,\"ticks\":\"\",\"zerolinecolor\":\"white\"},\"zaxis\":{\"backgroundcolor\":\"#E5ECF6\",\"gridcolor\":\"white\",\"gridwidth\":2,\"linecolor\":\"white\",\"showbackground\":true,\"ticks\":\"\",\"zerolinecolor\":\"white\"}},\"shapedefaults\":{\"line\":{\"color\":\"#2a3f5f\"}},\"ternary\":{\"aaxis\":{\"gridcolor\":\"white\",\"linecolor\":\"white\",\"ticks\":\"\"},\"baxis\":{\"gridcolor\":\"white\",\"linecolor\":\"white\",\"ticks\":\"\"},\"bgcolor\":\"#E5ECF6\",\"caxis\":{\"gridcolor\":\"white\",\"linecolor\":\"white\",\"ticks\":\"\"}},\"title\":{\"x\":0.05},\"xaxis\":{\"automargin\":true,\"gridcolor\":\"white\",\"linecolor\":\"white\",\"ticks\":\"\",\"title\":{\"standoff\":15},\"zerolinecolor\":\"white\",\"zerolinewidth\":2},\"yaxis\":{\"automargin\":true,\"gridcolor\":\"white\",\"linecolor\":\"white\",\"ticks\":\"\",\"title\":{\"standoff\":15},\"zerolinecolor\":\"white\",\"zerolinewidth\":2}}},\"title\":{\"font\":{\"color\":\"#4D5663\"}},\"xaxis\":{\"gridcolor\":\"#E1E5ED\",\"rangeslider\":{\"visible\":false},\"showgrid\":true,\"tickfont\":{\"color\":\"#4D5663\"},\"title\":{\"font\":{\"color\":\"#4D5663\"},\"text\":\"\"},\"zerolinecolor\":\"#E1E5ED\"},\"yaxis\":{\"gridcolor\":\"#E1E5ED\",\"showgrid\":true,\"showticklabels\":false,\"tickfont\":{\"color\":\"#4D5663\"},\"title\":{\"font\":{\"color\":\"#4D5663\"},\"text\":\"\"},\"zerolinecolor\":\"#E1E5ED\"},\"yaxis2\":{\"gridcolor\":\"#E1E5ED\",\"showgrid\":true,\"tickfont\":{\"color\":\"#4D5663\"},\"title\":{\"font\":{\"color\":\"#4D5663\"},\"text\":\"\"},\"zerolinecolor\":\"#E1E5ED\"}},                        {\"showLink\": true, \"linkText\": \"Export to plot.ly\", \"plotlyServerURL\": \"https://plot.ly\", \"responsive\": true}                    ).then(function(){\n",
       "                            \n",
       "var gd = document.getElementById('681e53e8-e3af-4ab3-a18a-c0b01b1da5ff');\n",
       "var x = new MutationObserver(function (mutations, observer) {{\n",
       "        var display = window.getComputedStyle(gd).display;\n",
       "        if (!display || display === 'none') {{\n",
       "            console.log([gd, 'removed!']);\n",
       "            Plotly.purge(gd);\n",
       "            observer.disconnect();\n",
       "        }}\n",
       "}});\n",
       "\n",
       "// Listen for the removal of the full notebook cells\n",
       "var notebookContainer = gd.closest('#notebook-container');\n",
       "if (notebookContainer) {{\n",
       "    x.observe(notebookContainer, {childList: true});\n",
       "}}\n",
       "\n",
       "// Listen for the clearing of the current output cell\n",
       "var outputEl = gd.closest('.output');\n",
       "if (outputEl) {{\n",
       "    x.observe(outputEl, {childList: true});\n",
       "}}\n",
       "\n",
       "                        })                };                });            </script>        </div>"
      ]
     },
     "metadata": {},
     "output_type": "display_data"
    }
   ],
   "source": [
    "# Candle Plot of Bank of America 2015\n",
    "BOA[['Open', 'High', 'Low', 'Close']].loc['2015-01-01':'2016-01-01'].iplot(kind='candle')"
   ]
  },
  {
   "cell_type": "code",
   "execution_count": 79,
   "id": "6128d5bb",
   "metadata": {},
   "outputs": [
    {
     "data": {
      "application/vnd.plotly.v1+json": {
       "config": {
        "linkText": "Export to plot.ly",
        "plotlyServerURL": "https://plot.ly",
        "showLink": true
       },
       "data": [
        {
         "line": {
          "color": "rgba(255, 153, 51, 1.0)",
          "dash": "solid",
          "shape": "linear",
          "width": 1.3
         },
         "mode": "lines",
         "name": "Close",
         "text": "",
         "type": "scatter",
         "x": [
          "2015-01-02",
          "2015-01-05",
          "2015-01-06",
          "2015-01-07",
          "2015-01-08",
          "2015-01-09",
          "2015-01-12",
          "2015-01-13",
          "2015-01-14",
          "2015-01-15",
          "2015-01-16",
          "2015-01-20",
          "2015-01-21",
          "2015-01-22",
          "2015-01-23",
          "2015-01-26",
          "2015-01-27",
          "2015-01-28",
          "2015-01-29",
          "2015-01-30",
          "2015-02-02",
          "2015-02-03",
          "2015-02-04",
          "2015-02-05",
          "2015-02-06",
          "2015-02-09",
          "2015-02-10",
          "2015-02-11",
          "2015-02-12",
          "2015-02-13",
          "2015-02-17",
          "2015-02-18",
          "2015-02-19",
          "2015-02-20",
          "2015-02-23",
          "2015-02-24",
          "2015-02-25",
          "2015-02-26",
          "2015-02-27",
          "2015-03-02",
          "2015-03-03",
          "2015-03-04",
          "2015-03-05",
          "2015-03-06",
          "2015-03-09",
          "2015-03-10",
          "2015-03-11",
          "2015-03-12",
          "2015-03-13",
          "2015-03-16",
          "2015-03-17",
          "2015-03-18",
          "2015-03-19",
          "2015-03-20",
          "2015-03-23",
          "2015-03-24",
          "2015-03-25",
          "2015-03-26",
          "2015-03-27",
          "2015-03-30",
          "2015-03-31",
          "2015-04-01",
          "2015-04-02",
          "2015-04-06",
          "2015-04-07",
          "2015-04-08",
          "2015-04-09",
          "2015-04-10",
          "2015-04-13",
          "2015-04-14",
          "2015-04-15",
          "2015-04-16",
          "2015-04-17",
          "2015-04-20",
          "2015-04-21",
          "2015-04-22",
          "2015-04-23",
          "2015-04-24",
          "2015-04-27",
          "2015-04-28",
          "2015-04-29",
          "2015-04-30",
          "2015-05-01",
          "2015-05-04",
          "2015-05-05",
          "2015-05-06",
          "2015-05-07",
          "2015-05-08",
          "2015-05-11",
          "2015-05-12",
          "2015-05-13",
          "2015-05-14",
          "2015-05-15",
          "2015-05-18",
          "2015-05-19",
          "2015-05-20",
          "2015-05-21",
          "2015-05-22",
          "2015-05-26",
          "2015-05-27",
          "2015-05-28",
          "2015-05-29",
          "2015-06-01",
          "2015-06-02",
          "2015-06-03",
          "2015-06-04",
          "2015-06-05",
          "2015-06-08",
          "2015-06-09",
          "2015-06-10",
          "2015-06-11",
          "2015-06-12",
          "2015-06-15",
          "2015-06-16",
          "2015-06-17",
          "2015-06-18",
          "2015-06-19",
          "2015-06-22",
          "2015-06-23",
          "2015-06-24",
          "2015-06-25",
          "2015-06-26",
          "2015-06-29",
          "2015-06-30",
          "2015-07-01",
          "2015-07-02",
          "2015-07-06",
          "2015-07-07",
          "2015-07-08",
          "2015-07-09",
          "2015-07-10",
          "2015-07-13",
          "2015-07-14",
          "2015-07-15",
          "2015-07-16",
          "2015-07-17",
          "2015-07-20",
          "2015-07-21",
          "2015-07-22",
          "2015-07-23",
          "2015-07-24",
          "2015-07-27",
          "2015-07-28",
          "2015-07-29",
          "2015-07-30",
          "2015-07-31",
          "2015-08-03",
          "2015-08-04",
          "2015-08-05",
          "2015-08-06",
          "2015-08-07",
          "2015-08-10",
          "2015-08-11",
          "2015-08-12",
          "2015-08-13",
          "2015-08-14",
          "2015-08-17",
          "2015-08-18",
          "2015-08-19",
          "2015-08-20",
          "2015-08-21",
          "2015-08-24",
          "2015-08-25",
          "2015-08-26",
          "2015-08-27",
          "2015-08-28",
          "2015-08-31",
          "2015-09-01",
          "2015-09-02",
          "2015-09-03",
          "2015-09-04",
          "2015-09-08",
          "2015-09-09",
          "2015-09-10",
          "2015-09-11",
          "2015-09-14",
          "2015-09-15",
          "2015-09-16",
          "2015-09-17",
          "2015-09-18",
          "2015-09-21",
          "2015-09-22",
          "2015-09-23",
          "2015-09-24",
          "2015-09-25",
          "2015-09-28",
          "2015-09-29",
          "2015-09-30",
          "2015-10-01",
          "2015-10-02",
          "2015-10-05",
          "2015-10-06",
          "2015-10-07",
          "2015-10-08",
          "2015-10-09",
          "2015-10-12",
          "2015-10-13",
          "2015-10-14",
          "2015-10-15",
          "2015-10-16",
          "2015-10-19",
          "2015-10-20",
          "2015-10-21",
          "2015-10-22",
          "2015-10-23",
          "2015-10-26",
          "2015-10-27",
          "2015-10-28",
          "2015-10-29",
          "2015-10-30",
          "2015-11-02",
          "2015-11-03",
          "2015-11-04",
          "2015-11-05",
          "2015-11-06",
          "2015-11-09",
          "2015-11-10",
          "2015-11-11",
          "2015-11-12",
          "2015-11-13",
          "2015-11-16",
          "2015-11-17",
          "2015-11-18",
          "2015-11-19",
          "2015-11-20",
          "2015-11-23",
          "2015-11-24",
          "2015-11-25",
          "2015-11-27",
          "2015-11-30",
          "2015-12-01",
          "2015-12-02",
          "2015-12-03",
          "2015-12-04",
          "2015-12-07",
          "2015-12-08",
          "2015-12-09",
          "2015-12-10",
          "2015-12-11",
          "2015-12-14",
          "2015-12-15",
          "2015-12-16",
          "2015-12-17",
          "2015-12-18",
          "2015-12-21",
          "2015-12-22",
          "2015-12-23",
          "2015-12-24",
          "2015-12-28",
          "2015-12-29",
          "2015-12-30",
          "2015-12-31"
         ],
         "y": [
          38.709999084472656,
          37.5,
          36.41999816894531,
          36.939998626708984,
          37.4900016784668,
          36.880001068115234,
          36.369998931884766,
          36.029998779296875,
          35.209999084472656,
          34.58000183105469,
          34.88999938964844,
          34.75,
          34.72999954223633,
          35.529998779296875,
          35.150001525878906,
          35.11000061035156,
          34.65999984741211,
          33.77000045776367,
          34.369998931884766,
          33.810001373291016,
          34.41999816894531,
          35.040000915527344,
          34.77000045776367,
          34.93000030517578,
          35.790000915527344,
          35.630001068115234,
          36.15999984741211,
          36.369998931884766,
          36.900001525878906,
          36.779998779296875,
          36.91999816894531,
          36.369998931884766,
          36.33000183105469,
          36.7400016784668,
          36.27000045776367,
          36.7400016784668,
          36.59000015258789,
          36.060001373291016,
          35.790000915527344,
          36.2400016784668,
          35.81999969482422,
          35.09000015258789,
          35.52000045776367,
          35.529998779296875,
          35.66999816894531,
          34.880001068115234,
          34.95000076293945,
          37.09000015258789,
          36.349998474121094,
          36.72999954223633,
          36.54999923706055,
          36.72999954223633,
          36.11000061035156,
          36.5,
          36.310001373291016,
          36.2400016784668,
          35.45000076293945,
          35.619998931884766,
          35.83000183105469,
          36.310001373291016,
          35.689998626708984,
          35.970001220703125,
          36.060001373291016,
          35.90999984741211,
          35.939998626708984,
          36.2599983215332,
          36.63999938964844,
          36.2400016784668,
          36.29999923706055,
          36.84000015258789,
          37.38999938964844,
          37.36000061035156,
          36.75,
          36.959999084472656,
          36.75,
          37.20000076293945,
          37.380001068115234,
          37.36000061035156,
          37.04999923706055,
          37.040000915527344,
          37.4900016784668,
          37.310001373291016,
          37.5099983215332,
          37.90999984741211,
          37.45000076293945,
          37.04999923706055,
          37.540000915527344,
          37.88999938964844,
          38.25,
          37.720001220703125,
          37.779998779296875,
          38.13999938964844,
          37.849998474121094,
          38.33000183105469,
          38.689998626708984,
          38.33000183105469,
          38.040000915527344,
          38.16999816894531,
          37.790000915527344,
          38.619998931884766,
          38.72999954223633,
          38.20000076293945,
          38.58000183105469,
          38.52000045776367,
          39.0099983215332,
          38.70000076293945,
          39.290000915527344,
          39.09000015258789,
          39.130001068115234,
          39.88999938964844,
          39.869998931884766,
          39.61000061035156,
          39.529998779296875,
          39.7400016784668,
          39.58000183105469,
          39.790000915527344,
          39.369998931884766,
          39.849998474121094,
          40.209999084472656,
          39.63999938964844,
          39.220001220703125,
          39.5,
          38.310001373291016,
          38.790000915527344,
          39.36000061035156,
          39,
          38.849998474121094,
          38.619998931884766,
          37.790000915527344,
          38.099998474121094,
          38.63999938964844,
          39.31999969482422,
          39.709999084472656,
          39.70000076293945,
          39.90999984741211,
          40.20000076293945,
          40.040000915527344,
          40.08000183105469,
          40.540000915527344,
          39.939998626708984,
          39.599998474121094,
          39.25,
          39.25,
          39.290000915527344,
          39.29999923706055,
          38.84000015258789,
          38.7599983215332,
          38.91999816894531,
          39,
          38.93000030517578,
          38.58000183105469,
          39.08000183105469,
          37.91999816894531,
          37.56999969482422,
          37.75,
          38.04999923706055,
          38.13999938964844,
          37.81999969482422,
          37.439998626708984,
          36.16999816894531,
          34.209999084472656,
          32.2599983215332,
          31.760000228881836,
          33.29999923706055,
          34.29999923706055,
          34.04999923706055,
          34.45000076293945,
          33.119998931884766,
          33.790000915527344,
          33.79999923706055,
          33.189998626708984,
          34.27000045776367,
          33.75,
          33.869998931884766,
          33.9900016784668,
          33.810001373291016,
          34.58000183105469,
          34.619998931884766,
          34.04999923706055,
          33.029998779296875,
          33.34000015258789,
          32.439998626708984,
          32.31999969482422,
          31.969999313354492,
          32.189998626708984,
          31.09000015258789,
          31.010000228881836,
          31.5,
          31.5,
          31.43000030517578,
          32.290000915527344,
          32.36000061035156,
          32.93000030517578,
          32.9900016784668,
          32.720001220703125,
          32.79999923706055,
          32.61000061035156,
          32.540000915527344,
          33.61000061035156,
          33.95000076293945,
          32.31999969482422,
          32.25,
          31.479999542236328,
          32.349998474121094,
          32.619998931884766,
          32.54999923706055,
          32.22999954223633,
          33.439998626708984,
          33.540000915527344,
          32.970001220703125,
          33.47999954223633,
          33.290000915527344,
          33.400001525878906,
          33.880001068115234,
          35.40999984741211,
          35.11000061035156,
          35.2400016784668,
          35.02000045776367,
          34.22999954223633,
          33.93000030517578,
          34.04999923706055,
          33.59000015258789,
          34.25,
          34.16999816894531,
          33.90999984741211,
          33.63999938964844,
          33.59000015258789,
          33.61000061035156,
          33.779998779296875,
          34.29999923706055,
          35.27000045776367,
          34.88999938964844,
          34.45000076293945,
          35.31999969482422,
          34.68000030517578,
          34.060001373291016,
          33.369998931884766,
          33.41999816894531,
          32.08000183105469,
          31.8799991607666,
          32.84000015258789,
          33.61000061035156,
          32.380001068115234,
          31.290000915527344,
          31.68000030517578,
          32.220001220703125,
          32.599998474121094,
          32.47999954223633,
          32.16999816894531,
          32.54999923706055,
          32.22999954223633,
          31.809999465942383
         ]
        },
        {
         "line": {
          "color": "rgba(55, 128, 191, 1.0)",
          "dash": "solid",
          "shape": "linear",
          "width": 1.3
         },
         "mode": "lines",
         "name": "SMA(14)",
         "text": "",
         "type": "scatter",
         "x": [
          "2015-01-02",
          "2015-01-05",
          "2015-01-06",
          "2015-01-07",
          "2015-01-08",
          "2015-01-09",
          "2015-01-12",
          "2015-01-13",
          "2015-01-14",
          "2015-01-15",
          "2015-01-16",
          "2015-01-20",
          "2015-01-21",
          "2015-01-22",
          "2015-01-23",
          "2015-01-26",
          "2015-01-27",
          "2015-01-28",
          "2015-01-29",
          "2015-01-30",
          "2015-02-02",
          "2015-02-03",
          "2015-02-04",
          "2015-02-05",
          "2015-02-06",
          "2015-02-09",
          "2015-02-10",
          "2015-02-11",
          "2015-02-12",
          "2015-02-13",
          "2015-02-17",
          "2015-02-18",
          "2015-02-19",
          "2015-02-20",
          "2015-02-23",
          "2015-02-24",
          "2015-02-25",
          "2015-02-26",
          "2015-02-27",
          "2015-03-02",
          "2015-03-03",
          "2015-03-04",
          "2015-03-05",
          "2015-03-06",
          "2015-03-09",
          "2015-03-10",
          "2015-03-11",
          "2015-03-12",
          "2015-03-13",
          "2015-03-16",
          "2015-03-17",
          "2015-03-18",
          "2015-03-19",
          "2015-03-20",
          "2015-03-23",
          "2015-03-24",
          "2015-03-25",
          "2015-03-26",
          "2015-03-27",
          "2015-03-30",
          "2015-03-31",
          "2015-04-01",
          "2015-04-02",
          "2015-04-06",
          "2015-04-07",
          "2015-04-08",
          "2015-04-09",
          "2015-04-10",
          "2015-04-13",
          "2015-04-14",
          "2015-04-15",
          "2015-04-16",
          "2015-04-17",
          "2015-04-20",
          "2015-04-21",
          "2015-04-22",
          "2015-04-23",
          "2015-04-24",
          "2015-04-27",
          "2015-04-28",
          "2015-04-29",
          "2015-04-30",
          "2015-05-01",
          "2015-05-04",
          "2015-05-05",
          "2015-05-06",
          "2015-05-07",
          "2015-05-08",
          "2015-05-11",
          "2015-05-12",
          "2015-05-13",
          "2015-05-14",
          "2015-05-15",
          "2015-05-18",
          "2015-05-19",
          "2015-05-20",
          "2015-05-21",
          "2015-05-22",
          "2015-05-26",
          "2015-05-27",
          "2015-05-28",
          "2015-05-29",
          "2015-06-01",
          "2015-06-02",
          "2015-06-03",
          "2015-06-04",
          "2015-06-05",
          "2015-06-08",
          "2015-06-09",
          "2015-06-10",
          "2015-06-11",
          "2015-06-12",
          "2015-06-15",
          "2015-06-16",
          "2015-06-17",
          "2015-06-18",
          "2015-06-19",
          "2015-06-22",
          "2015-06-23",
          "2015-06-24",
          "2015-06-25",
          "2015-06-26",
          "2015-06-29",
          "2015-06-30",
          "2015-07-01",
          "2015-07-02",
          "2015-07-06",
          "2015-07-07",
          "2015-07-08",
          "2015-07-09",
          "2015-07-10",
          "2015-07-13",
          "2015-07-14",
          "2015-07-15",
          "2015-07-16",
          "2015-07-17",
          "2015-07-20",
          "2015-07-21",
          "2015-07-22",
          "2015-07-23",
          "2015-07-24",
          "2015-07-27",
          "2015-07-28",
          "2015-07-29",
          "2015-07-30",
          "2015-07-31",
          "2015-08-03",
          "2015-08-04",
          "2015-08-05",
          "2015-08-06",
          "2015-08-07",
          "2015-08-10",
          "2015-08-11",
          "2015-08-12",
          "2015-08-13",
          "2015-08-14",
          "2015-08-17",
          "2015-08-18",
          "2015-08-19",
          "2015-08-20",
          "2015-08-21",
          "2015-08-24",
          "2015-08-25",
          "2015-08-26",
          "2015-08-27",
          "2015-08-28",
          "2015-08-31",
          "2015-09-01",
          "2015-09-02",
          "2015-09-03",
          "2015-09-04",
          "2015-09-08",
          "2015-09-09",
          "2015-09-10",
          "2015-09-11",
          "2015-09-14",
          "2015-09-15",
          "2015-09-16",
          "2015-09-17",
          "2015-09-18",
          "2015-09-21",
          "2015-09-22",
          "2015-09-23",
          "2015-09-24",
          "2015-09-25",
          "2015-09-28",
          "2015-09-29",
          "2015-09-30",
          "2015-10-01",
          "2015-10-02",
          "2015-10-05",
          "2015-10-06",
          "2015-10-07",
          "2015-10-08",
          "2015-10-09",
          "2015-10-12",
          "2015-10-13",
          "2015-10-14",
          "2015-10-15",
          "2015-10-16",
          "2015-10-19",
          "2015-10-20",
          "2015-10-21",
          "2015-10-22",
          "2015-10-23",
          "2015-10-26",
          "2015-10-27",
          "2015-10-28",
          "2015-10-29",
          "2015-10-30",
          "2015-11-02",
          "2015-11-03",
          "2015-11-04",
          "2015-11-05",
          "2015-11-06",
          "2015-11-09",
          "2015-11-10",
          "2015-11-11",
          "2015-11-12",
          "2015-11-13",
          "2015-11-16",
          "2015-11-17",
          "2015-11-18",
          "2015-11-19",
          "2015-11-20",
          "2015-11-23",
          "2015-11-24",
          "2015-11-25",
          "2015-11-27",
          "2015-11-30",
          "2015-12-01",
          "2015-12-02",
          "2015-12-03",
          "2015-12-04",
          "2015-12-07",
          "2015-12-08",
          "2015-12-09",
          "2015-12-10",
          "2015-12-11",
          "2015-12-14",
          "2015-12-15",
          "2015-12-16",
          "2015-12-17",
          "2015-12-18",
          "2015-12-21",
          "2015-12-22",
          "2015-12-23",
          "2015-12-24",
          "2015-12-28",
          "2015-12-29",
          "2015-12-30",
          "2015-12-31"
         ],
         "y": [
          "",
          "",
          "",
          "",
          "",
          "",
          "",
          "",
          "",
          "",
          "",
          "",
          "",
          36.14499964032854,
          35.89071410042899,
          35.71999985831125,
          35.594285692487446,
          35.36785725184849,
          35.14499991280692,
          34.92571422031948,
          34.786428451538086,
          34.71571431841169,
          34.68428584507534,
          34.709285736083984,
          34.77357155936105,
          34.836428778512136,
          34.93857165745327,
          34.9985716683524,
          35.1235716683524,
          35.24285725184849,
          35.40428570338658,
          35.58999988010952,
          35.73000008719308,
          35.93928582327707,
          36.07142884390695,
          36.192857469831196,
          36.32285744803293,
          36.40357181004116,
          36.40357181004116,
          36.447143282209126,
          36.42285755702427,
          36.33142907278879,
          36.23285756792341,
          36.143571853637695,
          36.05428613935198,
          35.9478577205113,
          35.849286215645925,
          35.87428610665457,
          35.880000250680105,
          35.87928581237793,
          35.87642860412598,
          35.9242856161935,
          35.94714273725237,
          35.96571404593332,
          36.0007141658238,
          36.08285713195801,
          36.07785715375628,
          36.084285736083984,
          36.0957145690918,
          36.19785744803293,
          36.250714438302175,
          36.17071451459612,
          36.1500004359654,
          36.09142902919224,
          36.04785755702427,
          36.014286041259766,
          36.05214309692383,
          36.03357178824289,
          36.032857349940706,
          36.0757143838065,
          36.214285714285715,
          36.338571548461914,
          36.40428570338658,
          36.450714111328125,
          36.526428495134624,
          36.61428560529436,
          36.70857129778181,
          36.81214278084891,
          36.89142853873117,
          36.947143009730745,
          37.00785745893206,
          37.08428600856236,
          37.17071451459612,
          37.24714306422642,
          37.25142887660435,
          37.22928592136928,
          37.28571455819266,
          37.352143151419504,
          37.45928600856236,
          37.49642889840262,
          37.52500016348703,
          37.58071436200823,
          37.637857164655415,
          37.73000008719308,
          37.81571415492466,
          37.888571330479216,
          37.92642865862165,
          37.94499996730259,
          37.969285692487446,
          38.08142852783203,
          38.16642842973982,
          38.188571384974885,
          38.21214294433594,
          38.26928574698312,
          38.357142857142854,
          38.397142955235076,
          38.500000272478374,
          38.554285866873606,
          38.585714612688335,
          38.697143009730745,
          38.82785715375628,
          38.93071447099958,
          39.05500003269741,
          39.135000228881836,
          39.19571467808315,
          39.30928611755371,
          39.36571448189871,
          39.46071434020996,
          39.54642868041992,
          39.61357143947056,
          39.60857146126883,
          39.637857164655415,
          39.57928575788225,
          39.500714438302175,
          39.46428598676409,
          39.42071451459612,
          39.37214306422642,
          39.29214286804199,
          39.16428565979004,
          39.043571199689595,
          38.99142837524414,
          38.95357131958008,
          38.91785703386579,
          38.92214284624372,
          38.971428462437224,
          39.02142851693289,
          39.14499991280692,
          39.237142835344585,
          39.32142857142857,
          39.388571330479216,
          39.44214275905064,
          39.487142835344585,
          39.59142848423549,
          39.67642865862165,
          39.723571504865376,
          39.68928582327707,
          39.621428625924246,
          39.56571415492466,
          39.5007141658238,
          39.40999984741211,
          39.30571419852121,
          39.23428562709263,
          39.04714257376535,
          38.87785693577358,
          38.74571418762207,
          38.65999984741211,
          38.580714089529856,
          38.47571400233677,
          38.34285681588309,
          38.15214238848005,
          37.82714244297573,
          37.351428168160574,
          36.83428532736642,
          36.43214239392962,
          36.126427922930034,
          35.76714202335903,
          35.51928506578718,
          35.20142786843436,
          34.918570790972026,
          34.6149993624006,
          34.261427879333496,
          34.00785650525774,
          33.74428517477853,
          33.579999514988494,
          33.5642854145595,
          33.67499991825649,
          33.87642860412598,
          33.97071429661342,
          33.95285715375628,
          33.87999997820173,
          33.80071422031948,
          33.75214276994978,
          33.647142682756694,
          33.516428402491975,
          33.444999831063406,
          33.21785695212228,
          33.022142682756694,
          32.852857044764924,
          32.6749997820173,
          32.50499970572336,
          32.34142821175711,
          32.179999760219026,
          32.09999983651297,
          32.0971429007394,
          32.05285726274763,
          32.07857159205845,
          32.09928594316755,
          32.140000343322754,
          32.24142905644008,
          32.445714814322336,
          32.539286204746794,
          32.59285763331822,
          32.59142902919224,
          32.65714318411691,
          32.68071447099958,
          32.69428580147879,
          32.64428574698312,
          32.67642838614328,
          32.73499979291643,
          32.74714279174805,
          32.809285572596956,
          32.862857001168386,
          32.8478570665632,
          32.84285708836147,
          33.063571384974885,
          33.267857142857146,
          33.53642872401646,
          33.727143151419504,
          33.84214319501604,
          33.94071469988142,
          34.07071467808315,
          34.08142907278879,
          34.13214329310826,
          34.217857360839844,
          34.2485716683524,
          34.27357155936105,
          34.28714288984026,
          34.267857142857146,
          34.151428495134624,
          34.09357125418527,
          34.09571402413504,
          34.08642823355539,
          34.10214260646275,
          34.201428277151926,
          34.24642835344587,
          34.27999986921038,
          34.217142650059294,
          34.163571221487864,
          34.03285707746233,
          33.90714277539934,
          33.85357134682791,
          33.85357134682791,
          33.75357151031494,
          33.538571630205425,
          33.28214304787772,
          33.091428892953054,
          32.95928587232317,
          32.756428718566895,
          32.57714285169329,
          32.46928555624826,
          32.38785702841623,
          32.27285712105887
         ]
        }
       ],
       "layout": {
        "legend": {
         "bgcolor": "#F5F6F9",
         "font": {
          "color": "#4D5663"
         }
        },
        "paper_bgcolor": "#F5F6F9",
        "plot_bgcolor": "#F5F6F9",
        "template": {
         "data": {
          "bar": [
           {
            "error_x": {
             "color": "#2a3f5f"
            },
            "error_y": {
             "color": "#2a3f5f"
            },
            "marker": {
             "line": {
              "color": "#E5ECF6",
              "width": 0.5
             },
             "pattern": {
              "fillmode": "overlay",
              "size": 10,
              "solidity": 0.2
             }
            },
            "type": "bar"
           }
          ],
          "barpolar": [
           {
            "marker": {
             "line": {
              "color": "#E5ECF6",
              "width": 0.5
             },
             "pattern": {
              "fillmode": "overlay",
              "size": 10,
              "solidity": 0.2
             }
            },
            "type": "barpolar"
           }
          ],
          "carpet": [
           {
            "aaxis": {
             "endlinecolor": "#2a3f5f",
             "gridcolor": "white",
             "linecolor": "white",
             "minorgridcolor": "white",
             "startlinecolor": "#2a3f5f"
            },
            "baxis": {
             "endlinecolor": "#2a3f5f",
             "gridcolor": "white",
             "linecolor": "white",
             "minorgridcolor": "white",
             "startlinecolor": "#2a3f5f"
            },
            "type": "carpet"
           }
          ],
          "choropleth": [
           {
            "colorbar": {
             "outlinewidth": 0,
             "ticks": ""
            },
            "type": "choropleth"
           }
          ],
          "contour": [
           {
            "colorbar": {
             "outlinewidth": 0,
             "ticks": ""
            },
            "colorscale": [
             [
              0,
              "#0d0887"
             ],
             [
              0.1111111111111111,
              "#46039f"
             ],
             [
              0.2222222222222222,
              "#7201a8"
             ],
             [
              0.3333333333333333,
              "#9c179e"
             ],
             [
              0.4444444444444444,
              "#bd3786"
             ],
             [
              0.5555555555555556,
              "#d8576b"
             ],
             [
              0.6666666666666666,
              "#ed7953"
             ],
             [
              0.7777777777777778,
              "#fb9f3a"
             ],
             [
              0.8888888888888888,
              "#fdca26"
             ],
             [
              1,
              "#f0f921"
             ]
            ],
            "type": "contour"
           }
          ],
          "contourcarpet": [
           {
            "colorbar": {
             "outlinewidth": 0,
             "ticks": ""
            },
            "type": "contourcarpet"
           }
          ],
          "heatmap": [
           {
            "colorbar": {
             "outlinewidth": 0,
             "ticks": ""
            },
            "colorscale": [
             [
              0,
              "#0d0887"
             ],
             [
              0.1111111111111111,
              "#46039f"
             ],
             [
              0.2222222222222222,
              "#7201a8"
             ],
             [
              0.3333333333333333,
              "#9c179e"
             ],
             [
              0.4444444444444444,
              "#bd3786"
             ],
             [
              0.5555555555555556,
              "#d8576b"
             ],
             [
              0.6666666666666666,
              "#ed7953"
             ],
             [
              0.7777777777777778,
              "#fb9f3a"
             ],
             [
              0.8888888888888888,
              "#fdca26"
             ],
             [
              1,
              "#f0f921"
             ]
            ],
            "type": "heatmap"
           }
          ],
          "heatmapgl": [
           {
            "colorbar": {
             "outlinewidth": 0,
             "ticks": ""
            },
            "colorscale": [
             [
              0,
              "#0d0887"
             ],
             [
              0.1111111111111111,
              "#46039f"
             ],
             [
              0.2222222222222222,
              "#7201a8"
             ],
             [
              0.3333333333333333,
              "#9c179e"
             ],
             [
              0.4444444444444444,
              "#bd3786"
             ],
             [
              0.5555555555555556,
              "#d8576b"
             ],
             [
              0.6666666666666666,
              "#ed7953"
             ],
             [
              0.7777777777777778,
              "#fb9f3a"
             ],
             [
              0.8888888888888888,
              "#fdca26"
             ],
             [
              1,
              "#f0f921"
             ]
            ],
            "type": "heatmapgl"
           }
          ],
          "histogram": [
           {
            "marker": {
             "pattern": {
              "fillmode": "overlay",
              "size": 10,
              "solidity": 0.2
             }
            },
            "type": "histogram"
           }
          ],
          "histogram2d": [
           {
            "colorbar": {
             "outlinewidth": 0,
             "ticks": ""
            },
            "colorscale": [
             [
              0,
              "#0d0887"
             ],
             [
              0.1111111111111111,
              "#46039f"
             ],
             [
              0.2222222222222222,
              "#7201a8"
             ],
             [
              0.3333333333333333,
              "#9c179e"
             ],
             [
              0.4444444444444444,
              "#bd3786"
             ],
             [
              0.5555555555555556,
              "#d8576b"
             ],
             [
              0.6666666666666666,
              "#ed7953"
             ],
             [
              0.7777777777777778,
              "#fb9f3a"
             ],
             [
              0.8888888888888888,
              "#fdca26"
             ],
             [
              1,
              "#f0f921"
             ]
            ],
            "type": "histogram2d"
           }
          ],
          "histogram2dcontour": [
           {
            "colorbar": {
             "outlinewidth": 0,
             "ticks": ""
            },
            "colorscale": [
             [
              0,
              "#0d0887"
             ],
             [
              0.1111111111111111,
              "#46039f"
             ],
             [
              0.2222222222222222,
              "#7201a8"
             ],
             [
              0.3333333333333333,
              "#9c179e"
             ],
             [
              0.4444444444444444,
              "#bd3786"
             ],
             [
              0.5555555555555556,
              "#d8576b"
             ],
             [
              0.6666666666666666,
              "#ed7953"
             ],
             [
              0.7777777777777778,
              "#fb9f3a"
             ],
             [
              0.8888888888888888,
              "#fdca26"
             ],
             [
              1,
              "#f0f921"
             ]
            ],
            "type": "histogram2dcontour"
           }
          ],
          "mesh3d": [
           {
            "colorbar": {
             "outlinewidth": 0,
             "ticks": ""
            },
            "type": "mesh3d"
           }
          ],
          "parcoords": [
           {
            "line": {
             "colorbar": {
              "outlinewidth": 0,
              "ticks": ""
             }
            },
            "type": "parcoords"
           }
          ],
          "pie": [
           {
            "automargin": true,
            "type": "pie"
           }
          ],
          "scatter": [
           {
            "marker": {
             "colorbar": {
              "outlinewidth": 0,
              "ticks": ""
             }
            },
            "type": "scatter"
           }
          ],
          "scatter3d": [
           {
            "line": {
             "colorbar": {
              "outlinewidth": 0,
              "ticks": ""
             }
            },
            "marker": {
             "colorbar": {
              "outlinewidth": 0,
              "ticks": ""
             }
            },
            "type": "scatter3d"
           }
          ],
          "scattercarpet": [
           {
            "marker": {
             "colorbar": {
              "outlinewidth": 0,
              "ticks": ""
             }
            },
            "type": "scattercarpet"
           }
          ],
          "scattergeo": [
           {
            "marker": {
             "colorbar": {
              "outlinewidth": 0,
              "ticks": ""
             }
            },
            "type": "scattergeo"
           }
          ],
          "scattergl": [
           {
            "marker": {
             "colorbar": {
              "outlinewidth": 0,
              "ticks": ""
             }
            },
            "type": "scattergl"
           }
          ],
          "scattermapbox": [
           {
            "marker": {
             "colorbar": {
              "outlinewidth": 0,
              "ticks": ""
             }
            },
            "type": "scattermapbox"
           }
          ],
          "scatterpolar": [
           {
            "marker": {
             "colorbar": {
              "outlinewidth": 0,
              "ticks": ""
             }
            },
            "type": "scatterpolar"
           }
          ],
          "scatterpolargl": [
           {
            "marker": {
             "colorbar": {
              "outlinewidth": 0,
              "ticks": ""
             }
            },
            "type": "scatterpolargl"
           }
          ],
          "scatterternary": [
           {
            "marker": {
             "colorbar": {
              "outlinewidth": 0,
              "ticks": ""
             }
            },
            "type": "scatterternary"
           }
          ],
          "surface": [
           {
            "colorbar": {
             "outlinewidth": 0,
             "ticks": ""
            },
            "colorscale": [
             [
              0,
              "#0d0887"
             ],
             [
              0.1111111111111111,
              "#46039f"
             ],
             [
              0.2222222222222222,
              "#7201a8"
             ],
             [
              0.3333333333333333,
              "#9c179e"
             ],
             [
              0.4444444444444444,
              "#bd3786"
             ],
             [
              0.5555555555555556,
              "#d8576b"
             ],
             [
              0.6666666666666666,
              "#ed7953"
             ],
             [
              0.7777777777777778,
              "#fb9f3a"
             ],
             [
              0.8888888888888888,
              "#fdca26"
             ],
             [
              1,
              "#f0f921"
             ]
            ],
            "type": "surface"
           }
          ],
          "table": [
           {
            "cells": {
             "fill": {
              "color": "#EBF0F8"
             },
             "line": {
              "color": "white"
             }
            },
            "header": {
             "fill": {
              "color": "#C8D4E3"
             },
             "line": {
              "color": "white"
             }
            },
            "type": "table"
           }
          ]
         },
         "layout": {
          "annotationdefaults": {
           "arrowcolor": "#2a3f5f",
           "arrowhead": 0,
           "arrowwidth": 1
          },
          "autotypenumbers": "strict",
          "coloraxis": {
           "colorbar": {
            "outlinewidth": 0,
            "ticks": ""
           }
          },
          "colorscale": {
           "diverging": [
            [
             0,
             "#8e0152"
            ],
            [
             0.1,
             "#c51b7d"
            ],
            [
             0.2,
             "#de77ae"
            ],
            [
             0.3,
             "#f1b6da"
            ],
            [
             0.4,
             "#fde0ef"
            ],
            [
             0.5,
             "#f7f7f7"
            ],
            [
             0.6,
             "#e6f5d0"
            ],
            [
             0.7,
             "#b8e186"
            ],
            [
             0.8,
             "#7fbc41"
            ],
            [
             0.9,
             "#4d9221"
            ],
            [
             1,
             "#276419"
            ]
           ],
           "sequential": [
            [
             0,
             "#0d0887"
            ],
            [
             0.1111111111111111,
             "#46039f"
            ],
            [
             0.2222222222222222,
             "#7201a8"
            ],
            [
             0.3333333333333333,
             "#9c179e"
            ],
            [
             0.4444444444444444,
             "#bd3786"
            ],
            [
             0.5555555555555556,
             "#d8576b"
            ],
            [
             0.6666666666666666,
             "#ed7953"
            ],
            [
             0.7777777777777778,
             "#fb9f3a"
            ],
            [
             0.8888888888888888,
             "#fdca26"
            ],
            [
             1,
             "#f0f921"
            ]
           ],
           "sequentialminus": [
            [
             0,
             "#0d0887"
            ],
            [
             0.1111111111111111,
             "#46039f"
            ],
            [
             0.2222222222222222,
             "#7201a8"
            ],
            [
             0.3333333333333333,
             "#9c179e"
            ],
            [
             0.4444444444444444,
             "#bd3786"
            ],
            [
             0.5555555555555556,
             "#d8576b"
            ],
            [
             0.6666666666666666,
             "#ed7953"
            ],
            [
             0.7777777777777778,
             "#fb9f3a"
            ],
            [
             0.8888888888888888,
             "#fdca26"
            ],
            [
             1,
             "#f0f921"
            ]
           ]
          },
          "colorway": [
           "#636efa",
           "#EF553B",
           "#00cc96",
           "#ab63fa",
           "#FFA15A",
           "#19d3f3",
           "#FF6692",
           "#B6E880",
           "#FF97FF",
           "#FECB52"
          ],
          "font": {
           "color": "#2a3f5f"
          },
          "geo": {
           "bgcolor": "white",
           "lakecolor": "white",
           "landcolor": "#E5ECF6",
           "showlakes": true,
           "showland": true,
           "subunitcolor": "white"
          },
          "hoverlabel": {
           "align": "left"
          },
          "hovermode": "closest",
          "mapbox": {
           "style": "light"
          },
          "paper_bgcolor": "white",
          "plot_bgcolor": "#E5ECF6",
          "polar": {
           "angularaxis": {
            "gridcolor": "white",
            "linecolor": "white",
            "ticks": ""
           },
           "bgcolor": "#E5ECF6",
           "radialaxis": {
            "gridcolor": "white",
            "linecolor": "white",
            "ticks": ""
           }
          },
          "scene": {
           "xaxis": {
            "backgroundcolor": "#E5ECF6",
            "gridcolor": "white",
            "gridwidth": 2,
            "linecolor": "white",
            "showbackground": true,
            "ticks": "",
            "zerolinecolor": "white"
           },
           "yaxis": {
            "backgroundcolor": "#E5ECF6",
            "gridcolor": "white",
            "gridwidth": 2,
            "linecolor": "white",
            "showbackground": true,
            "ticks": "",
            "zerolinecolor": "white"
           },
           "zaxis": {
            "backgroundcolor": "#E5ECF6",
            "gridcolor": "white",
            "gridwidth": 2,
            "linecolor": "white",
            "showbackground": true,
            "ticks": "",
            "zerolinecolor": "white"
           }
          },
          "shapedefaults": {
           "line": {
            "color": "#2a3f5f"
           }
          },
          "ternary": {
           "aaxis": {
            "gridcolor": "white",
            "linecolor": "white",
            "ticks": ""
           },
           "baxis": {
            "gridcolor": "white",
            "linecolor": "white",
            "ticks": ""
           },
           "bgcolor": "#E5ECF6",
           "caxis": {
            "gridcolor": "white",
            "linecolor": "white",
            "ticks": ""
           }
          },
          "title": {
           "x": 0.05
          },
          "xaxis": {
           "automargin": true,
           "gridcolor": "white",
           "linecolor": "white",
           "ticks": "",
           "title": {
            "standoff": 15
           },
           "zerolinecolor": "white",
           "zerolinewidth": 2
          },
          "yaxis": {
           "automargin": true,
           "gridcolor": "white",
           "linecolor": "white",
           "ticks": "",
           "title": {
            "standoff": 15
           },
           "zerolinecolor": "white",
           "zerolinewidth": 2
          }
         }
        },
        "title": {
         "font": {
          "color": "#4D5663"
         }
        },
        "xaxis": {
         "gridcolor": "#E1E5ED",
         "showgrid": true,
         "tickfont": {
          "color": "#4D5663"
         },
         "title": {
          "font": {
           "color": "#4D5663"
          },
          "text": ""
         },
         "zerolinecolor": "#E1E5ED"
        },
        "yaxis": {
         "gridcolor": "#E1E5ED",
         "showgrid": true,
         "tickfont": {
          "color": "#4D5663"
         },
         "title": {
          "font": {
           "color": "#4D5663"
          },
          "text": ""
         },
         "zerolinecolor": "#E1E5ED"
        }
       }
      },
      "text/html": [
       "<div>                            <div id=\"e1482d7b-261b-4ceb-bbd9-92e31222bbc2\" class=\"plotly-graph-div\" style=\"height:525px; width:100%;\"></div>            <script type=\"text/javascript\">                require([\"plotly\"], function(Plotly) {                    window.PLOTLYENV=window.PLOTLYENV || {};\n",
       "                    window.PLOTLYENV.BASE_URL='https://plot.ly';                                    if (document.getElementById(\"e1482d7b-261b-4ceb-bbd9-92e31222bbc2\")) {                    Plotly.newPlot(                        \"e1482d7b-261b-4ceb-bbd9-92e31222bbc2\",                        [{\"line\":{\"color\":\"rgba(255, 153, 51, 1.0)\",\"dash\":\"solid\",\"shape\":\"linear\",\"width\":1.3},\"mode\":\"lines\",\"name\":\"Close\",\"text\":\"\",\"x\":[\"2015-01-02\",\"2015-01-05\",\"2015-01-06\",\"2015-01-07\",\"2015-01-08\",\"2015-01-09\",\"2015-01-12\",\"2015-01-13\",\"2015-01-14\",\"2015-01-15\",\"2015-01-16\",\"2015-01-20\",\"2015-01-21\",\"2015-01-22\",\"2015-01-23\",\"2015-01-26\",\"2015-01-27\",\"2015-01-28\",\"2015-01-29\",\"2015-01-30\",\"2015-02-02\",\"2015-02-03\",\"2015-02-04\",\"2015-02-05\",\"2015-02-06\",\"2015-02-09\",\"2015-02-10\",\"2015-02-11\",\"2015-02-12\",\"2015-02-13\",\"2015-02-17\",\"2015-02-18\",\"2015-02-19\",\"2015-02-20\",\"2015-02-23\",\"2015-02-24\",\"2015-02-25\",\"2015-02-26\",\"2015-02-27\",\"2015-03-02\",\"2015-03-03\",\"2015-03-04\",\"2015-03-05\",\"2015-03-06\",\"2015-03-09\",\"2015-03-10\",\"2015-03-11\",\"2015-03-12\",\"2015-03-13\",\"2015-03-16\",\"2015-03-17\",\"2015-03-18\",\"2015-03-19\",\"2015-03-20\",\"2015-03-23\",\"2015-03-24\",\"2015-03-25\",\"2015-03-26\",\"2015-03-27\",\"2015-03-30\",\"2015-03-31\",\"2015-04-01\",\"2015-04-02\",\"2015-04-06\",\"2015-04-07\",\"2015-04-08\",\"2015-04-09\",\"2015-04-10\",\"2015-04-13\",\"2015-04-14\",\"2015-04-15\",\"2015-04-16\",\"2015-04-17\",\"2015-04-20\",\"2015-04-21\",\"2015-04-22\",\"2015-04-23\",\"2015-04-24\",\"2015-04-27\",\"2015-04-28\",\"2015-04-29\",\"2015-04-30\",\"2015-05-01\",\"2015-05-04\",\"2015-05-05\",\"2015-05-06\",\"2015-05-07\",\"2015-05-08\",\"2015-05-11\",\"2015-05-12\",\"2015-05-13\",\"2015-05-14\",\"2015-05-15\",\"2015-05-18\",\"2015-05-19\",\"2015-05-20\",\"2015-05-21\",\"2015-05-22\",\"2015-05-26\",\"2015-05-27\",\"2015-05-28\",\"2015-05-29\",\"2015-06-01\",\"2015-06-02\",\"2015-06-03\",\"2015-06-04\",\"2015-06-05\",\"2015-06-08\",\"2015-06-09\",\"2015-06-10\",\"2015-06-11\",\"2015-06-12\",\"2015-06-15\",\"2015-06-16\",\"2015-06-17\",\"2015-06-18\",\"2015-06-19\",\"2015-06-22\",\"2015-06-23\",\"2015-06-24\",\"2015-06-25\",\"2015-06-26\",\"2015-06-29\",\"2015-06-30\",\"2015-07-01\",\"2015-07-02\",\"2015-07-06\",\"2015-07-07\",\"2015-07-08\",\"2015-07-09\",\"2015-07-10\",\"2015-07-13\",\"2015-07-14\",\"2015-07-15\",\"2015-07-16\",\"2015-07-17\",\"2015-07-20\",\"2015-07-21\",\"2015-07-22\",\"2015-07-23\",\"2015-07-24\",\"2015-07-27\",\"2015-07-28\",\"2015-07-29\",\"2015-07-30\",\"2015-07-31\",\"2015-08-03\",\"2015-08-04\",\"2015-08-05\",\"2015-08-06\",\"2015-08-07\",\"2015-08-10\",\"2015-08-11\",\"2015-08-12\",\"2015-08-13\",\"2015-08-14\",\"2015-08-17\",\"2015-08-18\",\"2015-08-19\",\"2015-08-20\",\"2015-08-21\",\"2015-08-24\",\"2015-08-25\",\"2015-08-26\",\"2015-08-27\",\"2015-08-28\",\"2015-08-31\",\"2015-09-01\",\"2015-09-02\",\"2015-09-03\",\"2015-09-04\",\"2015-09-08\",\"2015-09-09\",\"2015-09-10\",\"2015-09-11\",\"2015-09-14\",\"2015-09-15\",\"2015-09-16\",\"2015-09-17\",\"2015-09-18\",\"2015-09-21\",\"2015-09-22\",\"2015-09-23\",\"2015-09-24\",\"2015-09-25\",\"2015-09-28\",\"2015-09-29\",\"2015-09-30\",\"2015-10-01\",\"2015-10-02\",\"2015-10-05\",\"2015-10-06\",\"2015-10-07\",\"2015-10-08\",\"2015-10-09\",\"2015-10-12\",\"2015-10-13\",\"2015-10-14\",\"2015-10-15\",\"2015-10-16\",\"2015-10-19\",\"2015-10-20\",\"2015-10-21\",\"2015-10-22\",\"2015-10-23\",\"2015-10-26\",\"2015-10-27\",\"2015-10-28\",\"2015-10-29\",\"2015-10-30\",\"2015-11-02\",\"2015-11-03\",\"2015-11-04\",\"2015-11-05\",\"2015-11-06\",\"2015-11-09\",\"2015-11-10\",\"2015-11-11\",\"2015-11-12\",\"2015-11-13\",\"2015-11-16\",\"2015-11-17\",\"2015-11-18\",\"2015-11-19\",\"2015-11-20\",\"2015-11-23\",\"2015-11-24\",\"2015-11-25\",\"2015-11-27\",\"2015-11-30\",\"2015-12-01\",\"2015-12-02\",\"2015-12-03\",\"2015-12-04\",\"2015-12-07\",\"2015-12-08\",\"2015-12-09\",\"2015-12-10\",\"2015-12-11\",\"2015-12-14\",\"2015-12-15\",\"2015-12-16\",\"2015-12-17\",\"2015-12-18\",\"2015-12-21\",\"2015-12-22\",\"2015-12-23\",\"2015-12-24\",\"2015-12-28\",\"2015-12-29\",\"2015-12-30\",\"2015-12-31\"],\"y\":[38.709999084472656,37.5,36.41999816894531,36.939998626708984,37.4900016784668,36.880001068115234,36.369998931884766,36.029998779296875,35.209999084472656,34.58000183105469,34.88999938964844,34.75,34.72999954223633,35.529998779296875,35.150001525878906,35.11000061035156,34.65999984741211,33.77000045776367,34.369998931884766,33.810001373291016,34.41999816894531,35.040000915527344,34.77000045776367,34.93000030517578,35.790000915527344,35.630001068115234,36.15999984741211,36.369998931884766,36.900001525878906,36.779998779296875,36.91999816894531,36.369998931884766,36.33000183105469,36.7400016784668,36.27000045776367,36.7400016784668,36.59000015258789,36.060001373291016,35.790000915527344,36.2400016784668,35.81999969482422,35.09000015258789,35.52000045776367,35.529998779296875,35.66999816894531,34.880001068115234,34.95000076293945,37.09000015258789,36.349998474121094,36.72999954223633,36.54999923706055,36.72999954223633,36.11000061035156,36.5,36.310001373291016,36.2400016784668,35.45000076293945,35.619998931884766,35.83000183105469,36.310001373291016,35.689998626708984,35.970001220703125,36.060001373291016,35.90999984741211,35.939998626708984,36.2599983215332,36.63999938964844,36.2400016784668,36.29999923706055,36.84000015258789,37.38999938964844,37.36000061035156,36.75,36.959999084472656,36.75,37.20000076293945,37.380001068115234,37.36000061035156,37.04999923706055,37.040000915527344,37.4900016784668,37.310001373291016,37.5099983215332,37.90999984741211,37.45000076293945,37.04999923706055,37.540000915527344,37.88999938964844,38.25,37.720001220703125,37.779998779296875,38.13999938964844,37.849998474121094,38.33000183105469,38.689998626708984,38.33000183105469,38.040000915527344,38.16999816894531,37.790000915527344,38.619998931884766,38.72999954223633,38.20000076293945,38.58000183105469,38.52000045776367,39.0099983215332,38.70000076293945,39.290000915527344,39.09000015258789,39.130001068115234,39.88999938964844,39.869998931884766,39.61000061035156,39.529998779296875,39.7400016784668,39.58000183105469,39.790000915527344,39.369998931884766,39.849998474121094,40.209999084472656,39.63999938964844,39.220001220703125,39.5,38.310001373291016,38.790000915527344,39.36000061035156,39.0,38.849998474121094,38.619998931884766,37.790000915527344,38.099998474121094,38.63999938964844,39.31999969482422,39.709999084472656,39.70000076293945,39.90999984741211,40.20000076293945,40.040000915527344,40.08000183105469,40.540000915527344,39.939998626708984,39.599998474121094,39.25,39.25,39.290000915527344,39.29999923706055,38.84000015258789,38.7599983215332,38.91999816894531,39.0,38.93000030517578,38.58000183105469,39.08000183105469,37.91999816894531,37.56999969482422,37.75,38.04999923706055,38.13999938964844,37.81999969482422,37.439998626708984,36.16999816894531,34.209999084472656,32.2599983215332,31.760000228881836,33.29999923706055,34.29999923706055,34.04999923706055,34.45000076293945,33.119998931884766,33.790000915527344,33.79999923706055,33.189998626708984,34.27000045776367,33.75,33.869998931884766,33.9900016784668,33.810001373291016,34.58000183105469,34.619998931884766,34.04999923706055,33.029998779296875,33.34000015258789,32.439998626708984,32.31999969482422,31.969999313354492,32.189998626708984,31.09000015258789,31.010000228881836,31.5,31.5,31.43000030517578,32.290000915527344,32.36000061035156,32.93000030517578,32.9900016784668,32.720001220703125,32.79999923706055,32.61000061035156,32.540000915527344,33.61000061035156,33.95000076293945,32.31999969482422,32.25,31.479999542236328,32.349998474121094,32.619998931884766,32.54999923706055,32.22999954223633,33.439998626708984,33.540000915527344,32.970001220703125,33.47999954223633,33.290000915527344,33.400001525878906,33.880001068115234,35.40999984741211,35.11000061035156,35.2400016784668,35.02000045776367,34.22999954223633,33.93000030517578,34.04999923706055,33.59000015258789,34.25,34.16999816894531,33.90999984741211,33.63999938964844,33.59000015258789,33.61000061035156,33.779998779296875,34.29999923706055,35.27000045776367,34.88999938964844,34.45000076293945,35.31999969482422,34.68000030517578,34.060001373291016,33.369998931884766,33.41999816894531,32.08000183105469,31.8799991607666,32.84000015258789,33.61000061035156,32.380001068115234,31.290000915527344,31.68000030517578,32.220001220703125,32.599998474121094,32.47999954223633,32.16999816894531,32.54999923706055,32.22999954223633,31.809999465942383],\"type\":\"scatter\"},{\"line\":{\"color\":\"rgba(55, 128, 191, 1.0)\",\"dash\":\"solid\",\"shape\":\"linear\",\"width\":1.3},\"mode\":\"lines\",\"name\":\"SMA(14)\",\"text\":\"\",\"x\":[\"2015-01-02\",\"2015-01-05\",\"2015-01-06\",\"2015-01-07\",\"2015-01-08\",\"2015-01-09\",\"2015-01-12\",\"2015-01-13\",\"2015-01-14\",\"2015-01-15\",\"2015-01-16\",\"2015-01-20\",\"2015-01-21\",\"2015-01-22\",\"2015-01-23\",\"2015-01-26\",\"2015-01-27\",\"2015-01-28\",\"2015-01-29\",\"2015-01-30\",\"2015-02-02\",\"2015-02-03\",\"2015-02-04\",\"2015-02-05\",\"2015-02-06\",\"2015-02-09\",\"2015-02-10\",\"2015-02-11\",\"2015-02-12\",\"2015-02-13\",\"2015-02-17\",\"2015-02-18\",\"2015-02-19\",\"2015-02-20\",\"2015-02-23\",\"2015-02-24\",\"2015-02-25\",\"2015-02-26\",\"2015-02-27\",\"2015-03-02\",\"2015-03-03\",\"2015-03-04\",\"2015-03-05\",\"2015-03-06\",\"2015-03-09\",\"2015-03-10\",\"2015-03-11\",\"2015-03-12\",\"2015-03-13\",\"2015-03-16\",\"2015-03-17\",\"2015-03-18\",\"2015-03-19\",\"2015-03-20\",\"2015-03-23\",\"2015-03-24\",\"2015-03-25\",\"2015-03-26\",\"2015-03-27\",\"2015-03-30\",\"2015-03-31\",\"2015-04-01\",\"2015-04-02\",\"2015-04-06\",\"2015-04-07\",\"2015-04-08\",\"2015-04-09\",\"2015-04-10\",\"2015-04-13\",\"2015-04-14\",\"2015-04-15\",\"2015-04-16\",\"2015-04-17\",\"2015-04-20\",\"2015-04-21\",\"2015-04-22\",\"2015-04-23\",\"2015-04-24\",\"2015-04-27\",\"2015-04-28\",\"2015-04-29\",\"2015-04-30\",\"2015-05-01\",\"2015-05-04\",\"2015-05-05\",\"2015-05-06\",\"2015-05-07\",\"2015-05-08\",\"2015-05-11\",\"2015-05-12\",\"2015-05-13\",\"2015-05-14\",\"2015-05-15\",\"2015-05-18\",\"2015-05-19\",\"2015-05-20\",\"2015-05-21\",\"2015-05-22\",\"2015-05-26\",\"2015-05-27\",\"2015-05-28\",\"2015-05-29\",\"2015-06-01\",\"2015-06-02\",\"2015-06-03\",\"2015-06-04\",\"2015-06-05\",\"2015-06-08\",\"2015-06-09\",\"2015-06-10\",\"2015-06-11\",\"2015-06-12\",\"2015-06-15\",\"2015-06-16\",\"2015-06-17\",\"2015-06-18\",\"2015-06-19\",\"2015-06-22\",\"2015-06-23\",\"2015-06-24\",\"2015-06-25\",\"2015-06-26\",\"2015-06-29\",\"2015-06-30\",\"2015-07-01\",\"2015-07-02\",\"2015-07-06\",\"2015-07-07\",\"2015-07-08\",\"2015-07-09\",\"2015-07-10\",\"2015-07-13\",\"2015-07-14\",\"2015-07-15\",\"2015-07-16\",\"2015-07-17\",\"2015-07-20\",\"2015-07-21\",\"2015-07-22\",\"2015-07-23\",\"2015-07-24\",\"2015-07-27\",\"2015-07-28\",\"2015-07-29\",\"2015-07-30\",\"2015-07-31\",\"2015-08-03\",\"2015-08-04\",\"2015-08-05\",\"2015-08-06\",\"2015-08-07\",\"2015-08-10\",\"2015-08-11\",\"2015-08-12\",\"2015-08-13\",\"2015-08-14\",\"2015-08-17\",\"2015-08-18\",\"2015-08-19\",\"2015-08-20\",\"2015-08-21\",\"2015-08-24\",\"2015-08-25\",\"2015-08-26\",\"2015-08-27\",\"2015-08-28\",\"2015-08-31\",\"2015-09-01\",\"2015-09-02\",\"2015-09-03\",\"2015-09-04\",\"2015-09-08\",\"2015-09-09\",\"2015-09-10\",\"2015-09-11\",\"2015-09-14\",\"2015-09-15\",\"2015-09-16\",\"2015-09-17\",\"2015-09-18\",\"2015-09-21\",\"2015-09-22\",\"2015-09-23\",\"2015-09-24\",\"2015-09-25\",\"2015-09-28\",\"2015-09-29\",\"2015-09-30\",\"2015-10-01\",\"2015-10-02\",\"2015-10-05\",\"2015-10-06\",\"2015-10-07\",\"2015-10-08\",\"2015-10-09\",\"2015-10-12\",\"2015-10-13\",\"2015-10-14\",\"2015-10-15\",\"2015-10-16\",\"2015-10-19\",\"2015-10-20\",\"2015-10-21\",\"2015-10-22\",\"2015-10-23\",\"2015-10-26\",\"2015-10-27\",\"2015-10-28\",\"2015-10-29\",\"2015-10-30\",\"2015-11-02\",\"2015-11-03\",\"2015-11-04\",\"2015-11-05\",\"2015-11-06\",\"2015-11-09\",\"2015-11-10\",\"2015-11-11\",\"2015-11-12\",\"2015-11-13\",\"2015-11-16\",\"2015-11-17\",\"2015-11-18\",\"2015-11-19\",\"2015-11-20\",\"2015-11-23\",\"2015-11-24\",\"2015-11-25\",\"2015-11-27\",\"2015-11-30\",\"2015-12-01\",\"2015-12-02\",\"2015-12-03\",\"2015-12-04\",\"2015-12-07\",\"2015-12-08\",\"2015-12-09\",\"2015-12-10\",\"2015-12-11\",\"2015-12-14\",\"2015-12-15\",\"2015-12-16\",\"2015-12-17\",\"2015-12-18\",\"2015-12-21\",\"2015-12-22\",\"2015-12-23\",\"2015-12-24\",\"2015-12-28\",\"2015-12-29\",\"2015-12-30\",\"2015-12-31\"],\"y\":[\"\",\"\",\"\",\"\",\"\",\"\",\"\",\"\",\"\",\"\",\"\",\"\",\"\",36.14499964032854,35.89071410042899,35.71999985831125,35.594285692487446,35.36785725184849,35.14499991280692,34.92571422031948,34.786428451538086,34.71571431841169,34.68428584507534,34.709285736083984,34.77357155936105,34.836428778512136,34.93857165745327,34.9985716683524,35.1235716683524,35.24285725184849,35.40428570338658,35.58999988010952,35.73000008719308,35.93928582327707,36.07142884390695,36.192857469831196,36.32285744803293,36.40357181004116,36.40357181004116,36.447143282209126,36.42285755702427,36.33142907278879,36.23285756792341,36.143571853637695,36.05428613935198,35.9478577205113,35.849286215645925,35.87428610665457,35.880000250680105,35.87928581237793,35.87642860412598,35.9242856161935,35.94714273725237,35.96571404593332,36.0007141658238,36.08285713195801,36.07785715375628,36.084285736083984,36.0957145690918,36.19785744803293,36.250714438302175,36.17071451459612,36.1500004359654,36.09142902919224,36.04785755702427,36.014286041259766,36.05214309692383,36.03357178824289,36.032857349940706,36.0757143838065,36.214285714285715,36.338571548461914,36.40428570338658,36.450714111328125,36.526428495134624,36.61428560529436,36.70857129778181,36.81214278084891,36.89142853873117,36.947143009730745,37.00785745893206,37.08428600856236,37.17071451459612,37.24714306422642,37.25142887660435,37.22928592136928,37.28571455819266,37.352143151419504,37.45928600856236,37.49642889840262,37.52500016348703,37.58071436200823,37.637857164655415,37.73000008719308,37.81571415492466,37.888571330479216,37.92642865862165,37.94499996730259,37.969285692487446,38.08142852783203,38.16642842973982,38.188571384974885,38.21214294433594,38.26928574698312,38.357142857142854,38.397142955235076,38.500000272478374,38.554285866873606,38.585714612688335,38.697143009730745,38.82785715375628,38.93071447099958,39.05500003269741,39.135000228881836,39.19571467808315,39.30928611755371,39.36571448189871,39.46071434020996,39.54642868041992,39.61357143947056,39.60857146126883,39.637857164655415,39.57928575788225,39.500714438302175,39.46428598676409,39.42071451459612,39.37214306422642,39.29214286804199,39.16428565979004,39.043571199689595,38.99142837524414,38.95357131958008,38.91785703386579,38.92214284624372,38.971428462437224,39.02142851693289,39.14499991280692,39.237142835344585,39.32142857142857,39.388571330479216,39.44214275905064,39.487142835344585,39.59142848423549,39.67642865862165,39.723571504865376,39.68928582327707,39.621428625924246,39.56571415492466,39.5007141658238,39.40999984741211,39.30571419852121,39.23428562709263,39.04714257376535,38.87785693577358,38.74571418762207,38.65999984741211,38.580714089529856,38.47571400233677,38.34285681588309,38.15214238848005,37.82714244297573,37.351428168160574,36.83428532736642,36.43214239392962,36.126427922930034,35.76714202335903,35.51928506578718,35.20142786843436,34.918570790972026,34.6149993624006,34.261427879333496,34.00785650525774,33.74428517477853,33.579999514988494,33.5642854145595,33.67499991825649,33.87642860412598,33.97071429661342,33.95285715375628,33.87999997820173,33.80071422031948,33.75214276994978,33.647142682756694,33.516428402491975,33.444999831063406,33.21785695212228,33.022142682756694,32.852857044764924,32.6749997820173,32.50499970572336,32.34142821175711,32.179999760219026,32.09999983651297,32.0971429007394,32.05285726274763,32.07857159205845,32.09928594316755,32.140000343322754,32.24142905644008,32.445714814322336,32.539286204746794,32.59285763331822,32.59142902919224,32.65714318411691,32.68071447099958,32.69428580147879,32.64428574698312,32.67642838614328,32.73499979291643,32.74714279174805,32.809285572596956,32.862857001168386,32.8478570665632,32.84285708836147,33.063571384974885,33.267857142857146,33.53642872401646,33.727143151419504,33.84214319501604,33.94071469988142,34.07071467808315,34.08142907278879,34.13214329310826,34.217857360839844,34.2485716683524,34.27357155936105,34.28714288984026,34.267857142857146,34.151428495134624,34.09357125418527,34.09571402413504,34.08642823355539,34.10214260646275,34.201428277151926,34.24642835344587,34.27999986921038,34.217142650059294,34.163571221487864,34.03285707746233,33.90714277539934,33.85357134682791,33.85357134682791,33.75357151031494,33.538571630205425,33.28214304787772,33.091428892953054,32.95928587232317,32.756428718566895,32.57714285169329,32.46928555624826,32.38785702841623,32.27285712105887],\"type\":\"scatter\"}],                        {\"legend\":{\"bgcolor\":\"#F5F6F9\",\"font\":{\"color\":\"#4D5663\"}},\"paper_bgcolor\":\"#F5F6F9\",\"plot_bgcolor\":\"#F5F6F9\",\"template\":{\"data\":{\"barpolar\":[{\"marker\":{\"line\":{\"color\":\"#E5ECF6\",\"width\":0.5},\"pattern\":{\"fillmode\":\"overlay\",\"size\":10,\"solidity\":0.2}},\"type\":\"barpolar\"}],\"bar\":[{\"error_x\":{\"color\":\"#2a3f5f\"},\"error_y\":{\"color\":\"#2a3f5f\"},\"marker\":{\"line\":{\"color\":\"#E5ECF6\",\"width\":0.5},\"pattern\":{\"fillmode\":\"overlay\",\"size\":10,\"solidity\":0.2}},\"type\":\"bar\"}],\"carpet\":[{\"aaxis\":{\"endlinecolor\":\"#2a3f5f\",\"gridcolor\":\"white\",\"linecolor\":\"white\",\"minorgridcolor\":\"white\",\"startlinecolor\":\"#2a3f5f\"},\"baxis\":{\"endlinecolor\":\"#2a3f5f\",\"gridcolor\":\"white\",\"linecolor\":\"white\",\"minorgridcolor\":\"white\",\"startlinecolor\":\"#2a3f5f\"},\"type\":\"carpet\"}],\"choropleth\":[{\"colorbar\":{\"outlinewidth\":0,\"ticks\":\"\"},\"type\":\"choropleth\"}],\"contourcarpet\":[{\"colorbar\":{\"outlinewidth\":0,\"ticks\":\"\"},\"type\":\"contourcarpet\"}],\"contour\":[{\"colorbar\":{\"outlinewidth\":0,\"ticks\":\"\"},\"colorscale\":[[0.0,\"#0d0887\"],[0.1111111111111111,\"#46039f\"],[0.2222222222222222,\"#7201a8\"],[0.3333333333333333,\"#9c179e\"],[0.4444444444444444,\"#bd3786\"],[0.5555555555555556,\"#d8576b\"],[0.6666666666666666,\"#ed7953\"],[0.7777777777777778,\"#fb9f3a\"],[0.8888888888888888,\"#fdca26\"],[1.0,\"#f0f921\"]],\"type\":\"contour\"}],\"heatmapgl\":[{\"colorbar\":{\"outlinewidth\":0,\"ticks\":\"\"},\"colorscale\":[[0.0,\"#0d0887\"],[0.1111111111111111,\"#46039f\"],[0.2222222222222222,\"#7201a8\"],[0.3333333333333333,\"#9c179e\"],[0.4444444444444444,\"#bd3786\"],[0.5555555555555556,\"#d8576b\"],[0.6666666666666666,\"#ed7953\"],[0.7777777777777778,\"#fb9f3a\"],[0.8888888888888888,\"#fdca26\"],[1.0,\"#f0f921\"]],\"type\":\"heatmapgl\"}],\"heatmap\":[{\"colorbar\":{\"outlinewidth\":0,\"ticks\":\"\"},\"colorscale\":[[0.0,\"#0d0887\"],[0.1111111111111111,\"#46039f\"],[0.2222222222222222,\"#7201a8\"],[0.3333333333333333,\"#9c179e\"],[0.4444444444444444,\"#bd3786\"],[0.5555555555555556,\"#d8576b\"],[0.6666666666666666,\"#ed7953\"],[0.7777777777777778,\"#fb9f3a\"],[0.8888888888888888,\"#fdca26\"],[1.0,\"#f0f921\"]],\"type\":\"heatmap\"}],\"histogram2dcontour\":[{\"colorbar\":{\"outlinewidth\":0,\"ticks\":\"\"},\"colorscale\":[[0.0,\"#0d0887\"],[0.1111111111111111,\"#46039f\"],[0.2222222222222222,\"#7201a8\"],[0.3333333333333333,\"#9c179e\"],[0.4444444444444444,\"#bd3786\"],[0.5555555555555556,\"#d8576b\"],[0.6666666666666666,\"#ed7953\"],[0.7777777777777778,\"#fb9f3a\"],[0.8888888888888888,\"#fdca26\"],[1.0,\"#f0f921\"]],\"type\":\"histogram2dcontour\"}],\"histogram2d\":[{\"colorbar\":{\"outlinewidth\":0,\"ticks\":\"\"},\"colorscale\":[[0.0,\"#0d0887\"],[0.1111111111111111,\"#46039f\"],[0.2222222222222222,\"#7201a8\"],[0.3333333333333333,\"#9c179e\"],[0.4444444444444444,\"#bd3786\"],[0.5555555555555556,\"#d8576b\"],[0.6666666666666666,\"#ed7953\"],[0.7777777777777778,\"#fb9f3a\"],[0.8888888888888888,\"#fdca26\"],[1.0,\"#f0f921\"]],\"type\":\"histogram2d\"}],\"histogram\":[{\"marker\":{\"pattern\":{\"fillmode\":\"overlay\",\"size\":10,\"solidity\":0.2}},\"type\":\"histogram\"}],\"mesh3d\":[{\"colorbar\":{\"outlinewidth\":0,\"ticks\":\"\"},\"type\":\"mesh3d\"}],\"parcoords\":[{\"line\":{\"colorbar\":{\"outlinewidth\":0,\"ticks\":\"\"}},\"type\":\"parcoords\"}],\"pie\":[{\"automargin\":true,\"type\":\"pie\"}],\"scatter3d\":[{\"line\":{\"colorbar\":{\"outlinewidth\":0,\"ticks\":\"\"}},\"marker\":{\"colorbar\":{\"outlinewidth\":0,\"ticks\":\"\"}},\"type\":\"scatter3d\"}],\"scattercarpet\":[{\"marker\":{\"colorbar\":{\"outlinewidth\":0,\"ticks\":\"\"}},\"type\":\"scattercarpet\"}],\"scattergeo\":[{\"marker\":{\"colorbar\":{\"outlinewidth\":0,\"ticks\":\"\"}},\"type\":\"scattergeo\"}],\"scattergl\":[{\"marker\":{\"colorbar\":{\"outlinewidth\":0,\"ticks\":\"\"}},\"type\":\"scattergl\"}],\"scattermapbox\":[{\"marker\":{\"colorbar\":{\"outlinewidth\":0,\"ticks\":\"\"}},\"type\":\"scattermapbox\"}],\"scatterpolargl\":[{\"marker\":{\"colorbar\":{\"outlinewidth\":0,\"ticks\":\"\"}},\"type\":\"scatterpolargl\"}],\"scatterpolar\":[{\"marker\":{\"colorbar\":{\"outlinewidth\":0,\"ticks\":\"\"}},\"type\":\"scatterpolar\"}],\"scatter\":[{\"marker\":{\"colorbar\":{\"outlinewidth\":0,\"ticks\":\"\"}},\"type\":\"scatter\"}],\"scatterternary\":[{\"marker\":{\"colorbar\":{\"outlinewidth\":0,\"ticks\":\"\"}},\"type\":\"scatterternary\"}],\"surface\":[{\"colorbar\":{\"outlinewidth\":0,\"ticks\":\"\"},\"colorscale\":[[0.0,\"#0d0887\"],[0.1111111111111111,\"#46039f\"],[0.2222222222222222,\"#7201a8\"],[0.3333333333333333,\"#9c179e\"],[0.4444444444444444,\"#bd3786\"],[0.5555555555555556,\"#d8576b\"],[0.6666666666666666,\"#ed7953\"],[0.7777777777777778,\"#fb9f3a\"],[0.8888888888888888,\"#fdca26\"],[1.0,\"#f0f921\"]],\"type\":\"surface\"}],\"table\":[{\"cells\":{\"fill\":{\"color\":\"#EBF0F8\"},\"line\":{\"color\":\"white\"}},\"header\":{\"fill\":{\"color\":\"#C8D4E3\"},\"line\":{\"color\":\"white\"}},\"type\":\"table\"}]},\"layout\":{\"annotationdefaults\":{\"arrowcolor\":\"#2a3f5f\",\"arrowhead\":0,\"arrowwidth\":1},\"autotypenumbers\":\"strict\",\"coloraxis\":{\"colorbar\":{\"outlinewidth\":0,\"ticks\":\"\"}},\"colorscale\":{\"diverging\":[[0,\"#8e0152\"],[0.1,\"#c51b7d\"],[0.2,\"#de77ae\"],[0.3,\"#f1b6da\"],[0.4,\"#fde0ef\"],[0.5,\"#f7f7f7\"],[0.6,\"#e6f5d0\"],[0.7,\"#b8e186\"],[0.8,\"#7fbc41\"],[0.9,\"#4d9221\"],[1,\"#276419\"]],\"sequential\":[[0.0,\"#0d0887\"],[0.1111111111111111,\"#46039f\"],[0.2222222222222222,\"#7201a8\"],[0.3333333333333333,\"#9c179e\"],[0.4444444444444444,\"#bd3786\"],[0.5555555555555556,\"#d8576b\"],[0.6666666666666666,\"#ed7953\"],[0.7777777777777778,\"#fb9f3a\"],[0.8888888888888888,\"#fdca26\"],[1.0,\"#f0f921\"]],\"sequentialminus\":[[0.0,\"#0d0887\"],[0.1111111111111111,\"#46039f\"],[0.2222222222222222,\"#7201a8\"],[0.3333333333333333,\"#9c179e\"],[0.4444444444444444,\"#bd3786\"],[0.5555555555555556,\"#d8576b\"],[0.6666666666666666,\"#ed7953\"],[0.7777777777777778,\"#fb9f3a\"],[0.8888888888888888,\"#fdca26\"],[1.0,\"#f0f921\"]]},\"colorway\":[\"#636efa\",\"#EF553B\",\"#00cc96\",\"#ab63fa\",\"#FFA15A\",\"#19d3f3\",\"#FF6692\",\"#B6E880\",\"#FF97FF\",\"#FECB52\"],\"font\":{\"color\":\"#2a3f5f\"},\"geo\":{\"bgcolor\":\"white\",\"lakecolor\":\"white\",\"landcolor\":\"#E5ECF6\",\"showlakes\":true,\"showland\":true,\"subunitcolor\":\"white\"},\"hoverlabel\":{\"align\":\"left\"},\"hovermode\":\"closest\",\"mapbox\":{\"style\":\"light\"},\"paper_bgcolor\":\"white\",\"plot_bgcolor\":\"#E5ECF6\",\"polar\":{\"angularaxis\":{\"gridcolor\":\"white\",\"linecolor\":\"white\",\"ticks\":\"\"},\"bgcolor\":\"#E5ECF6\",\"radialaxis\":{\"gridcolor\":\"white\",\"linecolor\":\"white\",\"ticks\":\"\"}},\"scene\":{\"xaxis\":{\"backgroundcolor\":\"#E5ECF6\",\"gridcolor\":\"white\",\"gridwidth\":2,\"linecolor\":\"white\",\"showbackground\":true,\"ticks\":\"\",\"zerolinecolor\":\"white\"},\"yaxis\":{\"backgroundcolor\":\"#E5ECF6\",\"gridcolor\":\"white\",\"gridwidth\":2,\"linecolor\":\"white\",\"showbackground\":true,\"ticks\":\"\",\"zerolinecolor\":\"white\"},\"zaxis\":{\"backgroundcolor\":\"#E5ECF6\",\"gridcolor\":\"white\",\"gridwidth\":2,\"linecolor\":\"white\",\"showbackground\":true,\"ticks\":\"\",\"zerolinecolor\":\"white\"}},\"shapedefaults\":{\"line\":{\"color\":\"#2a3f5f\"}},\"ternary\":{\"aaxis\":{\"gridcolor\":\"white\",\"linecolor\":\"white\",\"ticks\":\"\"},\"baxis\":{\"gridcolor\":\"white\",\"linecolor\":\"white\",\"ticks\":\"\"},\"bgcolor\":\"#E5ECF6\",\"caxis\":{\"gridcolor\":\"white\",\"linecolor\":\"white\",\"ticks\":\"\"}},\"title\":{\"x\":0.05},\"xaxis\":{\"automargin\":true,\"gridcolor\":\"white\",\"linecolor\":\"white\",\"ticks\":\"\",\"title\":{\"standoff\":15},\"zerolinecolor\":\"white\",\"zerolinewidth\":2},\"yaxis\":{\"automargin\":true,\"gridcolor\":\"white\",\"linecolor\":\"white\",\"ticks\":\"\",\"title\":{\"standoff\":15},\"zerolinecolor\":\"white\",\"zerolinewidth\":2}}},\"title\":{\"font\":{\"color\":\"#4D5663\"}},\"xaxis\":{\"gridcolor\":\"#E1E5ED\",\"showgrid\":true,\"tickfont\":{\"color\":\"#4D5663\"},\"title\":{\"font\":{\"color\":\"#4D5663\"},\"text\":\"\"},\"zerolinecolor\":\"#E1E5ED\"},\"yaxis\":{\"gridcolor\":\"#E1E5ED\",\"showgrid\":true,\"tickfont\":{\"color\":\"#4D5663\"},\"title\":{\"font\":{\"color\":\"#4D5663\"},\"text\":\"\"},\"zerolinecolor\":\"#E1E5ED\"}},                        {\"showLink\": true, \"linkText\": \"Export to plot.ly\", \"plotlyServerURL\": \"https://plot.ly\", \"responsive\": true}                    ).then(function(){\n",
       "                            \n",
       "var gd = document.getElementById('e1482d7b-261b-4ceb-bbd9-92e31222bbc2');\n",
       "var x = new MutationObserver(function (mutations, observer) {{\n",
       "        var display = window.getComputedStyle(gd).display;\n",
       "        if (!display || display === 'none') {{\n",
       "            console.log([gd, 'removed!']);\n",
       "            Plotly.purge(gd);\n",
       "            observer.disconnect();\n",
       "        }}\n",
       "}});\n",
       "\n",
       "// Listen for the removal of the full notebook cells\n",
       "var notebookContainer = gd.closest('#notebook-container');\n",
       "if (notebookContainer) {{\n",
       "    x.observe(notebookContainer, {childList: true});\n",
       "}}\n",
       "\n",
       "// Listen for the clearing of the current output cell\n",
       "var outputEl = gd.closest('.output');\n",
       "if (outputEl) {{\n",
       "    x.observe(outputEl, {childList: true});\n",
       "}}\n",
       "\n",
       "                        })                };                });            </script>        </div>"
      ]
     },
     "metadata": {},
     "output_type": "display_data"
    }
   ],
   "source": [
    "# Moving Averages of MorganStanley over 2015\n",
    "ms['Close'].loc['2015-01-01':'2015-12-31'].ta_plot(study=\"sma\")"
   ]
  },
  {
   "cell_type": "code",
   "execution_count": 80,
   "id": "8f882050",
   "metadata": {},
   "outputs": [
    {
     "data": {
      "application/vnd.plotly.v1+json": {
       "config": {
        "linkText": "Export to plot.ly",
        "plotlyServerURL": "https://plot.ly",
        "showLink": true
       },
       "data": [
        {
         "line": {
          "color": "rgba(255, 153, 51, 1.0)",
          "dash": "solid",
          "shape": "linear",
          "width": 1.3
         },
         "mode": "lines",
         "name": "Close",
         "text": "",
         "type": "scatter",
         "x": [
          "2015-01-02",
          "2015-01-05",
          "2015-01-06",
          "2015-01-07",
          "2015-01-08",
          "2015-01-09",
          "2015-01-12",
          "2015-01-13",
          "2015-01-14",
          "2015-01-15",
          "2015-01-16",
          "2015-01-20",
          "2015-01-21",
          "2015-01-22",
          "2015-01-23",
          "2015-01-26",
          "2015-01-27",
          "2015-01-28",
          "2015-01-29",
          "2015-01-30",
          "2015-02-02",
          "2015-02-03",
          "2015-02-04",
          "2015-02-05",
          "2015-02-06",
          "2015-02-09",
          "2015-02-10",
          "2015-02-11",
          "2015-02-12",
          "2015-02-13",
          "2015-02-17",
          "2015-02-18",
          "2015-02-19",
          "2015-02-20",
          "2015-02-23",
          "2015-02-24",
          "2015-02-25",
          "2015-02-26",
          "2015-02-27",
          "2015-03-02",
          "2015-03-03",
          "2015-03-04",
          "2015-03-05",
          "2015-03-06",
          "2015-03-09",
          "2015-03-10",
          "2015-03-11",
          "2015-03-12",
          "2015-03-13",
          "2015-03-16",
          "2015-03-17",
          "2015-03-18",
          "2015-03-19",
          "2015-03-20",
          "2015-03-23",
          "2015-03-24",
          "2015-03-25",
          "2015-03-26",
          "2015-03-27",
          "2015-03-30",
          "2015-03-31",
          "2015-04-01",
          "2015-04-02",
          "2015-04-06",
          "2015-04-07",
          "2015-04-08",
          "2015-04-09",
          "2015-04-10",
          "2015-04-13",
          "2015-04-14",
          "2015-04-15",
          "2015-04-16",
          "2015-04-17",
          "2015-04-20",
          "2015-04-21",
          "2015-04-22",
          "2015-04-23",
          "2015-04-24",
          "2015-04-27",
          "2015-04-28",
          "2015-04-29",
          "2015-04-30",
          "2015-05-01",
          "2015-05-04",
          "2015-05-05",
          "2015-05-06",
          "2015-05-07",
          "2015-05-08",
          "2015-05-11",
          "2015-05-12",
          "2015-05-13",
          "2015-05-14",
          "2015-05-15",
          "2015-05-18",
          "2015-05-19",
          "2015-05-20",
          "2015-05-21",
          "2015-05-22",
          "2015-05-26",
          "2015-05-27",
          "2015-05-28",
          "2015-05-29",
          "2015-06-01",
          "2015-06-02",
          "2015-06-03",
          "2015-06-04",
          "2015-06-05",
          "2015-06-08",
          "2015-06-09",
          "2015-06-10",
          "2015-06-11",
          "2015-06-12",
          "2015-06-15",
          "2015-06-16",
          "2015-06-17",
          "2015-06-18",
          "2015-06-19",
          "2015-06-22",
          "2015-06-23",
          "2015-06-24",
          "2015-06-25",
          "2015-06-26",
          "2015-06-29",
          "2015-06-30",
          "2015-07-01",
          "2015-07-02",
          "2015-07-06",
          "2015-07-07",
          "2015-07-08",
          "2015-07-09",
          "2015-07-10",
          "2015-07-13",
          "2015-07-14",
          "2015-07-15",
          "2015-07-16",
          "2015-07-17",
          "2015-07-20",
          "2015-07-21",
          "2015-07-22",
          "2015-07-23",
          "2015-07-24",
          "2015-07-27",
          "2015-07-28",
          "2015-07-29",
          "2015-07-30",
          "2015-07-31",
          "2015-08-03",
          "2015-08-04",
          "2015-08-05",
          "2015-08-06",
          "2015-08-07",
          "2015-08-10",
          "2015-08-11",
          "2015-08-12",
          "2015-08-13",
          "2015-08-14",
          "2015-08-17",
          "2015-08-18",
          "2015-08-19",
          "2015-08-20",
          "2015-08-21",
          "2015-08-24",
          "2015-08-25",
          "2015-08-26",
          "2015-08-27",
          "2015-08-28",
          "2015-08-31",
          "2015-09-01",
          "2015-09-02",
          "2015-09-03",
          "2015-09-04",
          "2015-09-08",
          "2015-09-09",
          "2015-09-10",
          "2015-09-11",
          "2015-09-14",
          "2015-09-15",
          "2015-09-16",
          "2015-09-17",
          "2015-09-18",
          "2015-09-21",
          "2015-09-22",
          "2015-09-23",
          "2015-09-24",
          "2015-09-25",
          "2015-09-28",
          "2015-09-29",
          "2015-09-30",
          "2015-10-01",
          "2015-10-02",
          "2015-10-05",
          "2015-10-06",
          "2015-10-07",
          "2015-10-08",
          "2015-10-09",
          "2015-10-12",
          "2015-10-13",
          "2015-10-14",
          "2015-10-15",
          "2015-10-16",
          "2015-10-19",
          "2015-10-20",
          "2015-10-21",
          "2015-10-22",
          "2015-10-23",
          "2015-10-26",
          "2015-10-27",
          "2015-10-28",
          "2015-10-29",
          "2015-10-30",
          "2015-11-02",
          "2015-11-03",
          "2015-11-04",
          "2015-11-05",
          "2015-11-06",
          "2015-11-09",
          "2015-11-10",
          "2015-11-11",
          "2015-11-12",
          "2015-11-13",
          "2015-11-16",
          "2015-11-17",
          "2015-11-18",
          "2015-11-19",
          "2015-11-20",
          "2015-11-23",
          "2015-11-24",
          "2015-11-25",
          "2015-11-27",
          "2015-11-30",
          "2015-12-01",
          "2015-12-02",
          "2015-12-03",
          "2015-12-04",
          "2015-12-07",
          "2015-12-08",
          "2015-12-09",
          "2015-12-10",
          "2015-12-11",
          "2015-12-14",
          "2015-12-15",
          "2015-12-16",
          "2015-12-17",
          "2015-12-18",
          "2015-12-21",
          "2015-12-22",
          "2015-12-23",
          "2015-12-24",
          "2015-12-28",
          "2015-12-29",
          "2015-12-30",
          "2015-12-31"
         ],
         "y": [
          17.899999618530273,
          17.3799991607666,
          16.860000610351562,
          16.940000534057617,
          17.290000915527344,
          16.979999542236328,
          16.68000030517578,
          16.450000762939453,
          16.040000915527344,
          15.199999809265137,
          15.380000114440918,
          15.260000228881836,
          15.40999984741211,
          16.09000015258789,
          15.729999542236328,
          15.850000381469727,
          15.630000114440918,
          15.199999809265137,
          15.430000305175781,
          15.149999618530273,
          15.460000038146973,
          15.890000343322754,
          15.789999961853027,
          15.970000267028809,
          16.489999771118164,
          16.350000381469727,
          16.420000076293945,
          16.360000610351562,
          16.670000076293945,
          16.610000610351562,
          16.6299991607666,
          16.299999237060547,
          16.209999084472656,
          16.3799991607666,
          16.200000762939453,
          16.3799991607666,
          16.489999771118164,
          16.040000915527344,
          15.8100004196167,
          16.010000228881836,
          16.040000915527344,
          15.84000015258789,
          16,
          16.219999313354492,
          16.170000076293945,
          15.789999961853027,
          16.110000610351562,
          16.09000015258789,
          16.09000015258789,
          16.1299991607666,
          16.09000015258789,
          15.979999542236328,
          15.609999656677246,
          15.84000015258789,
          15.720000267028809,
          15.609999656677246,
          15.40999984741211,
          15.420000076293945,
          15.3100004196167,
          15.520000457763672,
          15.390000343322754,
          15.40999984741211,
          15.539999961853027,
          15.510000228881836,
          15.460000038146973,
          15.609999656677246,
          15.710000038146973,
          15.720000267028809,
          15.800000190734863,
          15.819999694824219,
          15.640000343322754,
          15.789999961853027,
          15.5600004196167,
          15.569999694824219,
          15.5,
          15.739999771118164,
          15.6899995803833,
          15.640000343322754,
          15.5600004196167,
          15.649999618530273,
          15.979999542236328,
          15.930000305175781,
          16.110000610351562,
          16.440000534057617,
          16.350000381469727,
          16.290000915527344,
          16.239999771118164,
          16.450000762939453,
          16.489999771118164,
          16.43000030517578,
          16.469999313354492,
          16.520000457763672,
          16.350000381469727,
          16.510000228881836,
          16.770000457763672,
          16.739999771118164,
          16.729999542236328,
          16.75,
          16.5,
          16.739999771118164,
          16.670000076293945,
          16.5,
          16.549999237060547,
          16.719999313354492,
          16.93000030517578,
          16.780000686645508,
          17.190000534057617,
          17.079999923706055,
          17.309999465942383,
          17.59000015258789,
          17.489999771118164,
          17.489999771118164,
          17.469999313354492,
          17.549999237060547,
          17.3700008392334,
          17.3799991607666,
          17.170000076293945,
          17.469999313354492,
          17.670000076293945,
          17.489999771118164,
          17.3700008392334,
          17.40999984741211,
          16.889999389648438,
          17.020000457763672,
          17.219999313354492,
          17.030000686645508,
          16.940000534057617,
          16.690000534057617,
          16.25,
          16.479999542236328,
          16.700000762939453,
          17.020000457763672,
          17.1299991607666,
          17.68000030517578,
          17.950000762939453,
          18.100000381469727,
          18.1200008392334,
          18.079999923706055,
          18.450000762939453,
          18.18000030517578,
          17.899999618530273,
          17.670000076293945,
          17.8799991607666,
          18.15999984741211,
          18.1299991607666,
          17.8799991607666,
          17.770000457763672,
          17.799999237060547,
          17.8700008392334,
          17.809999465942383,
          17.75,
          18.040000915527344,
          17.790000915527344,
          17.520000457763672,
          17.6200008392334,
          17.700000762939453,
          17.770000457763672,
          17.690000534057617,
          17.459999084472656,
          16.719999313354492,
          16.100000381469727,
          15.289999961853027,
          15.260000228881836,
          16.059999465942383,
          16.440000534057617,
          16.360000610351562,
          16.34000015258789,
          15.579999923706055,
          15.850000381469727,
          15.9399995803833,
          15.649999618530273,
          16.15999984741211,
          15.899999618530273,
          16.040000915527344,
          16.040000915527344,
          15.960000038146973,
          16.309999465942383,
          16.329999923706055,
          15.859999656677246,
          15.5600004196167,
          15.699999809265137,
          15.569999694824219,
          15.720000267028809,
          15.550000190734863,
          15.890000343322754,
          15.470000267028809,
          15.350000381469727,
          15.579999923706055,
          15.550000190734863,
          15.380000114440918,
          15.6899995803833,
          15.6899995803833,
          15.75,
          15.75,
          15.579999923706055,
          15.520000457763672,
          15.520000457763672,
          15.640000343322754,
          16.190000534057617,
          16.1200008392334,
          16.139999389648438,
          16.200000762939453,
          15.899999618530273,
          16.15999984741211,
          16.520000457763672,
          16.510000228881836,
          16.399999618530273,
          17.280000686645508,
          17.09000015258789,
          16.780000686645508,
          17.059999465942383,
          17.18000030517578,
          17.010000228881836,
          17.309999465942383,
          17.950000762939453,
          17.68000030517578,
          17.850000381469727,
          17.75,
          17.3700008392334,
          17.200000762939453,
          17.43000030517578,
          17.420000076293945,
          17.84000015258789,
          17.690000534057617,
          17.649999618530273,
          17.469999313354492,
          17.469999313354492,
          17.440000534057617,
          17.479999542236328,
          17.43000030517578,
          17.809999465942383,
          17.6200008392334,
          17.299999237060547,
          17.799999237060547,
          17.540000915527344,
          17.190000534057617,
          17.100000381469727,
          17.200000762939453,
          16.729999542236328,
          16.799999237060547,
          17.420000076293945,
          17.75,
          17.299999237060547,
          16.760000228881836,
          16.969999313354492,
          17.079999923706055,
          17.34000015258789,
          17.270000457763672,
          17.1299991607666,
          17.280000686645508,
          17.049999237060547,
          16.829999923706055
         ]
        },
        {
         "line": {
          "color": "rgba(55, 128, 191, 1.0)",
          "dash": "solid",
          "shape": "linear",
          "width": 1.3
         },
         "mode": "lines",
         "name": "SMA(14)",
         "text": "",
         "type": "scatter",
         "x": [
          "2015-01-02",
          "2015-01-05",
          "2015-01-06",
          "2015-01-07",
          "2015-01-08",
          "2015-01-09",
          "2015-01-12",
          "2015-01-13",
          "2015-01-14",
          "2015-01-15",
          "2015-01-16",
          "2015-01-20",
          "2015-01-21",
          "2015-01-22",
          "2015-01-23",
          "2015-01-26",
          "2015-01-27",
          "2015-01-28",
          "2015-01-29",
          "2015-01-30",
          "2015-02-02",
          "2015-02-03",
          "2015-02-04",
          "2015-02-05",
          "2015-02-06",
          "2015-02-09",
          "2015-02-10",
          "2015-02-11",
          "2015-02-12",
          "2015-02-13",
          "2015-02-17",
          "2015-02-18",
          "2015-02-19",
          "2015-02-20",
          "2015-02-23",
          "2015-02-24",
          "2015-02-25",
          "2015-02-26",
          "2015-02-27",
          "2015-03-02",
          "2015-03-03",
          "2015-03-04",
          "2015-03-05",
          "2015-03-06",
          "2015-03-09",
          "2015-03-10",
          "2015-03-11",
          "2015-03-12",
          "2015-03-13",
          "2015-03-16",
          "2015-03-17",
          "2015-03-18",
          "2015-03-19",
          "2015-03-20",
          "2015-03-23",
          "2015-03-24",
          "2015-03-25",
          "2015-03-26",
          "2015-03-27",
          "2015-03-30",
          "2015-03-31",
          "2015-04-01",
          "2015-04-02",
          "2015-04-06",
          "2015-04-07",
          "2015-04-08",
          "2015-04-09",
          "2015-04-10",
          "2015-04-13",
          "2015-04-14",
          "2015-04-15",
          "2015-04-16",
          "2015-04-17",
          "2015-04-20",
          "2015-04-21",
          "2015-04-22",
          "2015-04-23",
          "2015-04-24",
          "2015-04-27",
          "2015-04-28",
          "2015-04-29",
          "2015-04-30",
          "2015-05-01",
          "2015-05-04",
          "2015-05-05",
          "2015-05-06",
          "2015-05-07",
          "2015-05-08",
          "2015-05-11",
          "2015-05-12",
          "2015-05-13",
          "2015-05-14",
          "2015-05-15",
          "2015-05-18",
          "2015-05-19",
          "2015-05-20",
          "2015-05-21",
          "2015-05-22",
          "2015-05-26",
          "2015-05-27",
          "2015-05-28",
          "2015-05-29",
          "2015-06-01",
          "2015-06-02",
          "2015-06-03",
          "2015-06-04",
          "2015-06-05",
          "2015-06-08",
          "2015-06-09",
          "2015-06-10",
          "2015-06-11",
          "2015-06-12",
          "2015-06-15",
          "2015-06-16",
          "2015-06-17",
          "2015-06-18",
          "2015-06-19",
          "2015-06-22",
          "2015-06-23",
          "2015-06-24",
          "2015-06-25",
          "2015-06-26",
          "2015-06-29",
          "2015-06-30",
          "2015-07-01",
          "2015-07-02",
          "2015-07-06",
          "2015-07-07",
          "2015-07-08",
          "2015-07-09",
          "2015-07-10",
          "2015-07-13",
          "2015-07-14",
          "2015-07-15",
          "2015-07-16",
          "2015-07-17",
          "2015-07-20",
          "2015-07-21",
          "2015-07-22",
          "2015-07-23",
          "2015-07-24",
          "2015-07-27",
          "2015-07-28",
          "2015-07-29",
          "2015-07-30",
          "2015-07-31",
          "2015-08-03",
          "2015-08-04",
          "2015-08-05",
          "2015-08-06",
          "2015-08-07",
          "2015-08-10",
          "2015-08-11",
          "2015-08-12",
          "2015-08-13",
          "2015-08-14",
          "2015-08-17",
          "2015-08-18",
          "2015-08-19",
          "2015-08-20",
          "2015-08-21",
          "2015-08-24",
          "2015-08-25",
          "2015-08-26",
          "2015-08-27",
          "2015-08-28",
          "2015-08-31",
          "2015-09-01",
          "2015-09-02",
          "2015-09-03",
          "2015-09-04",
          "2015-09-08",
          "2015-09-09",
          "2015-09-10",
          "2015-09-11",
          "2015-09-14",
          "2015-09-15",
          "2015-09-16",
          "2015-09-17",
          "2015-09-18",
          "2015-09-21",
          "2015-09-22",
          "2015-09-23",
          "2015-09-24",
          "2015-09-25",
          "2015-09-28",
          "2015-09-29",
          "2015-09-30",
          "2015-10-01",
          "2015-10-02",
          "2015-10-05",
          "2015-10-06",
          "2015-10-07",
          "2015-10-08",
          "2015-10-09",
          "2015-10-12",
          "2015-10-13",
          "2015-10-14",
          "2015-10-15",
          "2015-10-16",
          "2015-10-19",
          "2015-10-20",
          "2015-10-21",
          "2015-10-22",
          "2015-10-23",
          "2015-10-26",
          "2015-10-27",
          "2015-10-28",
          "2015-10-29",
          "2015-10-30",
          "2015-11-02",
          "2015-11-03",
          "2015-11-04",
          "2015-11-05",
          "2015-11-06",
          "2015-11-09",
          "2015-11-10",
          "2015-11-11",
          "2015-11-12",
          "2015-11-13",
          "2015-11-16",
          "2015-11-17",
          "2015-11-18",
          "2015-11-19",
          "2015-11-20",
          "2015-11-23",
          "2015-11-24",
          "2015-11-25",
          "2015-11-27",
          "2015-11-30",
          "2015-12-01",
          "2015-12-02",
          "2015-12-03",
          "2015-12-04",
          "2015-12-07",
          "2015-12-08",
          "2015-12-09",
          "2015-12-10",
          "2015-12-11",
          "2015-12-14",
          "2015-12-15",
          "2015-12-16",
          "2015-12-17",
          "2015-12-18",
          "2015-12-21",
          "2015-12-22",
          "2015-12-23",
          "2015-12-24",
          "2015-12-28",
          "2015-12-29",
          "2015-12-30",
          "2015-12-31"
         ],
         "y": [
          "",
          "",
          "",
          "",
          "",
          "",
          "",
          "",
          "",
          "",
          "",
          "",
          "",
          16.418571608407156,
          16.26357160295759,
          16.154285975864955,
          16.066428797585623,
          15.942143031529017,
          15.809285845075335,
          15.678571564810616,
          15.591428688594274,
          15.551428658621651,
          15.533571447644915,
          15.58857148034232,
          15.66785717010498,
          15.74571432386126,
          15.817857197352819,
          15.837142944335938,
          15.904285839625768,
          15.958571570260185,
          16.030000073569163,
          16.108571461268834,
          16.16428565979004,
          16.252142769949778,
          16.30499996457781,
          16.339999880109513,
          16.389999866485596,
          16.39499991280692,
          16.346428530556814,
          16.322142805371964,
          16.295000008174352,
          16.25785711833409,
          16.20999997002738,
          16.182142734527588,
          16.149285657065256,
          16.112857137407577,
          16.105714389256068,
          16.08500017438616,
          16.07714298793248,
          16.059285845075333,
          16.030714443751744,
          16.026428631373815,
          16.012142862592423,
          16,
          15.977142810821533,
          15.960714203970772,
          15.91857133592878,
          15.861428533281599,
          15.799999986376081,
          15.780714307512556,
          15.729285717010498,
          15.6807142666408,
          15.641428538731166,
          15.597142900739398,
          15.552142892565046,
          15.525714329310826,
          15.53285721370152,
          15.524285793304443,
          15.53000007356916,
          15.545000076293945,
          15.561428683144706,
          15.587857246398926,
          15.605714389256068,
          15.609285763331822,
          15.617142881665911,
          15.640714304787773,
          15.65142856325422,
          15.660714285714286,
          15.66785717010498,
          15.67071431023734,
          15.689999989100865,
          15.704999991825648,
          15.727142878941127,
          15.771428653172084,
          15.822142941611153,
          15.857857295445033,
          15.906428677695137,
          15.969285896846227,
          16.040000166211808,
          16.089285918644496,
          16.145000185285294,
          16.20785733631679,
          16.26428590502058,
          16.32571452004569,
          16.38214315686907,
          16.44000026157924,
          16.48428589957101,
          16.506428718566895,
          16.51714297703334,
          16.549285752432688,
          16.58000005994524,
          16.583571434020996,
          16.58785711015974,
          16.608571325029647,
          16.641428538731166,
          16.659999983651296,
          16.71999999455043,
          16.760714258466447,
          16.799285616193497,
          16.859999929155624,
          16.91428565979004,
          16.967142786298478,
          17.036428451538086,
          17.094285556248256,
          17.144285610743932,
          17.207142693655832,
          17.25142846788679,
          17.304999896458217,
          17.35785702296666,
          17.408571243286133,
          17.421428407941544,
          17.444999831063406,
          17.41499982561384,
          17.374285561697825,
          17.354999814714706,
          17.32214273725237,
          17.284285681588308,
          17.222857202802384,
          17.142857142857142,
          17.078571455819265,
          17.045000076293945,
          17.012857300894602,
          16.97428580692836,
          16.987857273646764,
          17.029285839625768,
          17.078571592058456,
          17.16642883845738,
          17.242143086024694,
          17.33000033242362,
          17.41214316231864,
          17.480714525495255,
          17.55071449279785,
          17.66714300428118,
          17.787143026079452,
          17.889285768781388,
          17.950714247567312,
          17.996428625924246,
          18.00499997820173,
          17.99928569793701,
          17.978571346827916,
          17.9521427154541,
          17.949285643441335,
          17.902142797197616,
          17.854999950953893,
          17.835000038146973,
          17.837142944335938,
          17.829285894121444,
          17.79571451459612,
          17.747857366289413,
          17.665000234331405,
          17.54571451459612,
          17.3664288520813,
          17.180000237056188,
          17.055000237056188,
          16.96142884663173,
          16.84142882483346,
          16.737857341766357,
          16.599285875047958,
          16.47285727092198,
          16.347142900739396,
          16.195714269365585,
          16.086428506033762,
          15.974999972752162,
          15.926428658621651,
          15.92214298248291,
          15.97000013078962,
          16.045000076293945,
          16.064285823277064,
          16.022857189178467,
          15.96571431841169,
          15.920000008174352,
          15.919285706111364,
          15.909999983651298,
          15.882142884390694,
          15.899285793304443,
          15.85000010899135,
          15.810714449201312,
          15.777857235499791,
          15.7428571837289,
          15.701428617749896,
          15.657142911638532,
          15.611428601401192,
          15.603571483067103,
          15.617142881665911,
          15.608571461268834,
          15.60500008719308,
          15.590714386531285,
          15.597142968858991,
          15.618571553911481,
          15.66500016621181,
          15.721428666796003,
          15.76571444102696,
          15.790714400155204,
          15.846428666796003,
          15.905714443751744,
          15.964285918644496,
          16.01071446282523,
          16.120000226157053,
          16.2278573853629,
          16.3178574017116,
          16.427857330867223,
          16.53785732814244,
          16.596428734915598,
          16.68142863682338,
          16.81071444920131,
          16.91642870221819,
          17.055714470999582,
          17.169285910470144,
          17.230000223432267,
          17.279285975864955,
          17.352857453482493,
          17.36285740988595,
          17.41642883845738,
          17.481428827558243,
          17.523571695600236,
          17.544285910470144,
          17.57714298793248,
          17.586428778512136,
          17.55285726274763,
          17.535000119890487,
          17.532142911638534,
          17.52285725729806,
          17.517857142857142,
          17.560714176722936,
          17.56857136317662,
          17.55214282444545,
          17.49928569793701,
          17.464285714285715,
          17.39857142312186,
          17.35071427481515,
          17.347142900739396,
          17.36928571973528,
          17.35642855507987,
          17.308571406773158,
          17.248571395874023,
          17.209999901907786,
          17.21285711015974,
          17.175000054495676,
          17.14571421486991,
          17.152142797197616,
          17.148571286882675,
          17.12214265550886
         ]
        },
        {
         "line": {
          "color": "rgba(55, 128, 191, 0.8999999999999999)",
          "dash": "solid",
          "shape": "linear",
          "width": 1.3
         },
         "mode": "lines",
         "name": "UPPER(14)",
         "text": "",
         "type": "scatter",
         "x": [
          "2015-01-02",
          "2015-01-05",
          "2015-01-06",
          "2015-01-07",
          "2015-01-08",
          "2015-01-09",
          "2015-01-12",
          "2015-01-13",
          "2015-01-14",
          "2015-01-15",
          "2015-01-16",
          "2015-01-20",
          "2015-01-21",
          "2015-01-22",
          "2015-01-23",
          "2015-01-26",
          "2015-01-27",
          "2015-01-28",
          "2015-01-29",
          "2015-01-30",
          "2015-02-02",
          "2015-02-03",
          "2015-02-04",
          "2015-02-05",
          "2015-02-06",
          "2015-02-09",
          "2015-02-10",
          "2015-02-11",
          "2015-02-12",
          "2015-02-13",
          "2015-02-17",
          "2015-02-18",
          "2015-02-19",
          "2015-02-20",
          "2015-02-23",
          "2015-02-24",
          "2015-02-25",
          "2015-02-26",
          "2015-02-27",
          "2015-03-02",
          "2015-03-03",
          "2015-03-04",
          "2015-03-05",
          "2015-03-06",
          "2015-03-09",
          "2015-03-10",
          "2015-03-11",
          "2015-03-12",
          "2015-03-13",
          "2015-03-16",
          "2015-03-17",
          "2015-03-18",
          "2015-03-19",
          "2015-03-20",
          "2015-03-23",
          "2015-03-24",
          "2015-03-25",
          "2015-03-26",
          "2015-03-27",
          "2015-03-30",
          "2015-03-31",
          "2015-04-01",
          "2015-04-02",
          "2015-04-06",
          "2015-04-07",
          "2015-04-08",
          "2015-04-09",
          "2015-04-10",
          "2015-04-13",
          "2015-04-14",
          "2015-04-15",
          "2015-04-16",
          "2015-04-17",
          "2015-04-20",
          "2015-04-21",
          "2015-04-22",
          "2015-04-23",
          "2015-04-24",
          "2015-04-27",
          "2015-04-28",
          "2015-04-29",
          "2015-04-30",
          "2015-05-01",
          "2015-05-04",
          "2015-05-05",
          "2015-05-06",
          "2015-05-07",
          "2015-05-08",
          "2015-05-11",
          "2015-05-12",
          "2015-05-13",
          "2015-05-14",
          "2015-05-15",
          "2015-05-18",
          "2015-05-19",
          "2015-05-20",
          "2015-05-21",
          "2015-05-22",
          "2015-05-26",
          "2015-05-27",
          "2015-05-28",
          "2015-05-29",
          "2015-06-01",
          "2015-06-02",
          "2015-06-03",
          "2015-06-04",
          "2015-06-05",
          "2015-06-08",
          "2015-06-09",
          "2015-06-10",
          "2015-06-11",
          "2015-06-12",
          "2015-06-15",
          "2015-06-16",
          "2015-06-17",
          "2015-06-18",
          "2015-06-19",
          "2015-06-22",
          "2015-06-23",
          "2015-06-24",
          "2015-06-25",
          "2015-06-26",
          "2015-06-29",
          "2015-06-30",
          "2015-07-01",
          "2015-07-02",
          "2015-07-06",
          "2015-07-07",
          "2015-07-08",
          "2015-07-09",
          "2015-07-10",
          "2015-07-13",
          "2015-07-14",
          "2015-07-15",
          "2015-07-16",
          "2015-07-17",
          "2015-07-20",
          "2015-07-21",
          "2015-07-22",
          "2015-07-23",
          "2015-07-24",
          "2015-07-27",
          "2015-07-28",
          "2015-07-29",
          "2015-07-30",
          "2015-07-31",
          "2015-08-03",
          "2015-08-04",
          "2015-08-05",
          "2015-08-06",
          "2015-08-07",
          "2015-08-10",
          "2015-08-11",
          "2015-08-12",
          "2015-08-13",
          "2015-08-14",
          "2015-08-17",
          "2015-08-18",
          "2015-08-19",
          "2015-08-20",
          "2015-08-21",
          "2015-08-24",
          "2015-08-25",
          "2015-08-26",
          "2015-08-27",
          "2015-08-28",
          "2015-08-31",
          "2015-09-01",
          "2015-09-02",
          "2015-09-03",
          "2015-09-04",
          "2015-09-08",
          "2015-09-09",
          "2015-09-10",
          "2015-09-11",
          "2015-09-14",
          "2015-09-15",
          "2015-09-16",
          "2015-09-17",
          "2015-09-18",
          "2015-09-21",
          "2015-09-22",
          "2015-09-23",
          "2015-09-24",
          "2015-09-25",
          "2015-09-28",
          "2015-09-29",
          "2015-09-30",
          "2015-10-01",
          "2015-10-02",
          "2015-10-05",
          "2015-10-06",
          "2015-10-07",
          "2015-10-08",
          "2015-10-09",
          "2015-10-12",
          "2015-10-13",
          "2015-10-14",
          "2015-10-15",
          "2015-10-16",
          "2015-10-19",
          "2015-10-20",
          "2015-10-21",
          "2015-10-22",
          "2015-10-23",
          "2015-10-26",
          "2015-10-27",
          "2015-10-28",
          "2015-10-29",
          "2015-10-30",
          "2015-11-02",
          "2015-11-03",
          "2015-11-04",
          "2015-11-05",
          "2015-11-06",
          "2015-11-09",
          "2015-11-10",
          "2015-11-11",
          "2015-11-12",
          "2015-11-13",
          "2015-11-16",
          "2015-11-17",
          "2015-11-18",
          "2015-11-19",
          "2015-11-20",
          "2015-11-23",
          "2015-11-24",
          "2015-11-25",
          "2015-11-27",
          "2015-11-30",
          "2015-12-01",
          "2015-12-02",
          "2015-12-03",
          "2015-12-04",
          "2015-12-07",
          "2015-12-08",
          "2015-12-09",
          "2015-12-10",
          "2015-12-11",
          "2015-12-14",
          "2015-12-15",
          "2015-12-16",
          "2015-12-17",
          "2015-12-18",
          "2015-12-21",
          "2015-12-22",
          "2015-12-23",
          "2015-12-24",
          "2015-12-28",
          "2015-12-29",
          "2015-12-30",
          "2015-12-31"
         ],
         "y": [
          "",
          "",
          "",
          "",
          "",
          "",
          "",
          "",
          "",
          "",
          "",
          "",
          "",
          18.1642449658764,
          17.817437531057877,
          17.579827339754672,
          17.455764525061113,
          17.305920480308583,
          16.951900104052154,
          16.65016415361848,
          16.377181472875954,
          16.19262301679862,
          16.12840103225055,
          16.1928567642045,
          16.425959284045064,
          16.546088066579006,
          16.668384032022242,
          16.725648551480123,
          16.894195568450474,
          17.016664686769897,
          17.126848813290454,
          17.102022538763872,
          17.078101519544898,
          16.958952518856005,
          16.84842199571176,
          16.82863995980059,
          16.76662444618331,
          16.748770519164534,
          16.81281241396045,
          16.82193794972953,
          16.812850035744823,
          16.827616470100892,
          16.741933386673768,
          16.662153274733377,
          16.554365222232555,
          16.55001010653122,
          16.539283183476353,
          16.48880853425669,
          16.475556936363073,
          16.419837588660222,
          16.294703022948347,
          16.291712810132903,
          16.341447849048922,
          16.34194016570738,
          16.349034218405865,
          16.376440763907162,
          16.42652999301196,
          16.402246081950384,
          16.383517122428056,
          16.383194417115675,
          16.33360141435882,
          16.26924351906514,
          16.183893038643074,
          16.063713114458206,
          15.926323070402892,
          15.811555944915874,
          15.832439260943314,
          15.791086051567683,
          15.817482439380367,
          15.869937800744705,
          15.880162286268606,
          15.917255448232401,
          15.894873712308126,
          15.895100504954211,
          15.882290572607234,
          15.884336161424757,
          15.889091060982865,
          15.884316088136831,
          15.869111331751718,
          15.86955141939365,
          15.948635164002571,
          15.993737100580471,
          16.086238234747505,
          16.295076280828603,
          16.42281869460621,
          16.507741929562147,
          16.562037207044014,
          16.654041888996446,
          16.720452860310957,
          16.776060822935477,
          16.818669870532776,
          16.84158533172787,
          16.77903567341174,
          16.714536426660583,
          16.78392209255638,
          16.791436651221186,
          16.81204859825281,
          16.862008757856227,
          16.861274058141817,
          16.886008681500588,
          16.87046363836595,
          16.86832296952267,
          16.86831578293327,
          16.881544221629056,
          16.950855400162705,
          16.96924227092292,
          17.090114690510354,
          17.155874913601483,
          17.291781091121464,
          17.506505519384365,
          17.636918311803445,
          17.74421540643881,
          17.807026878628776,
          17.890225649995752,
          17.91288928558663,
          17.887659573779352,
          17.819060611152285,
          17.792488913137504,
          17.830438863105545,
          17.747515711740036,
          17.73754480511917,
          17.693410011798285,
          17.798405674035095,
          17.796711672893863,
          17.779318171527866,
          17.771906757509736,
          17.768352378617013,
          17.775134884976705,
          17.892520519060184,
          17.89225653863638,
          17.88091489474366,
          17.81218116215136,
          17.684116233121625,
          17.74579698803213,
          17.92760800365419,
          18.129603771561673,
          18.347187909637245,
          18.514818976085078,
          18.75660501857611,
          18.895635815326,
          18.95893547099153,
          18.958789692888708,
          18.865922906372425,
          18.795185496108303,
          18.691608232223043,
          18.57919109174485,
          18.43091228963482,
          18.41673224562485,
          18.416490298906925,
          18.40297050811776,
          18.38460847214812,
          18.378629997755013,
          18.226837015342134,
          18.19709723411913,
          18.19787274415571,
          18.19615204245412,
          18.189068595040137,
          18.107010486011333,
          18.043380981513355,
          18.27937988041882,
          18.578372767312974,
          18.93920938915566,
          19.08030009252329,
          19.006327691036436,
          18.894746258499282,
          18.6931952032865,
          18.522047639812815,
          18.422714263977966,
          18.235869297291714,
          17.979365151333194,
          17.642082889003238,
          17.249993172675524,
          16.829733404426104,
          16.66867529329927,
          16.66075646379669,
          16.612782821223767,
          16.56403793167395,
          16.605322927252278,
          16.52756925650595,
          16.486879514611008,
          16.411152472699666,
          16.412592580426953,
          16.413709307594864,
          16.420640979016785,
          16.420967268901585,
          16.395414480753292,
          16.4165050740266,
          16.379965064177387,
          16.336226816754074,
          16.310278760468826,
          16.155474011285,
          15.92822552912,
          15.898514051796683,
          15.92080537103937,
          15.908915473581219,
          15.908492418433106,
          15.889683097206044,
          15.896210920378781,
          16.02993753358924,
          16.145112549321095,
          16.227080299606158,
          16.323882752939973,
          16.33851937923939,
          16.372523675199798,
          16.53317416104681,
          16.654914010730046,
          16.72623314773097,
          17.08712139530175,
          17.269488665455157,
          17.312711369490682,
          17.382431132601898,
          17.45555287745402,
          17.52311392381926,
          17.63769904590663,
          17.927591230670036,
          18.064044869347597,
          18.143711213172022,
          18.183992243653982,
          18.176800788544487,
          18.131774556937472,
          18.04025749963028,
          18.0497649082434,
          18.128202733919284,
          18.103379222414144,
          18.100865531077794,
          18.088328657267763,
          18.030128381490393,
          18.020770533583327,
          17.935755285615837,
          17.9156673902299,
          17.903102079778453,
          17.876425863026068,
          17.882542703191046,
          17.904938116072532,
          17.904873205180017,
          17.93846091101082,
          17.917152844244786,
          17.895220809703112,
          17.9663662963888,
          17.999711900568347,
          17.99385916717763,
          18.05003040483386,
          18.03496138021847,
          18.05578607800367,
          17.956194216208978,
          17.888686540672058,
          17.89350983833802,
          17.768335278184697,
          17.700676151520092,
          17.71138320132244,
          17.709880975701203,
          17.707354503702632
         ]
        },
        {
         "line": {
          "color": "rgba(55, 128, 191, 0.7999999999999998)",
          "dash": "solid",
          "shape": "linear",
          "width": 1.3
         },
         "mode": "lines",
         "name": "LOWER(14)",
         "text": "",
         "type": "scatter",
         "x": [
          "2015-01-02",
          "2015-01-05",
          "2015-01-06",
          "2015-01-07",
          "2015-01-08",
          "2015-01-09",
          "2015-01-12",
          "2015-01-13",
          "2015-01-14",
          "2015-01-15",
          "2015-01-16",
          "2015-01-20",
          "2015-01-21",
          "2015-01-22",
          "2015-01-23",
          "2015-01-26",
          "2015-01-27",
          "2015-01-28",
          "2015-01-29",
          "2015-01-30",
          "2015-02-02",
          "2015-02-03",
          "2015-02-04",
          "2015-02-05",
          "2015-02-06",
          "2015-02-09",
          "2015-02-10",
          "2015-02-11",
          "2015-02-12",
          "2015-02-13",
          "2015-02-17",
          "2015-02-18",
          "2015-02-19",
          "2015-02-20",
          "2015-02-23",
          "2015-02-24",
          "2015-02-25",
          "2015-02-26",
          "2015-02-27",
          "2015-03-02",
          "2015-03-03",
          "2015-03-04",
          "2015-03-05",
          "2015-03-06",
          "2015-03-09",
          "2015-03-10",
          "2015-03-11",
          "2015-03-12",
          "2015-03-13",
          "2015-03-16",
          "2015-03-17",
          "2015-03-18",
          "2015-03-19",
          "2015-03-20",
          "2015-03-23",
          "2015-03-24",
          "2015-03-25",
          "2015-03-26",
          "2015-03-27",
          "2015-03-30",
          "2015-03-31",
          "2015-04-01",
          "2015-04-02",
          "2015-04-06",
          "2015-04-07",
          "2015-04-08",
          "2015-04-09",
          "2015-04-10",
          "2015-04-13",
          "2015-04-14",
          "2015-04-15",
          "2015-04-16",
          "2015-04-17",
          "2015-04-20",
          "2015-04-21",
          "2015-04-22",
          "2015-04-23",
          "2015-04-24",
          "2015-04-27",
          "2015-04-28",
          "2015-04-29",
          "2015-04-30",
          "2015-05-01",
          "2015-05-04",
          "2015-05-05",
          "2015-05-06",
          "2015-05-07",
          "2015-05-08",
          "2015-05-11",
          "2015-05-12",
          "2015-05-13",
          "2015-05-14",
          "2015-05-15",
          "2015-05-18",
          "2015-05-19",
          "2015-05-20",
          "2015-05-21",
          "2015-05-22",
          "2015-05-26",
          "2015-05-27",
          "2015-05-28",
          "2015-05-29",
          "2015-06-01",
          "2015-06-02",
          "2015-06-03",
          "2015-06-04",
          "2015-06-05",
          "2015-06-08",
          "2015-06-09",
          "2015-06-10",
          "2015-06-11",
          "2015-06-12",
          "2015-06-15",
          "2015-06-16",
          "2015-06-17",
          "2015-06-18",
          "2015-06-19",
          "2015-06-22",
          "2015-06-23",
          "2015-06-24",
          "2015-06-25",
          "2015-06-26",
          "2015-06-29",
          "2015-06-30",
          "2015-07-01",
          "2015-07-02",
          "2015-07-06",
          "2015-07-07",
          "2015-07-08",
          "2015-07-09",
          "2015-07-10",
          "2015-07-13",
          "2015-07-14",
          "2015-07-15",
          "2015-07-16",
          "2015-07-17",
          "2015-07-20",
          "2015-07-21",
          "2015-07-22",
          "2015-07-23",
          "2015-07-24",
          "2015-07-27",
          "2015-07-28",
          "2015-07-29",
          "2015-07-30",
          "2015-07-31",
          "2015-08-03",
          "2015-08-04",
          "2015-08-05",
          "2015-08-06",
          "2015-08-07",
          "2015-08-10",
          "2015-08-11",
          "2015-08-12",
          "2015-08-13",
          "2015-08-14",
          "2015-08-17",
          "2015-08-18",
          "2015-08-19",
          "2015-08-20",
          "2015-08-21",
          "2015-08-24",
          "2015-08-25",
          "2015-08-26",
          "2015-08-27",
          "2015-08-28",
          "2015-08-31",
          "2015-09-01",
          "2015-09-02",
          "2015-09-03",
          "2015-09-04",
          "2015-09-08",
          "2015-09-09",
          "2015-09-10",
          "2015-09-11",
          "2015-09-14",
          "2015-09-15",
          "2015-09-16",
          "2015-09-17",
          "2015-09-18",
          "2015-09-21",
          "2015-09-22",
          "2015-09-23",
          "2015-09-24",
          "2015-09-25",
          "2015-09-28",
          "2015-09-29",
          "2015-09-30",
          "2015-10-01",
          "2015-10-02",
          "2015-10-05",
          "2015-10-06",
          "2015-10-07",
          "2015-10-08",
          "2015-10-09",
          "2015-10-12",
          "2015-10-13",
          "2015-10-14",
          "2015-10-15",
          "2015-10-16",
          "2015-10-19",
          "2015-10-20",
          "2015-10-21",
          "2015-10-22",
          "2015-10-23",
          "2015-10-26",
          "2015-10-27",
          "2015-10-28",
          "2015-10-29",
          "2015-10-30",
          "2015-11-02",
          "2015-11-03",
          "2015-11-04",
          "2015-11-05",
          "2015-11-06",
          "2015-11-09",
          "2015-11-10",
          "2015-11-11",
          "2015-11-12",
          "2015-11-13",
          "2015-11-16",
          "2015-11-17",
          "2015-11-18",
          "2015-11-19",
          "2015-11-20",
          "2015-11-23",
          "2015-11-24",
          "2015-11-25",
          "2015-11-27",
          "2015-11-30",
          "2015-12-01",
          "2015-12-02",
          "2015-12-03",
          "2015-12-04",
          "2015-12-07",
          "2015-12-08",
          "2015-12-09",
          "2015-12-10",
          "2015-12-11",
          "2015-12-14",
          "2015-12-15",
          "2015-12-16",
          "2015-12-17",
          "2015-12-18",
          "2015-12-21",
          "2015-12-22",
          "2015-12-23",
          "2015-12-24",
          "2015-12-28",
          "2015-12-29",
          "2015-12-30",
          "2015-12-31"
         ],
         "y": [
          "",
          "",
          "",
          "",
          "",
          "",
          "",
          "",
          "",
          "",
          "",
          "",
          "",
          14.67289825093791,
          14.709705674857304,
          14.728744611975237,
          14.677093070110132,
          14.57836558274945,
          14.666671586098516,
          14.706978976002752,
          14.805675904312595,
          14.910234300444683,
          14.93874186303928,
          14.984286196480141,
          14.909755056164899,
          14.94534058114351,
          14.967330362683397,
          14.948637337191752,
          14.914376110801063,
          14.900478453750473,
          14.933151333847869,
          15.115120383773798,
          15.250469800035178,
          15.545333021043549,
          15.76157793344386,
          15.851359800418438,
          16.01337528678788,
          16.041229306449306,
          15.880044647153179,
          15.8223476610144,
          15.777149980603879,
          15.688097766567289,
          15.67806655338099,
          15.702132194321798,
          15.744206091897958,
          15.675704168283932,
          15.672145595035783,
          15.68119181451563,
          15.678729039501887,
          15.698734101490444,
          15.766725864555141,
          15.761144452614728,
          15.682837876135924,
          15.658059834292617,
          15.605251403237201,
          15.544987644034384,
          15.410612678845597,
          15.320610984612813,
          15.216482850324105,
          15.178234197909434,
          15.124970019662177,
          15.092185014216463,
          15.098964038819256,
          15.130572687020589,
          15.1779627147272,
          15.239872713705779,
          15.233275166459727,
          15.257485535041203,
          15.242517707757955,
          15.220062351843186,
          15.242695080020807,
          15.25845904456545,
          15.31655506620401,
          15.323471021709434,
          15.351995190724589,
          15.397092448150788,
          15.413766065525573,
          15.437112483291742,
          15.466603008458243,
          15.47187720108103,
          15.43136481419916,
          15.416262883070825,
          15.368047523134749,
          15.247781025515566,
          15.221467188616096,
          15.207972661327918,
          15.25082014834626,
          15.28452990469601,
          15.359547472112657,
          15.402511014353513,
          15.471330500037812,
          15.574129340905706,
          15.749536136629416,
          15.936892613430798,
          15.980364221181759,
          16.088563871937293,
          16.156523200889207,
          16.150848679277562,
          16.173011895924866,
          16.212562823364788,
          16.289536481524532,
          16.298819898519323,
          16.307398437386208,
          16.335598428430238,
          16.332001677299626,
          16.350757696379674,
          16.349885298590507,
          16.36555360333141,
          16.30679014126553,
          16.213494338926882,
          16.191653007776633,
          16.190070166158147,
          16.265830024447396,
          16.29834546250076,
          16.375681935901234,
          16.526625813532313,
          16.683796324621294,
          16.81751087977893,
          16.885275182827773,
          17.06962677483223,
          17.105312010763917,
          17.196589650328526,
          17.031593977192585,
          16.951859450501786,
          16.930681457901546,
          16.872378716995005,
          16.800218984559603,
          16.670579520628063,
          16.3931937666541,
          16.26488637300215,
          16.20908525784423,
          16.213533439637843,
          16.264455380735097,
          16.2299175592614,
          16.130963675597346,
          16.02753941255524,
          15.985669767277518,
          15.96946719596431,
          15.903395646271129,
          15.928650509311277,
          16.00249357999898,
          16.142639292706995,
          16.468363102189933,
          16.7791005560506,
          17.086963305339733,
          17.322237403389774,
          17.561944962213673,
          17.593267710778612,
          17.582081096967098,
          17.55417218553807,
          17.519676958760083,
          17.519941289127658,
          17.577448579053097,
          17.512902667788655,
          17.472127332138236,
          17.478133846217755,
          17.46950319320275,
          17.484418543180908,
          17.45233375106547,
          17.05062058824399,
          16.513056261879267,
          15.793648315006939,
          15.279700381589082,
          15.103672783075938,
          15.028111434764178,
          14.989662446380423,
          14.9536670437199,
          14.77585748611795,
          14.709845244552248,
          14.714920650145597,
          14.749345649727932,
          14.922863839392,
          15.120266541078218,
          15.184182023944032,
          15.183529501169131,
          15.32721744035547,
          15.52596222091394,
          15.523248719301852,
          15.518145121850985,
          15.444549122212372,
          15.42884754364904,
          15.425978831795772,
          15.406290659707734,
          15.343644789764602,
          15.377604317707302,
          15.30458573722941,
          15.204923824376023,
          15.175749406822193,
          15.149487550703723,
          15.092578475030965,
          15.158811811992061,
          15.294631673682384,
          15.308628914337524,
          15.313480392292453,
          15.30822744895645,
          15.301507755953054,
          15.291745675856527,
          15.298075017339201,
          15.207205574233724,
          15.184887783102525,
          15.215777033985848,
          15.207546129113945,
          15.242909421071019,
          15.320333658392206,
          15.278254726456678,
          15.273657826558944,
          15.29519577791949,
          15.152879057012356,
          15.186226105270642,
          15.323003433932517,
          15.473283529132548,
          15.620161778830859,
          15.669743546011937,
          15.725158227740131,
          15.693837667732586,
          15.768812535088783,
          15.967717728827141,
          16.154579577286306,
          16.283199658320047,
          16.426797394792438,
          16.665457407334706,
          16.6759499115285,
          16.70465494299548,
          16.859478432702343,
          16.946277860122677,
          17.000243163672526,
          17.124157594374566,
          17.152087023440945,
          17.16995923987942,
          17.154332849551075,
          17.161183743498615,
          17.169288651570053,
          17.15317158252324,
          17.21649023737334,
          17.232269521173222,
          17.16582473788008,
          17.081418551629238,
          17.03335061886832,
          16.830776549854924,
          16.701716649061954,
          16.700426634301163,
          16.688541034636703,
          16.67789572994127,
          16.561356735542645,
          16.54094857553907,
          16.531313263143513,
          16.532204381981458,
          16.581664830806655,
          16.590752278219725,
          16.59290239307279,
          16.587261598064146,
          16.536930807315088
         ]
        }
       ],
       "layout": {
        "legend": {
         "bgcolor": "#F5F6F9",
         "font": {
          "color": "#4D5663"
         }
        },
        "paper_bgcolor": "#F5F6F9",
        "plot_bgcolor": "#F5F6F9",
        "template": {
         "data": {
          "bar": [
           {
            "error_x": {
             "color": "#2a3f5f"
            },
            "error_y": {
             "color": "#2a3f5f"
            },
            "marker": {
             "line": {
              "color": "#E5ECF6",
              "width": 0.5
             },
             "pattern": {
              "fillmode": "overlay",
              "size": 10,
              "solidity": 0.2
             }
            },
            "type": "bar"
           }
          ],
          "barpolar": [
           {
            "marker": {
             "line": {
              "color": "#E5ECF6",
              "width": 0.5
             },
             "pattern": {
              "fillmode": "overlay",
              "size": 10,
              "solidity": 0.2
             }
            },
            "type": "barpolar"
           }
          ],
          "carpet": [
           {
            "aaxis": {
             "endlinecolor": "#2a3f5f",
             "gridcolor": "white",
             "linecolor": "white",
             "minorgridcolor": "white",
             "startlinecolor": "#2a3f5f"
            },
            "baxis": {
             "endlinecolor": "#2a3f5f",
             "gridcolor": "white",
             "linecolor": "white",
             "minorgridcolor": "white",
             "startlinecolor": "#2a3f5f"
            },
            "type": "carpet"
           }
          ],
          "choropleth": [
           {
            "colorbar": {
             "outlinewidth": 0,
             "ticks": ""
            },
            "type": "choropleth"
           }
          ],
          "contour": [
           {
            "colorbar": {
             "outlinewidth": 0,
             "ticks": ""
            },
            "colorscale": [
             [
              0,
              "#0d0887"
             ],
             [
              0.1111111111111111,
              "#46039f"
             ],
             [
              0.2222222222222222,
              "#7201a8"
             ],
             [
              0.3333333333333333,
              "#9c179e"
             ],
             [
              0.4444444444444444,
              "#bd3786"
             ],
             [
              0.5555555555555556,
              "#d8576b"
             ],
             [
              0.6666666666666666,
              "#ed7953"
             ],
             [
              0.7777777777777778,
              "#fb9f3a"
             ],
             [
              0.8888888888888888,
              "#fdca26"
             ],
             [
              1,
              "#f0f921"
             ]
            ],
            "type": "contour"
           }
          ],
          "contourcarpet": [
           {
            "colorbar": {
             "outlinewidth": 0,
             "ticks": ""
            },
            "type": "contourcarpet"
           }
          ],
          "heatmap": [
           {
            "colorbar": {
             "outlinewidth": 0,
             "ticks": ""
            },
            "colorscale": [
             [
              0,
              "#0d0887"
             ],
             [
              0.1111111111111111,
              "#46039f"
             ],
             [
              0.2222222222222222,
              "#7201a8"
             ],
             [
              0.3333333333333333,
              "#9c179e"
             ],
             [
              0.4444444444444444,
              "#bd3786"
             ],
             [
              0.5555555555555556,
              "#d8576b"
             ],
             [
              0.6666666666666666,
              "#ed7953"
             ],
             [
              0.7777777777777778,
              "#fb9f3a"
             ],
             [
              0.8888888888888888,
              "#fdca26"
             ],
             [
              1,
              "#f0f921"
             ]
            ],
            "type": "heatmap"
           }
          ],
          "heatmapgl": [
           {
            "colorbar": {
             "outlinewidth": 0,
             "ticks": ""
            },
            "colorscale": [
             [
              0,
              "#0d0887"
             ],
             [
              0.1111111111111111,
              "#46039f"
             ],
             [
              0.2222222222222222,
              "#7201a8"
             ],
             [
              0.3333333333333333,
              "#9c179e"
             ],
             [
              0.4444444444444444,
              "#bd3786"
             ],
             [
              0.5555555555555556,
              "#d8576b"
             ],
             [
              0.6666666666666666,
              "#ed7953"
             ],
             [
              0.7777777777777778,
              "#fb9f3a"
             ],
             [
              0.8888888888888888,
              "#fdca26"
             ],
             [
              1,
              "#f0f921"
             ]
            ],
            "type": "heatmapgl"
           }
          ],
          "histogram": [
           {
            "marker": {
             "pattern": {
              "fillmode": "overlay",
              "size": 10,
              "solidity": 0.2
             }
            },
            "type": "histogram"
           }
          ],
          "histogram2d": [
           {
            "colorbar": {
             "outlinewidth": 0,
             "ticks": ""
            },
            "colorscale": [
             [
              0,
              "#0d0887"
             ],
             [
              0.1111111111111111,
              "#46039f"
             ],
             [
              0.2222222222222222,
              "#7201a8"
             ],
             [
              0.3333333333333333,
              "#9c179e"
             ],
             [
              0.4444444444444444,
              "#bd3786"
             ],
             [
              0.5555555555555556,
              "#d8576b"
             ],
             [
              0.6666666666666666,
              "#ed7953"
             ],
             [
              0.7777777777777778,
              "#fb9f3a"
             ],
             [
              0.8888888888888888,
              "#fdca26"
             ],
             [
              1,
              "#f0f921"
             ]
            ],
            "type": "histogram2d"
           }
          ],
          "histogram2dcontour": [
           {
            "colorbar": {
             "outlinewidth": 0,
             "ticks": ""
            },
            "colorscale": [
             [
              0,
              "#0d0887"
             ],
             [
              0.1111111111111111,
              "#46039f"
             ],
             [
              0.2222222222222222,
              "#7201a8"
             ],
             [
              0.3333333333333333,
              "#9c179e"
             ],
             [
              0.4444444444444444,
              "#bd3786"
             ],
             [
              0.5555555555555556,
              "#d8576b"
             ],
             [
              0.6666666666666666,
              "#ed7953"
             ],
             [
              0.7777777777777778,
              "#fb9f3a"
             ],
             [
              0.8888888888888888,
              "#fdca26"
             ],
             [
              1,
              "#f0f921"
             ]
            ],
            "type": "histogram2dcontour"
           }
          ],
          "mesh3d": [
           {
            "colorbar": {
             "outlinewidth": 0,
             "ticks": ""
            },
            "type": "mesh3d"
           }
          ],
          "parcoords": [
           {
            "line": {
             "colorbar": {
              "outlinewidth": 0,
              "ticks": ""
             }
            },
            "type": "parcoords"
           }
          ],
          "pie": [
           {
            "automargin": true,
            "type": "pie"
           }
          ],
          "scatter": [
           {
            "marker": {
             "colorbar": {
              "outlinewidth": 0,
              "ticks": ""
             }
            },
            "type": "scatter"
           }
          ],
          "scatter3d": [
           {
            "line": {
             "colorbar": {
              "outlinewidth": 0,
              "ticks": ""
             }
            },
            "marker": {
             "colorbar": {
              "outlinewidth": 0,
              "ticks": ""
             }
            },
            "type": "scatter3d"
           }
          ],
          "scattercarpet": [
           {
            "marker": {
             "colorbar": {
              "outlinewidth": 0,
              "ticks": ""
             }
            },
            "type": "scattercarpet"
           }
          ],
          "scattergeo": [
           {
            "marker": {
             "colorbar": {
              "outlinewidth": 0,
              "ticks": ""
             }
            },
            "type": "scattergeo"
           }
          ],
          "scattergl": [
           {
            "marker": {
             "colorbar": {
              "outlinewidth": 0,
              "ticks": ""
             }
            },
            "type": "scattergl"
           }
          ],
          "scattermapbox": [
           {
            "marker": {
             "colorbar": {
              "outlinewidth": 0,
              "ticks": ""
             }
            },
            "type": "scattermapbox"
           }
          ],
          "scatterpolar": [
           {
            "marker": {
             "colorbar": {
              "outlinewidth": 0,
              "ticks": ""
             }
            },
            "type": "scatterpolar"
           }
          ],
          "scatterpolargl": [
           {
            "marker": {
             "colorbar": {
              "outlinewidth": 0,
              "ticks": ""
             }
            },
            "type": "scatterpolargl"
           }
          ],
          "scatterternary": [
           {
            "marker": {
             "colorbar": {
              "outlinewidth": 0,
              "ticks": ""
             }
            },
            "type": "scatterternary"
           }
          ],
          "surface": [
           {
            "colorbar": {
             "outlinewidth": 0,
             "ticks": ""
            },
            "colorscale": [
             [
              0,
              "#0d0887"
             ],
             [
              0.1111111111111111,
              "#46039f"
             ],
             [
              0.2222222222222222,
              "#7201a8"
             ],
             [
              0.3333333333333333,
              "#9c179e"
             ],
             [
              0.4444444444444444,
              "#bd3786"
             ],
             [
              0.5555555555555556,
              "#d8576b"
             ],
             [
              0.6666666666666666,
              "#ed7953"
             ],
             [
              0.7777777777777778,
              "#fb9f3a"
             ],
             [
              0.8888888888888888,
              "#fdca26"
             ],
             [
              1,
              "#f0f921"
             ]
            ],
            "type": "surface"
           }
          ],
          "table": [
           {
            "cells": {
             "fill": {
              "color": "#EBF0F8"
             },
             "line": {
              "color": "white"
             }
            },
            "header": {
             "fill": {
              "color": "#C8D4E3"
             },
             "line": {
              "color": "white"
             }
            },
            "type": "table"
           }
          ]
         },
         "layout": {
          "annotationdefaults": {
           "arrowcolor": "#2a3f5f",
           "arrowhead": 0,
           "arrowwidth": 1
          },
          "autotypenumbers": "strict",
          "coloraxis": {
           "colorbar": {
            "outlinewidth": 0,
            "ticks": ""
           }
          },
          "colorscale": {
           "diverging": [
            [
             0,
             "#8e0152"
            ],
            [
             0.1,
             "#c51b7d"
            ],
            [
             0.2,
             "#de77ae"
            ],
            [
             0.3,
             "#f1b6da"
            ],
            [
             0.4,
             "#fde0ef"
            ],
            [
             0.5,
             "#f7f7f7"
            ],
            [
             0.6,
             "#e6f5d0"
            ],
            [
             0.7,
             "#b8e186"
            ],
            [
             0.8,
             "#7fbc41"
            ],
            [
             0.9,
             "#4d9221"
            ],
            [
             1,
             "#276419"
            ]
           ],
           "sequential": [
            [
             0,
             "#0d0887"
            ],
            [
             0.1111111111111111,
             "#46039f"
            ],
            [
             0.2222222222222222,
             "#7201a8"
            ],
            [
             0.3333333333333333,
             "#9c179e"
            ],
            [
             0.4444444444444444,
             "#bd3786"
            ],
            [
             0.5555555555555556,
             "#d8576b"
            ],
            [
             0.6666666666666666,
             "#ed7953"
            ],
            [
             0.7777777777777778,
             "#fb9f3a"
            ],
            [
             0.8888888888888888,
             "#fdca26"
            ],
            [
             1,
             "#f0f921"
            ]
           ],
           "sequentialminus": [
            [
             0,
             "#0d0887"
            ],
            [
             0.1111111111111111,
             "#46039f"
            ],
            [
             0.2222222222222222,
             "#7201a8"
            ],
            [
             0.3333333333333333,
             "#9c179e"
            ],
            [
             0.4444444444444444,
             "#bd3786"
            ],
            [
             0.5555555555555556,
             "#d8576b"
            ],
            [
             0.6666666666666666,
             "#ed7953"
            ],
            [
             0.7777777777777778,
             "#fb9f3a"
            ],
            [
             0.8888888888888888,
             "#fdca26"
            ],
            [
             1,
             "#f0f921"
            ]
           ]
          },
          "colorway": [
           "#636efa",
           "#EF553B",
           "#00cc96",
           "#ab63fa",
           "#FFA15A",
           "#19d3f3",
           "#FF6692",
           "#B6E880",
           "#FF97FF",
           "#FECB52"
          ],
          "font": {
           "color": "#2a3f5f"
          },
          "geo": {
           "bgcolor": "white",
           "lakecolor": "white",
           "landcolor": "#E5ECF6",
           "showlakes": true,
           "showland": true,
           "subunitcolor": "white"
          },
          "hoverlabel": {
           "align": "left"
          },
          "hovermode": "closest",
          "mapbox": {
           "style": "light"
          },
          "paper_bgcolor": "white",
          "plot_bgcolor": "#E5ECF6",
          "polar": {
           "angularaxis": {
            "gridcolor": "white",
            "linecolor": "white",
            "ticks": ""
           },
           "bgcolor": "#E5ECF6",
           "radialaxis": {
            "gridcolor": "white",
            "linecolor": "white",
            "ticks": ""
           }
          },
          "scene": {
           "xaxis": {
            "backgroundcolor": "#E5ECF6",
            "gridcolor": "white",
            "gridwidth": 2,
            "linecolor": "white",
            "showbackground": true,
            "ticks": "",
            "zerolinecolor": "white"
           },
           "yaxis": {
            "backgroundcolor": "#E5ECF6",
            "gridcolor": "white",
            "gridwidth": 2,
            "linecolor": "white",
            "showbackground": true,
            "ticks": "",
            "zerolinecolor": "white"
           },
           "zaxis": {
            "backgroundcolor": "#E5ECF6",
            "gridcolor": "white",
            "gridwidth": 2,
            "linecolor": "white",
            "showbackground": true,
            "ticks": "",
            "zerolinecolor": "white"
           }
          },
          "shapedefaults": {
           "line": {
            "color": "#2a3f5f"
           }
          },
          "ternary": {
           "aaxis": {
            "gridcolor": "white",
            "linecolor": "white",
            "ticks": ""
           },
           "baxis": {
            "gridcolor": "white",
            "linecolor": "white",
            "ticks": ""
           },
           "bgcolor": "#E5ECF6",
           "caxis": {
            "gridcolor": "white",
            "linecolor": "white",
            "ticks": ""
           }
          },
          "title": {
           "x": 0.05
          },
          "xaxis": {
           "automargin": true,
           "gridcolor": "white",
           "linecolor": "white",
           "ticks": "",
           "title": {
            "standoff": 15
           },
           "zerolinecolor": "white",
           "zerolinewidth": 2
          },
          "yaxis": {
           "automargin": true,
           "gridcolor": "white",
           "linecolor": "white",
           "ticks": "",
           "title": {
            "standoff": 15
           },
           "zerolinecolor": "white",
           "zerolinewidth": 2
          }
         }
        },
        "title": {
         "font": {
          "color": "#4D5663"
         }
        },
        "xaxis": {
         "gridcolor": "#E1E5ED",
         "showgrid": true,
         "tickfont": {
          "color": "#4D5663"
         },
         "title": {
          "font": {
           "color": "#4D5663"
          },
          "text": ""
         },
         "zerolinecolor": "#E1E5ED"
        },
        "yaxis": {
         "gridcolor": "#E1E5ED",
         "showgrid": true,
         "tickfont": {
          "color": "#4D5663"
         },
         "title": {
          "font": {
           "color": "#4D5663"
          },
          "text": ""
         },
         "zerolinecolor": "#E1E5ED"
        }
       }
      },
      "text/html": [
       "<div>                            <div id=\"132697d7-7a77-4716-9e5d-f4bfc228baaf\" class=\"plotly-graph-div\" style=\"height:525px; width:100%;\"></div>            <script type=\"text/javascript\">                require([\"plotly\"], function(Plotly) {                    window.PLOTLYENV=window.PLOTLYENV || {};\n",
       "                    window.PLOTLYENV.BASE_URL='https://plot.ly';                                    if (document.getElementById(\"132697d7-7a77-4716-9e5d-f4bfc228baaf\")) {                    Plotly.newPlot(                        \"132697d7-7a77-4716-9e5d-f4bfc228baaf\",                        [{\"line\":{\"color\":\"rgba(255, 153, 51, 1.0)\",\"dash\":\"solid\",\"shape\":\"linear\",\"width\":1.3},\"mode\":\"lines\",\"name\":\"Close\",\"text\":\"\",\"x\":[\"2015-01-02\",\"2015-01-05\",\"2015-01-06\",\"2015-01-07\",\"2015-01-08\",\"2015-01-09\",\"2015-01-12\",\"2015-01-13\",\"2015-01-14\",\"2015-01-15\",\"2015-01-16\",\"2015-01-20\",\"2015-01-21\",\"2015-01-22\",\"2015-01-23\",\"2015-01-26\",\"2015-01-27\",\"2015-01-28\",\"2015-01-29\",\"2015-01-30\",\"2015-02-02\",\"2015-02-03\",\"2015-02-04\",\"2015-02-05\",\"2015-02-06\",\"2015-02-09\",\"2015-02-10\",\"2015-02-11\",\"2015-02-12\",\"2015-02-13\",\"2015-02-17\",\"2015-02-18\",\"2015-02-19\",\"2015-02-20\",\"2015-02-23\",\"2015-02-24\",\"2015-02-25\",\"2015-02-26\",\"2015-02-27\",\"2015-03-02\",\"2015-03-03\",\"2015-03-04\",\"2015-03-05\",\"2015-03-06\",\"2015-03-09\",\"2015-03-10\",\"2015-03-11\",\"2015-03-12\",\"2015-03-13\",\"2015-03-16\",\"2015-03-17\",\"2015-03-18\",\"2015-03-19\",\"2015-03-20\",\"2015-03-23\",\"2015-03-24\",\"2015-03-25\",\"2015-03-26\",\"2015-03-27\",\"2015-03-30\",\"2015-03-31\",\"2015-04-01\",\"2015-04-02\",\"2015-04-06\",\"2015-04-07\",\"2015-04-08\",\"2015-04-09\",\"2015-04-10\",\"2015-04-13\",\"2015-04-14\",\"2015-04-15\",\"2015-04-16\",\"2015-04-17\",\"2015-04-20\",\"2015-04-21\",\"2015-04-22\",\"2015-04-23\",\"2015-04-24\",\"2015-04-27\",\"2015-04-28\",\"2015-04-29\",\"2015-04-30\",\"2015-05-01\",\"2015-05-04\",\"2015-05-05\",\"2015-05-06\",\"2015-05-07\",\"2015-05-08\",\"2015-05-11\",\"2015-05-12\",\"2015-05-13\",\"2015-05-14\",\"2015-05-15\",\"2015-05-18\",\"2015-05-19\",\"2015-05-20\",\"2015-05-21\",\"2015-05-22\",\"2015-05-26\",\"2015-05-27\",\"2015-05-28\",\"2015-05-29\",\"2015-06-01\",\"2015-06-02\",\"2015-06-03\",\"2015-06-04\",\"2015-06-05\",\"2015-06-08\",\"2015-06-09\",\"2015-06-10\",\"2015-06-11\",\"2015-06-12\",\"2015-06-15\",\"2015-06-16\",\"2015-06-17\",\"2015-06-18\",\"2015-06-19\",\"2015-06-22\",\"2015-06-23\",\"2015-06-24\",\"2015-06-25\",\"2015-06-26\",\"2015-06-29\",\"2015-06-30\",\"2015-07-01\",\"2015-07-02\",\"2015-07-06\",\"2015-07-07\",\"2015-07-08\",\"2015-07-09\",\"2015-07-10\",\"2015-07-13\",\"2015-07-14\",\"2015-07-15\",\"2015-07-16\",\"2015-07-17\",\"2015-07-20\",\"2015-07-21\",\"2015-07-22\",\"2015-07-23\",\"2015-07-24\",\"2015-07-27\",\"2015-07-28\",\"2015-07-29\",\"2015-07-30\",\"2015-07-31\",\"2015-08-03\",\"2015-08-04\",\"2015-08-05\",\"2015-08-06\",\"2015-08-07\",\"2015-08-10\",\"2015-08-11\",\"2015-08-12\",\"2015-08-13\",\"2015-08-14\",\"2015-08-17\",\"2015-08-18\",\"2015-08-19\",\"2015-08-20\",\"2015-08-21\",\"2015-08-24\",\"2015-08-25\",\"2015-08-26\",\"2015-08-27\",\"2015-08-28\",\"2015-08-31\",\"2015-09-01\",\"2015-09-02\",\"2015-09-03\",\"2015-09-04\",\"2015-09-08\",\"2015-09-09\",\"2015-09-10\",\"2015-09-11\",\"2015-09-14\",\"2015-09-15\",\"2015-09-16\",\"2015-09-17\",\"2015-09-18\",\"2015-09-21\",\"2015-09-22\",\"2015-09-23\",\"2015-09-24\",\"2015-09-25\",\"2015-09-28\",\"2015-09-29\",\"2015-09-30\",\"2015-10-01\",\"2015-10-02\",\"2015-10-05\",\"2015-10-06\",\"2015-10-07\",\"2015-10-08\",\"2015-10-09\",\"2015-10-12\",\"2015-10-13\",\"2015-10-14\",\"2015-10-15\",\"2015-10-16\",\"2015-10-19\",\"2015-10-20\",\"2015-10-21\",\"2015-10-22\",\"2015-10-23\",\"2015-10-26\",\"2015-10-27\",\"2015-10-28\",\"2015-10-29\",\"2015-10-30\",\"2015-11-02\",\"2015-11-03\",\"2015-11-04\",\"2015-11-05\",\"2015-11-06\",\"2015-11-09\",\"2015-11-10\",\"2015-11-11\",\"2015-11-12\",\"2015-11-13\",\"2015-11-16\",\"2015-11-17\",\"2015-11-18\",\"2015-11-19\",\"2015-11-20\",\"2015-11-23\",\"2015-11-24\",\"2015-11-25\",\"2015-11-27\",\"2015-11-30\",\"2015-12-01\",\"2015-12-02\",\"2015-12-03\",\"2015-12-04\",\"2015-12-07\",\"2015-12-08\",\"2015-12-09\",\"2015-12-10\",\"2015-12-11\",\"2015-12-14\",\"2015-12-15\",\"2015-12-16\",\"2015-12-17\",\"2015-12-18\",\"2015-12-21\",\"2015-12-22\",\"2015-12-23\",\"2015-12-24\",\"2015-12-28\",\"2015-12-29\",\"2015-12-30\",\"2015-12-31\"],\"y\":[17.899999618530273,17.3799991607666,16.860000610351562,16.940000534057617,17.290000915527344,16.979999542236328,16.68000030517578,16.450000762939453,16.040000915527344,15.199999809265137,15.380000114440918,15.260000228881836,15.40999984741211,16.09000015258789,15.729999542236328,15.850000381469727,15.630000114440918,15.199999809265137,15.430000305175781,15.149999618530273,15.460000038146973,15.890000343322754,15.789999961853027,15.970000267028809,16.489999771118164,16.350000381469727,16.420000076293945,16.360000610351562,16.670000076293945,16.610000610351562,16.6299991607666,16.299999237060547,16.209999084472656,16.3799991607666,16.200000762939453,16.3799991607666,16.489999771118164,16.040000915527344,15.8100004196167,16.010000228881836,16.040000915527344,15.84000015258789,16.0,16.219999313354492,16.170000076293945,15.789999961853027,16.110000610351562,16.09000015258789,16.09000015258789,16.1299991607666,16.09000015258789,15.979999542236328,15.609999656677246,15.84000015258789,15.720000267028809,15.609999656677246,15.40999984741211,15.420000076293945,15.3100004196167,15.520000457763672,15.390000343322754,15.40999984741211,15.539999961853027,15.510000228881836,15.460000038146973,15.609999656677246,15.710000038146973,15.720000267028809,15.800000190734863,15.819999694824219,15.640000343322754,15.789999961853027,15.5600004196167,15.569999694824219,15.5,15.739999771118164,15.6899995803833,15.640000343322754,15.5600004196167,15.649999618530273,15.979999542236328,15.930000305175781,16.110000610351562,16.440000534057617,16.350000381469727,16.290000915527344,16.239999771118164,16.450000762939453,16.489999771118164,16.43000030517578,16.469999313354492,16.520000457763672,16.350000381469727,16.510000228881836,16.770000457763672,16.739999771118164,16.729999542236328,16.75,16.5,16.739999771118164,16.670000076293945,16.5,16.549999237060547,16.719999313354492,16.93000030517578,16.780000686645508,17.190000534057617,17.079999923706055,17.309999465942383,17.59000015258789,17.489999771118164,17.489999771118164,17.469999313354492,17.549999237060547,17.3700008392334,17.3799991607666,17.170000076293945,17.469999313354492,17.670000076293945,17.489999771118164,17.3700008392334,17.40999984741211,16.889999389648438,17.020000457763672,17.219999313354492,17.030000686645508,16.940000534057617,16.690000534057617,16.25,16.479999542236328,16.700000762939453,17.020000457763672,17.1299991607666,17.68000030517578,17.950000762939453,18.100000381469727,18.1200008392334,18.079999923706055,18.450000762939453,18.18000030517578,17.899999618530273,17.670000076293945,17.8799991607666,18.15999984741211,18.1299991607666,17.8799991607666,17.770000457763672,17.799999237060547,17.8700008392334,17.809999465942383,17.75,18.040000915527344,17.790000915527344,17.520000457763672,17.6200008392334,17.700000762939453,17.770000457763672,17.690000534057617,17.459999084472656,16.719999313354492,16.100000381469727,15.289999961853027,15.260000228881836,16.059999465942383,16.440000534057617,16.360000610351562,16.34000015258789,15.579999923706055,15.850000381469727,15.9399995803833,15.649999618530273,16.15999984741211,15.899999618530273,16.040000915527344,16.040000915527344,15.960000038146973,16.309999465942383,16.329999923706055,15.859999656677246,15.5600004196167,15.699999809265137,15.569999694824219,15.720000267028809,15.550000190734863,15.890000343322754,15.470000267028809,15.350000381469727,15.579999923706055,15.550000190734863,15.380000114440918,15.6899995803833,15.6899995803833,15.75,15.75,15.579999923706055,15.520000457763672,15.520000457763672,15.640000343322754,16.190000534057617,16.1200008392334,16.139999389648438,16.200000762939453,15.899999618530273,16.15999984741211,16.520000457763672,16.510000228881836,16.399999618530273,17.280000686645508,17.09000015258789,16.780000686645508,17.059999465942383,17.18000030517578,17.010000228881836,17.309999465942383,17.950000762939453,17.68000030517578,17.850000381469727,17.75,17.3700008392334,17.200000762939453,17.43000030517578,17.420000076293945,17.84000015258789,17.690000534057617,17.649999618530273,17.469999313354492,17.469999313354492,17.440000534057617,17.479999542236328,17.43000030517578,17.809999465942383,17.6200008392334,17.299999237060547,17.799999237060547,17.540000915527344,17.190000534057617,17.100000381469727,17.200000762939453,16.729999542236328,16.799999237060547,17.420000076293945,17.75,17.299999237060547,16.760000228881836,16.969999313354492,17.079999923706055,17.34000015258789,17.270000457763672,17.1299991607666,17.280000686645508,17.049999237060547,16.829999923706055],\"type\":\"scatter\"},{\"line\":{\"color\":\"rgba(55, 128, 191, 1.0)\",\"dash\":\"solid\",\"shape\":\"linear\",\"width\":1.3},\"mode\":\"lines\",\"name\":\"SMA(14)\",\"text\":\"\",\"x\":[\"2015-01-02\",\"2015-01-05\",\"2015-01-06\",\"2015-01-07\",\"2015-01-08\",\"2015-01-09\",\"2015-01-12\",\"2015-01-13\",\"2015-01-14\",\"2015-01-15\",\"2015-01-16\",\"2015-01-20\",\"2015-01-21\",\"2015-01-22\",\"2015-01-23\",\"2015-01-26\",\"2015-01-27\",\"2015-01-28\",\"2015-01-29\",\"2015-01-30\",\"2015-02-02\",\"2015-02-03\",\"2015-02-04\",\"2015-02-05\",\"2015-02-06\",\"2015-02-09\",\"2015-02-10\",\"2015-02-11\",\"2015-02-12\",\"2015-02-13\",\"2015-02-17\",\"2015-02-18\",\"2015-02-19\",\"2015-02-20\",\"2015-02-23\",\"2015-02-24\",\"2015-02-25\",\"2015-02-26\",\"2015-02-27\",\"2015-03-02\",\"2015-03-03\",\"2015-03-04\",\"2015-03-05\",\"2015-03-06\",\"2015-03-09\",\"2015-03-10\",\"2015-03-11\",\"2015-03-12\",\"2015-03-13\",\"2015-03-16\",\"2015-03-17\",\"2015-03-18\",\"2015-03-19\",\"2015-03-20\",\"2015-03-23\",\"2015-03-24\",\"2015-03-25\",\"2015-03-26\",\"2015-03-27\",\"2015-03-30\",\"2015-03-31\",\"2015-04-01\",\"2015-04-02\",\"2015-04-06\",\"2015-04-07\",\"2015-04-08\",\"2015-04-09\",\"2015-04-10\",\"2015-04-13\",\"2015-04-14\",\"2015-04-15\",\"2015-04-16\",\"2015-04-17\",\"2015-04-20\",\"2015-04-21\",\"2015-04-22\",\"2015-04-23\",\"2015-04-24\",\"2015-04-27\",\"2015-04-28\",\"2015-04-29\",\"2015-04-30\",\"2015-05-01\",\"2015-05-04\",\"2015-05-05\",\"2015-05-06\",\"2015-05-07\",\"2015-05-08\",\"2015-05-11\",\"2015-05-12\",\"2015-05-13\",\"2015-05-14\",\"2015-05-15\",\"2015-05-18\",\"2015-05-19\",\"2015-05-20\",\"2015-05-21\",\"2015-05-22\",\"2015-05-26\",\"2015-05-27\",\"2015-05-28\",\"2015-05-29\",\"2015-06-01\",\"2015-06-02\",\"2015-06-03\",\"2015-06-04\",\"2015-06-05\",\"2015-06-08\",\"2015-06-09\",\"2015-06-10\",\"2015-06-11\",\"2015-06-12\",\"2015-06-15\",\"2015-06-16\",\"2015-06-17\",\"2015-06-18\",\"2015-06-19\",\"2015-06-22\",\"2015-06-23\",\"2015-06-24\",\"2015-06-25\",\"2015-06-26\",\"2015-06-29\",\"2015-06-30\",\"2015-07-01\",\"2015-07-02\",\"2015-07-06\",\"2015-07-07\",\"2015-07-08\",\"2015-07-09\",\"2015-07-10\",\"2015-07-13\",\"2015-07-14\",\"2015-07-15\",\"2015-07-16\",\"2015-07-17\",\"2015-07-20\",\"2015-07-21\",\"2015-07-22\",\"2015-07-23\",\"2015-07-24\",\"2015-07-27\",\"2015-07-28\",\"2015-07-29\",\"2015-07-30\",\"2015-07-31\",\"2015-08-03\",\"2015-08-04\",\"2015-08-05\",\"2015-08-06\",\"2015-08-07\",\"2015-08-10\",\"2015-08-11\",\"2015-08-12\",\"2015-08-13\",\"2015-08-14\",\"2015-08-17\",\"2015-08-18\",\"2015-08-19\",\"2015-08-20\",\"2015-08-21\",\"2015-08-24\",\"2015-08-25\",\"2015-08-26\",\"2015-08-27\",\"2015-08-28\",\"2015-08-31\",\"2015-09-01\",\"2015-09-02\",\"2015-09-03\",\"2015-09-04\",\"2015-09-08\",\"2015-09-09\",\"2015-09-10\",\"2015-09-11\",\"2015-09-14\",\"2015-09-15\",\"2015-09-16\",\"2015-09-17\",\"2015-09-18\",\"2015-09-21\",\"2015-09-22\",\"2015-09-23\",\"2015-09-24\",\"2015-09-25\",\"2015-09-28\",\"2015-09-29\",\"2015-09-30\",\"2015-10-01\",\"2015-10-02\",\"2015-10-05\",\"2015-10-06\",\"2015-10-07\",\"2015-10-08\",\"2015-10-09\",\"2015-10-12\",\"2015-10-13\",\"2015-10-14\",\"2015-10-15\",\"2015-10-16\",\"2015-10-19\",\"2015-10-20\",\"2015-10-21\",\"2015-10-22\",\"2015-10-23\",\"2015-10-26\",\"2015-10-27\",\"2015-10-28\",\"2015-10-29\",\"2015-10-30\",\"2015-11-02\",\"2015-11-03\",\"2015-11-04\",\"2015-11-05\",\"2015-11-06\",\"2015-11-09\",\"2015-11-10\",\"2015-11-11\",\"2015-11-12\",\"2015-11-13\",\"2015-11-16\",\"2015-11-17\",\"2015-11-18\",\"2015-11-19\",\"2015-11-20\",\"2015-11-23\",\"2015-11-24\",\"2015-11-25\",\"2015-11-27\",\"2015-11-30\",\"2015-12-01\",\"2015-12-02\",\"2015-12-03\",\"2015-12-04\",\"2015-12-07\",\"2015-12-08\",\"2015-12-09\",\"2015-12-10\",\"2015-12-11\",\"2015-12-14\",\"2015-12-15\",\"2015-12-16\",\"2015-12-17\",\"2015-12-18\",\"2015-12-21\",\"2015-12-22\",\"2015-12-23\",\"2015-12-24\",\"2015-12-28\",\"2015-12-29\",\"2015-12-30\",\"2015-12-31\"],\"y\":[\"\",\"\",\"\",\"\",\"\",\"\",\"\",\"\",\"\",\"\",\"\",\"\",\"\",16.418571608407156,16.26357160295759,16.154285975864955,16.066428797585623,15.942143031529017,15.809285845075335,15.678571564810616,15.591428688594274,15.551428658621651,15.533571447644915,15.58857148034232,15.66785717010498,15.74571432386126,15.817857197352819,15.837142944335938,15.904285839625768,15.958571570260185,16.030000073569163,16.108571461268834,16.16428565979004,16.252142769949778,16.30499996457781,16.339999880109513,16.389999866485596,16.39499991280692,16.346428530556814,16.322142805371964,16.295000008174352,16.25785711833409,16.20999997002738,16.182142734527588,16.149285657065256,16.112857137407577,16.105714389256068,16.08500017438616,16.07714298793248,16.059285845075333,16.030714443751744,16.026428631373815,16.012142862592423,16.0,15.977142810821533,15.960714203970772,15.91857133592878,15.861428533281599,15.799999986376081,15.780714307512556,15.729285717010498,15.6807142666408,15.641428538731166,15.597142900739398,15.552142892565046,15.525714329310826,15.53285721370152,15.524285793304443,15.53000007356916,15.545000076293945,15.561428683144706,15.587857246398926,15.605714389256068,15.609285763331822,15.617142881665911,15.640714304787773,15.65142856325422,15.660714285714286,15.66785717010498,15.67071431023734,15.689999989100865,15.704999991825648,15.727142878941127,15.771428653172084,15.822142941611153,15.857857295445033,15.906428677695137,15.969285896846227,16.040000166211808,16.089285918644496,16.145000185285294,16.20785733631679,16.26428590502058,16.32571452004569,16.38214315686907,16.44000026157924,16.48428589957101,16.506428718566895,16.51714297703334,16.549285752432688,16.58000005994524,16.583571434020996,16.58785711015974,16.608571325029647,16.641428538731166,16.659999983651296,16.71999999455043,16.760714258466447,16.799285616193497,16.859999929155624,16.91428565979004,16.967142786298478,17.036428451538086,17.094285556248256,17.144285610743932,17.207142693655832,17.25142846788679,17.304999896458217,17.35785702296666,17.408571243286133,17.421428407941544,17.444999831063406,17.41499982561384,17.374285561697825,17.354999814714706,17.32214273725237,17.284285681588308,17.222857202802384,17.142857142857142,17.078571455819265,17.045000076293945,17.012857300894602,16.97428580692836,16.987857273646764,17.029285839625768,17.078571592058456,17.16642883845738,17.242143086024694,17.33000033242362,17.41214316231864,17.480714525495255,17.55071449279785,17.66714300428118,17.787143026079452,17.889285768781388,17.950714247567312,17.996428625924246,18.00499997820173,17.99928569793701,17.978571346827916,17.9521427154541,17.949285643441335,17.902142797197616,17.854999950953893,17.835000038146973,17.837142944335938,17.829285894121444,17.79571451459612,17.747857366289413,17.665000234331405,17.54571451459612,17.3664288520813,17.180000237056188,17.055000237056188,16.96142884663173,16.84142882483346,16.737857341766357,16.599285875047958,16.47285727092198,16.347142900739396,16.195714269365585,16.086428506033762,15.974999972752162,15.926428658621651,15.92214298248291,15.97000013078962,16.045000076293945,16.064285823277064,16.022857189178467,15.96571431841169,15.920000008174352,15.919285706111364,15.909999983651298,15.882142884390694,15.899285793304443,15.85000010899135,15.810714449201312,15.777857235499791,15.7428571837289,15.701428617749896,15.657142911638532,15.611428601401192,15.603571483067103,15.617142881665911,15.608571461268834,15.60500008719308,15.590714386531285,15.597142968858991,15.618571553911481,15.66500016621181,15.721428666796003,15.76571444102696,15.790714400155204,15.846428666796003,15.905714443751744,15.964285918644496,16.01071446282523,16.120000226157053,16.2278573853629,16.3178574017116,16.427857330867223,16.53785732814244,16.596428734915598,16.68142863682338,16.81071444920131,16.91642870221819,17.055714470999582,17.169285910470144,17.230000223432267,17.279285975864955,17.352857453482493,17.36285740988595,17.41642883845738,17.481428827558243,17.523571695600236,17.544285910470144,17.57714298793248,17.586428778512136,17.55285726274763,17.535000119890487,17.532142911638534,17.52285725729806,17.517857142857142,17.560714176722936,17.56857136317662,17.55214282444545,17.49928569793701,17.464285714285715,17.39857142312186,17.35071427481515,17.347142900739396,17.36928571973528,17.35642855507987,17.308571406773158,17.248571395874023,17.209999901907786,17.21285711015974,17.175000054495676,17.14571421486991,17.152142797197616,17.148571286882675,17.12214265550886],\"type\":\"scatter\"},{\"line\":{\"color\":\"rgba(55, 128, 191, 0.8999999999999999)\",\"dash\":\"solid\",\"shape\":\"linear\",\"width\":1.3},\"mode\":\"lines\",\"name\":\"UPPER(14)\",\"text\":\"\",\"x\":[\"2015-01-02\",\"2015-01-05\",\"2015-01-06\",\"2015-01-07\",\"2015-01-08\",\"2015-01-09\",\"2015-01-12\",\"2015-01-13\",\"2015-01-14\",\"2015-01-15\",\"2015-01-16\",\"2015-01-20\",\"2015-01-21\",\"2015-01-22\",\"2015-01-23\",\"2015-01-26\",\"2015-01-27\",\"2015-01-28\",\"2015-01-29\",\"2015-01-30\",\"2015-02-02\",\"2015-02-03\",\"2015-02-04\",\"2015-02-05\",\"2015-02-06\",\"2015-02-09\",\"2015-02-10\",\"2015-02-11\",\"2015-02-12\",\"2015-02-13\",\"2015-02-17\",\"2015-02-18\",\"2015-02-19\",\"2015-02-20\",\"2015-02-23\",\"2015-02-24\",\"2015-02-25\",\"2015-02-26\",\"2015-02-27\",\"2015-03-02\",\"2015-03-03\",\"2015-03-04\",\"2015-03-05\",\"2015-03-06\",\"2015-03-09\",\"2015-03-10\",\"2015-03-11\",\"2015-03-12\",\"2015-03-13\",\"2015-03-16\",\"2015-03-17\",\"2015-03-18\",\"2015-03-19\",\"2015-03-20\",\"2015-03-23\",\"2015-03-24\",\"2015-03-25\",\"2015-03-26\",\"2015-03-27\",\"2015-03-30\",\"2015-03-31\",\"2015-04-01\",\"2015-04-02\",\"2015-04-06\",\"2015-04-07\",\"2015-04-08\",\"2015-04-09\",\"2015-04-10\",\"2015-04-13\",\"2015-04-14\",\"2015-04-15\",\"2015-04-16\",\"2015-04-17\",\"2015-04-20\",\"2015-04-21\",\"2015-04-22\",\"2015-04-23\",\"2015-04-24\",\"2015-04-27\",\"2015-04-28\",\"2015-04-29\",\"2015-04-30\",\"2015-05-01\",\"2015-05-04\",\"2015-05-05\",\"2015-05-06\",\"2015-05-07\",\"2015-05-08\",\"2015-05-11\",\"2015-05-12\",\"2015-05-13\",\"2015-05-14\",\"2015-05-15\",\"2015-05-18\",\"2015-05-19\",\"2015-05-20\",\"2015-05-21\",\"2015-05-22\",\"2015-05-26\",\"2015-05-27\",\"2015-05-28\",\"2015-05-29\",\"2015-06-01\",\"2015-06-02\",\"2015-06-03\",\"2015-06-04\",\"2015-06-05\",\"2015-06-08\",\"2015-06-09\",\"2015-06-10\",\"2015-06-11\",\"2015-06-12\",\"2015-06-15\",\"2015-06-16\",\"2015-06-17\",\"2015-06-18\",\"2015-06-19\",\"2015-06-22\",\"2015-06-23\",\"2015-06-24\",\"2015-06-25\",\"2015-06-26\",\"2015-06-29\",\"2015-06-30\",\"2015-07-01\",\"2015-07-02\",\"2015-07-06\",\"2015-07-07\",\"2015-07-08\",\"2015-07-09\",\"2015-07-10\",\"2015-07-13\",\"2015-07-14\",\"2015-07-15\",\"2015-07-16\",\"2015-07-17\",\"2015-07-20\",\"2015-07-21\",\"2015-07-22\",\"2015-07-23\",\"2015-07-24\",\"2015-07-27\",\"2015-07-28\",\"2015-07-29\",\"2015-07-30\",\"2015-07-31\",\"2015-08-03\",\"2015-08-04\",\"2015-08-05\",\"2015-08-06\",\"2015-08-07\",\"2015-08-10\",\"2015-08-11\",\"2015-08-12\",\"2015-08-13\",\"2015-08-14\",\"2015-08-17\",\"2015-08-18\",\"2015-08-19\",\"2015-08-20\",\"2015-08-21\",\"2015-08-24\",\"2015-08-25\",\"2015-08-26\",\"2015-08-27\",\"2015-08-28\",\"2015-08-31\",\"2015-09-01\",\"2015-09-02\",\"2015-09-03\",\"2015-09-04\",\"2015-09-08\",\"2015-09-09\",\"2015-09-10\",\"2015-09-11\",\"2015-09-14\",\"2015-09-15\",\"2015-09-16\",\"2015-09-17\",\"2015-09-18\",\"2015-09-21\",\"2015-09-22\",\"2015-09-23\",\"2015-09-24\",\"2015-09-25\",\"2015-09-28\",\"2015-09-29\",\"2015-09-30\",\"2015-10-01\",\"2015-10-02\",\"2015-10-05\",\"2015-10-06\",\"2015-10-07\",\"2015-10-08\",\"2015-10-09\",\"2015-10-12\",\"2015-10-13\",\"2015-10-14\",\"2015-10-15\",\"2015-10-16\",\"2015-10-19\",\"2015-10-20\",\"2015-10-21\",\"2015-10-22\",\"2015-10-23\",\"2015-10-26\",\"2015-10-27\",\"2015-10-28\",\"2015-10-29\",\"2015-10-30\",\"2015-11-02\",\"2015-11-03\",\"2015-11-04\",\"2015-11-05\",\"2015-11-06\",\"2015-11-09\",\"2015-11-10\",\"2015-11-11\",\"2015-11-12\",\"2015-11-13\",\"2015-11-16\",\"2015-11-17\",\"2015-11-18\",\"2015-11-19\",\"2015-11-20\",\"2015-11-23\",\"2015-11-24\",\"2015-11-25\",\"2015-11-27\",\"2015-11-30\",\"2015-12-01\",\"2015-12-02\",\"2015-12-03\",\"2015-12-04\",\"2015-12-07\",\"2015-12-08\",\"2015-12-09\",\"2015-12-10\",\"2015-12-11\",\"2015-12-14\",\"2015-12-15\",\"2015-12-16\",\"2015-12-17\",\"2015-12-18\",\"2015-12-21\",\"2015-12-22\",\"2015-12-23\",\"2015-12-24\",\"2015-12-28\",\"2015-12-29\",\"2015-12-30\",\"2015-12-31\"],\"y\":[\"\",\"\",\"\",\"\",\"\",\"\",\"\",\"\",\"\",\"\",\"\",\"\",\"\",18.1642449658764,17.817437531057877,17.579827339754672,17.455764525061113,17.305920480308583,16.951900104052154,16.65016415361848,16.377181472875954,16.19262301679862,16.12840103225055,16.1928567642045,16.425959284045064,16.546088066579006,16.668384032022242,16.725648551480123,16.894195568450474,17.016664686769897,17.126848813290454,17.102022538763872,17.078101519544898,16.958952518856005,16.84842199571176,16.82863995980059,16.76662444618331,16.748770519164534,16.81281241396045,16.82193794972953,16.812850035744823,16.827616470100892,16.741933386673768,16.662153274733377,16.554365222232555,16.55001010653122,16.539283183476353,16.48880853425669,16.475556936363073,16.419837588660222,16.294703022948347,16.291712810132903,16.341447849048922,16.34194016570738,16.349034218405865,16.376440763907162,16.42652999301196,16.402246081950384,16.383517122428056,16.383194417115675,16.33360141435882,16.26924351906514,16.183893038643074,16.063713114458206,15.926323070402892,15.811555944915874,15.832439260943314,15.791086051567683,15.817482439380367,15.869937800744705,15.880162286268606,15.917255448232401,15.894873712308126,15.895100504954211,15.882290572607234,15.884336161424757,15.889091060982865,15.884316088136831,15.869111331751718,15.86955141939365,15.948635164002571,15.993737100580471,16.086238234747505,16.295076280828603,16.42281869460621,16.507741929562147,16.562037207044014,16.654041888996446,16.720452860310957,16.776060822935477,16.818669870532776,16.84158533172787,16.77903567341174,16.714536426660583,16.78392209255638,16.791436651221186,16.81204859825281,16.862008757856227,16.861274058141817,16.886008681500588,16.87046363836595,16.86832296952267,16.86831578293327,16.881544221629056,16.950855400162705,16.96924227092292,17.090114690510354,17.155874913601483,17.291781091121464,17.506505519384365,17.636918311803445,17.74421540643881,17.807026878628776,17.890225649995752,17.91288928558663,17.887659573779352,17.819060611152285,17.792488913137504,17.830438863105545,17.747515711740036,17.73754480511917,17.693410011798285,17.798405674035095,17.796711672893863,17.779318171527866,17.771906757509736,17.768352378617013,17.775134884976705,17.892520519060184,17.89225653863638,17.88091489474366,17.81218116215136,17.684116233121625,17.74579698803213,17.92760800365419,18.129603771561673,18.347187909637245,18.514818976085078,18.75660501857611,18.895635815326,18.95893547099153,18.958789692888708,18.865922906372425,18.795185496108303,18.691608232223043,18.57919109174485,18.43091228963482,18.41673224562485,18.416490298906925,18.40297050811776,18.38460847214812,18.378629997755013,18.226837015342134,18.19709723411913,18.19787274415571,18.19615204245412,18.189068595040137,18.107010486011333,18.043380981513355,18.27937988041882,18.578372767312974,18.93920938915566,19.08030009252329,19.006327691036436,18.894746258499282,18.6931952032865,18.522047639812815,18.422714263977966,18.235869297291714,17.979365151333194,17.642082889003238,17.249993172675524,16.829733404426104,16.66867529329927,16.66075646379669,16.612782821223767,16.56403793167395,16.605322927252278,16.52756925650595,16.486879514611008,16.411152472699666,16.412592580426953,16.413709307594864,16.420640979016785,16.420967268901585,16.395414480753292,16.4165050740266,16.379965064177387,16.336226816754074,16.310278760468826,16.155474011285,15.92822552912,15.898514051796683,15.92080537103937,15.908915473581219,15.908492418433106,15.889683097206044,15.896210920378781,16.02993753358924,16.145112549321095,16.227080299606158,16.323882752939973,16.33851937923939,16.372523675199798,16.53317416104681,16.654914010730046,16.72623314773097,17.08712139530175,17.269488665455157,17.312711369490682,17.382431132601898,17.45555287745402,17.52311392381926,17.63769904590663,17.927591230670036,18.064044869347597,18.143711213172022,18.183992243653982,18.176800788544487,18.131774556937472,18.04025749963028,18.0497649082434,18.128202733919284,18.103379222414144,18.100865531077794,18.088328657267763,18.030128381490393,18.020770533583327,17.935755285615837,17.9156673902299,17.903102079778453,17.876425863026068,17.882542703191046,17.904938116072532,17.904873205180017,17.93846091101082,17.917152844244786,17.895220809703112,17.9663662963888,17.999711900568347,17.99385916717763,18.05003040483386,18.03496138021847,18.05578607800367,17.956194216208978,17.888686540672058,17.89350983833802,17.768335278184697,17.700676151520092,17.71138320132244,17.709880975701203,17.707354503702632],\"type\":\"scatter\"},{\"line\":{\"color\":\"rgba(55, 128, 191, 0.7999999999999998)\",\"dash\":\"solid\",\"shape\":\"linear\",\"width\":1.3},\"mode\":\"lines\",\"name\":\"LOWER(14)\",\"text\":\"\",\"x\":[\"2015-01-02\",\"2015-01-05\",\"2015-01-06\",\"2015-01-07\",\"2015-01-08\",\"2015-01-09\",\"2015-01-12\",\"2015-01-13\",\"2015-01-14\",\"2015-01-15\",\"2015-01-16\",\"2015-01-20\",\"2015-01-21\",\"2015-01-22\",\"2015-01-23\",\"2015-01-26\",\"2015-01-27\",\"2015-01-28\",\"2015-01-29\",\"2015-01-30\",\"2015-02-02\",\"2015-02-03\",\"2015-02-04\",\"2015-02-05\",\"2015-02-06\",\"2015-02-09\",\"2015-02-10\",\"2015-02-11\",\"2015-02-12\",\"2015-02-13\",\"2015-02-17\",\"2015-02-18\",\"2015-02-19\",\"2015-02-20\",\"2015-02-23\",\"2015-02-24\",\"2015-02-25\",\"2015-02-26\",\"2015-02-27\",\"2015-03-02\",\"2015-03-03\",\"2015-03-04\",\"2015-03-05\",\"2015-03-06\",\"2015-03-09\",\"2015-03-10\",\"2015-03-11\",\"2015-03-12\",\"2015-03-13\",\"2015-03-16\",\"2015-03-17\",\"2015-03-18\",\"2015-03-19\",\"2015-03-20\",\"2015-03-23\",\"2015-03-24\",\"2015-03-25\",\"2015-03-26\",\"2015-03-27\",\"2015-03-30\",\"2015-03-31\",\"2015-04-01\",\"2015-04-02\",\"2015-04-06\",\"2015-04-07\",\"2015-04-08\",\"2015-04-09\",\"2015-04-10\",\"2015-04-13\",\"2015-04-14\",\"2015-04-15\",\"2015-04-16\",\"2015-04-17\",\"2015-04-20\",\"2015-04-21\",\"2015-04-22\",\"2015-04-23\",\"2015-04-24\",\"2015-04-27\",\"2015-04-28\",\"2015-04-29\",\"2015-04-30\",\"2015-05-01\",\"2015-05-04\",\"2015-05-05\",\"2015-05-06\",\"2015-05-07\",\"2015-05-08\",\"2015-05-11\",\"2015-05-12\",\"2015-05-13\",\"2015-05-14\",\"2015-05-15\",\"2015-05-18\",\"2015-05-19\",\"2015-05-20\",\"2015-05-21\",\"2015-05-22\",\"2015-05-26\",\"2015-05-27\",\"2015-05-28\",\"2015-05-29\",\"2015-06-01\",\"2015-06-02\",\"2015-06-03\",\"2015-06-04\",\"2015-06-05\",\"2015-06-08\",\"2015-06-09\",\"2015-06-10\",\"2015-06-11\",\"2015-06-12\",\"2015-06-15\",\"2015-06-16\",\"2015-06-17\",\"2015-06-18\",\"2015-06-19\",\"2015-06-22\",\"2015-06-23\",\"2015-06-24\",\"2015-06-25\",\"2015-06-26\",\"2015-06-29\",\"2015-06-30\",\"2015-07-01\",\"2015-07-02\",\"2015-07-06\",\"2015-07-07\",\"2015-07-08\",\"2015-07-09\",\"2015-07-10\",\"2015-07-13\",\"2015-07-14\",\"2015-07-15\",\"2015-07-16\",\"2015-07-17\",\"2015-07-20\",\"2015-07-21\",\"2015-07-22\",\"2015-07-23\",\"2015-07-24\",\"2015-07-27\",\"2015-07-28\",\"2015-07-29\",\"2015-07-30\",\"2015-07-31\",\"2015-08-03\",\"2015-08-04\",\"2015-08-05\",\"2015-08-06\",\"2015-08-07\",\"2015-08-10\",\"2015-08-11\",\"2015-08-12\",\"2015-08-13\",\"2015-08-14\",\"2015-08-17\",\"2015-08-18\",\"2015-08-19\",\"2015-08-20\",\"2015-08-21\",\"2015-08-24\",\"2015-08-25\",\"2015-08-26\",\"2015-08-27\",\"2015-08-28\",\"2015-08-31\",\"2015-09-01\",\"2015-09-02\",\"2015-09-03\",\"2015-09-04\",\"2015-09-08\",\"2015-09-09\",\"2015-09-10\",\"2015-09-11\",\"2015-09-14\",\"2015-09-15\",\"2015-09-16\",\"2015-09-17\",\"2015-09-18\",\"2015-09-21\",\"2015-09-22\",\"2015-09-23\",\"2015-09-24\",\"2015-09-25\",\"2015-09-28\",\"2015-09-29\",\"2015-09-30\",\"2015-10-01\",\"2015-10-02\",\"2015-10-05\",\"2015-10-06\",\"2015-10-07\",\"2015-10-08\",\"2015-10-09\",\"2015-10-12\",\"2015-10-13\",\"2015-10-14\",\"2015-10-15\",\"2015-10-16\",\"2015-10-19\",\"2015-10-20\",\"2015-10-21\",\"2015-10-22\",\"2015-10-23\",\"2015-10-26\",\"2015-10-27\",\"2015-10-28\",\"2015-10-29\",\"2015-10-30\",\"2015-11-02\",\"2015-11-03\",\"2015-11-04\",\"2015-11-05\",\"2015-11-06\",\"2015-11-09\",\"2015-11-10\",\"2015-11-11\",\"2015-11-12\",\"2015-11-13\",\"2015-11-16\",\"2015-11-17\",\"2015-11-18\",\"2015-11-19\",\"2015-11-20\",\"2015-11-23\",\"2015-11-24\",\"2015-11-25\",\"2015-11-27\",\"2015-11-30\",\"2015-12-01\",\"2015-12-02\",\"2015-12-03\",\"2015-12-04\",\"2015-12-07\",\"2015-12-08\",\"2015-12-09\",\"2015-12-10\",\"2015-12-11\",\"2015-12-14\",\"2015-12-15\",\"2015-12-16\",\"2015-12-17\",\"2015-12-18\",\"2015-12-21\",\"2015-12-22\",\"2015-12-23\",\"2015-12-24\",\"2015-12-28\",\"2015-12-29\",\"2015-12-30\",\"2015-12-31\"],\"y\":[\"\",\"\",\"\",\"\",\"\",\"\",\"\",\"\",\"\",\"\",\"\",\"\",\"\",14.67289825093791,14.709705674857304,14.728744611975237,14.677093070110132,14.57836558274945,14.666671586098516,14.706978976002752,14.805675904312595,14.910234300444683,14.93874186303928,14.984286196480141,14.909755056164899,14.94534058114351,14.967330362683397,14.948637337191752,14.914376110801063,14.900478453750473,14.933151333847869,15.115120383773798,15.250469800035178,15.545333021043549,15.76157793344386,15.851359800418438,16.01337528678788,16.041229306449306,15.880044647153179,15.8223476610144,15.777149980603879,15.688097766567289,15.67806655338099,15.702132194321798,15.744206091897958,15.675704168283932,15.672145595035783,15.68119181451563,15.678729039501887,15.698734101490444,15.766725864555141,15.761144452614728,15.682837876135924,15.658059834292617,15.605251403237201,15.544987644034384,15.410612678845597,15.320610984612813,15.216482850324105,15.178234197909434,15.124970019662177,15.092185014216463,15.098964038819256,15.130572687020589,15.1779627147272,15.239872713705779,15.233275166459727,15.257485535041203,15.242517707757955,15.220062351843186,15.242695080020807,15.25845904456545,15.31655506620401,15.323471021709434,15.351995190724589,15.397092448150788,15.413766065525573,15.437112483291742,15.466603008458243,15.47187720108103,15.43136481419916,15.416262883070825,15.368047523134749,15.247781025515566,15.221467188616096,15.207972661327918,15.25082014834626,15.28452990469601,15.359547472112657,15.402511014353513,15.471330500037812,15.574129340905706,15.749536136629416,15.936892613430798,15.980364221181759,16.088563871937293,16.156523200889207,16.150848679277562,16.173011895924866,16.212562823364788,16.289536481524532,16.298819898519323,16.307398437386208,16.335598428430238,16.332001677299626,16.350757696379674,16.349885298590507,16.36555360333141,16.30679014126553,16.213494338926882,16.191653007776633,16.190070166158147,16.265830024447396,16.29834546250076,16.375681935901234,16.526625813532313,16.683796324621294,16.81751087977893,16.885275182827773,17.06962677483223,17.105312010763917,17.196589650328526,17.031593977192585,16.951859450501786,16.930681457901546,16.872378716995005,16.800218984559603,16.670579520628063,16.3931937666541,16.26488637300215,16.20908525784423,16.213533439637843,16.264455380735097,16.2299175592614,16.130963675597346,16.02753941255524,15.985669767277518,15.96946719596431,15.903395646271129,15.928650509311277,16.00249357999898,16.142639292706995,16.468363102189933,16.7791005560506,17.086963305339733,17.322237403389774,17.561944962213673,17.593267710778612,17.582081096967098,17.55417218553807,17.519676958760083,17.519941289127658,17.577448579053097,17.512902667788655,17.472127332138236,17.478133846217755,17.46950319320275,17.484418543180908,17.45233375106547,17.05062058824399,16.513056261879267,15.793648315006939,15.279700381589082,15.103672783075938,15.028111434764178,14.989662446380423,14.9536670437199,14.77585748611795,14.709845244552248,14.714920650145597,14.749345649727932,14.922863839392,15.120266541078218,15.184182023944032,15.183529501169131,15.32721744035547,15.52596222091394,15.523248719301852,15.518145121850985,15.444549122212372,15.42884754364904,15.425978831795772,15.406290659707734,15.343644789764602,15.377604317707302,15.30458573722941,15.204923824376023,15.175749406822193,15.149487550703723,15.092578475030965,15.158811811992061,15.294631673682384,15.308628914337524,15.313480392292453,15.30822744895645,15.301507755953054,15.291745675856527,15.298075017339201,15.207205574233724,15.184887783102525,15.215777033985848,15.207546129113945,15.242909421071019,15.320333658392206,15.278254726456678,15.273657826558944,15.29519577791949,15.152879057012356,15.186226105270642,15.323003433932517,15.473283529132548,15.620161778830859,15.669743546011937,15.725158227740131,15.693837667732586,15.768812535088783,15.967717728827141,16.154579577286306,16.283199658320047,16.426797394792438,16.665457407334706,16.6759499115285,16.70465494299548,16.859478432702343,16.946277860122677,17.000243163672526,17.124157594374566,17.152087023440945,17.16995923987942,17.154332849551075,17.161183743498615,17.169288651570053,17.15317158252324,17.21649023737334,17.232269521173222,17.16582473788008,17.081418551629238,17.03335061886832,16.830776549854924,16.701716649061954,16.700426634301163,16.688541034636703,16.67789572994127,16.561356735542645,16.54094857553907,16.531313263143513,16.532204381981458,16.581664830806655,16.590752278219725,16.59290239307279,16.587261598064146,16.536930807315088],\"type\":\"scatter\"}],                        {\"legend\":{\"bgcolor\":\"#F5F6F9\",\"font\":{\"color\":\"#4D5663\"}},\"paper_bgcolor\":\"#F5F6F9\",\"plot_bgcolor\":\"#F5F6F9\",\"template\":{\"data\":{\"barpolar\":[{\"marker\":{\"line\":{\"color\":\"#E5ECF6\",\"width\":0.5},\"pattern\":{\"fillmode\":\"overlay\",\"size\":10,\"solidity\":0.2}},\"type\":\"barpolar\"}],\"bar\":[{\"error_x\":{\"color\":\"#2a3f5f\"},\"error_y\":{\"color\":\"#2a3f5f\"},\"marker\":{\"line\":{\"color\":\"#E5ECF6\",\"width\":0.5},\"pattern\":{\"fillmode\":\"overlay\",\"size\":10,\"solidity\":0.2}},\"type\":\"bar\"}],\"carpet\":[{\"aaxis\":{\"endlinecolor\":\"#2a3f5f\",\"gridcolor\":\"white\",\"linecolor\":\"white\",\"minorgridcolor\":\"white\",\"startlinecolor\":\"#2a3f5f\"},\"baxis\":{\"endlinecolor\":\"#2a3f5f\",\"gridcolor\":\"white\",\"linecolor\":\"white\",\"minorgridcolor\":\"white\",\"startlinecolor\":\"#2a3f5f\"},\"type\":\"carpet\"}],\"choropleth\":[{\"colorbar\":{\"outlinewidth\":0,\"ticks\":\"\"},\"type\":\"choropleth\"}],\"contourcarpet\":[{\"colorbar\":{\"outlinewidth\":0,\"ticks\":\"\"},\"type\":\"contourcarpet\"}],\"contour\":[{\"colorbar\":{\"outlinewidth\":0,\"ticks\":\"\"},\"colorscale\":[[0.0,\"#0d0887\"],[0.1111111111111111,\"#46039f\"],[0.2222222222222222,\"#7201a8\"],[0.3333333333333333,\"#9c179e\"],[0.4444444444444444,\"#bd3786\"],[0.5555555555555556,\"#d8576b\"],[0.6666666666666666,\"#ed7953\"],[0.7777777777777778,\"#fb9f3a\"],[0.8888888888888888,\"#fdca26\"],[1.0,\"#f0f921\"]],\"type\":\"contour\"}],\"heatmapgl\":[{\"colorbar\":{\"outlinewidth\":0,\"ticks\":\"\"},\"colorscale\":[[0.0,\"#0d0887\"],[0.1111111111111111,\"#46039f\"],[0.2222222222222222,\"#7201a8\"],[0.3333333333333333,\"#9c179e\"],[0.4444444444444444,\"#bd3786\"],[0.5555555555555556,\"#d8576b\"],[0.6666666666666666,\"#ed7953\"],[0.7777777777777778,\"#fb9f3a\"],[0.8888888888888888,\"#fdca26\"],[1.0,\"#f0f921\"]],\"type\":\"heatmapgl\"}],\"heatmap\":[{\"colorbar\":{\"outlinewidth\":0,\"ticks\":\"\"},\"colorscale\":[[0.0,\"#0d0887\"],[0.1111111111111111,\"#46039f\"],[0.2222222222222222,\"#7201a8\"],[0.3333333333333333,\"#9c179e\"],[0.4444444444444444,\"#bd3786\"],[0.5555555555555556,\"#d8576b\"],[0.6666666666666666,\"#ed7953\"],[0.7777777777777778,\"#fb9f3a\"],[0.8888888888888888,\"#fdca26\"],[1.0,\"#f0f921\"]],\"type\":\"heatmap\"}],\"histogram2dcontour\":[{\"colorbar\":{\"outlinewidth\":0,\"ticks\":\"\"},\"colorscale\":[[0.0,\"#0d0887\"],[0.1111111111111111,\"#46039f\"],[0.2222222222222222,\"#7201a8\"],[0.3333333333333333,\"#9c179e\"],[0.4444444444444444,\"#bd3786\"],[0.5555555555555556,\"#d8576b\"],[0.6666666666666666,\"#ed7953\"],[0.7777777777777778,\"#fb9f3a\"],[0.8888888888888888,\"#fdca26\"],[1.0,\"#f0f921\"]],\"type\":\"histogram2dcontour\"}],\"histogram2d\":[{\"colorbar\":{\"outlinewidth\":0,\"ticks\":\"\"},\"colorscale\":[[0.0,\"#0d0887\"],[0.1111111111111111,\"#46039f\"],[0.2222222222222222,\"#7201a8\"],[0.3333333333333333,\"#9c179e\"],[0.4444444444444444,\"#bd3786\"],[0.5555555555555556,\"#d8576b\"],[0.6666666666666666,\"#ed7953\"],[0.7777777777777778,\"#fb9f3a\"],[0.8888888888888888,\"#fdca26\"],[1.0,\"#f0f921\"]],\"type\":\"histogram2d\"}],\"histogram\":[{\"marker\":{\"pattern\":{\"fillmode\":\"overlay\",\"size\":10,\"solidity\":0.2}},\"type\":\"histogram\"}],\"mesh3d\":[{\"colorbar\":{\"outlinewidth\":0,\"ticks\":\"\"},\"type\":\"mesh3d\"}],\"parcoords\":[{\"line\":{\"colorbar\":{\"outlinewidth\":0,\"ticks\":\"\"}},\"type\":\"parcoords\"}],\"pie\":[{\"automargin\":true,\"type\":\"pie\"}],\"scatter3d\":[{\"line\":{\"colorbar\":{\"outlinewidth\":0,\"ticks\":\"\"}},\"marker\":{\"colorbar\":{\"outlinewidth\":0,\"ticks\":\"\"}},\"type\":\"scatter3d\"}],\"scattercarpet\":[{\"marker\":{\"colorbar\":{\"outlinewidth\":0,\"ticks\":\"\"}},\"type\":\"scattercarpet\"}],\"scattergeo\":[{\"marker\":{\"colorbar\":{\"outlinewidth\":0,\"ticks\":\"\"}},\"type\":\"scattergeo\"}],\"scattergl\":[{\"marker\":{\"colorbar\":{\"outlinewidth\":0,\"ticks\":\"\"}},\"type\":\"scattergl\"}],\"scattermapbox\":[{\"marker\":{\"colorbar\":{\"outlinewidth\":0,\"ticks\":\"\"}},\"type\":\"scattermapbox\"}],\"scatterpolargl\":[{\"marker\":{\"colorbar\":{\"outlinewidth\":0,\"ticks\":\"\"}},\"type\":\"scatterpolargl\"}],\"scatterpolar\":[{\"marker\":{\"colorbar\":{\"outlinewidth\":0,\"ticks\":\"\"}},\"type\":\"scatterpolar\"}],\"scatter\":[{\"marker\":{\"colorbar\":{\"outlinewidth\":0,\"ticks\":\"\"}},\"type\":\"scatter\"}],\"scatterternary\":[{\"marker\":{\"colorbar\":{\"outlinewidth\":0,\"ticks\":\"\"}},\"type\":\"scatterternary\"}],\"surface\":[{\"colorbar\":{\"outlinewidth\":0,\"ticks\":\"\"},\"colorscale\":[[0.0,\"#0d0887\"],[0.1111111111111111,\"#46039f\"],[0.2222222222222222,\"#7201a8\"],[0.3333333333333333,\"#9c179e\"],[0.4444444444444444,\"#bd3786\"],[0.5555555555555556,\"#d8576b\"],[0.6666666666666666,\"#ed7953\"],[0.7777777777777778,\"#fb9f3a\"],[0.8888888888888888,\"#fdca26\"],[1.0,\"#f0f921\"]],\"type\":\"surface\"}],\"table\":[{\"cells\":{\"fill\":{\"color\":\"#EBF0F8\"},\"line\":{\"color\":\"white\"}},\"header\":{\"fill\":{\"color\":\"#C8D4E3\"},\"line\":{\"color\":\"white\"}},\"type\":\"table\"}]},\"layout\":{\"annotationdefaults\":{\"arrowcolor\":\"#2a3f5f\",\"arrowhead\":0,\"arrowwidth\":1},\"autotypenumbers\":\"strict\",\"coloraxis\":{\"colorbar\":{\"outlinewidth\":0,\"ticks\":\"\"}},\"colorscale\":{\"diverging\":[[0,\"#8e0152\"],[0.1,\"#c51b7d\"],[0.2,\"#de77ae\"],[0.3,\"#f1b6da\"],[0.4,\"#fde0ef\"],[0.5,\"#f7f7f7\"],[0.6,\"#e6f5d0\"],[0.7,\"#b8e186\"],[0.8,\"#7fbc41\"],[0.9,\"#4d9221\"],[1,\"#276419\"]],\"sequential\":[[0.0,\"#0d0887\"],[0.1111111111111111,\"#46039f\"],[0.2222222222222222,\"#7201a8\"],[0.3333333333333333,\"#9c179e\"],[0.4444444444444444,\"#bd3786\"],[0.5555555555555556,\"#d8576b\"],[0.6666666666666666,\"#ed7953\"],[0.7777777777777778,\"#fb9f3a\"],[0.8888888888888888,\"#fdca26\"],[1.0,\"#f0f921\"]],\"sequentialminus\":[[0.0,\"#0d0887\"],[0.1111111111111111,\"#46039f\"],[0.2222222222222222,\"#7201a8\"],[0.3333333333333333,\"#9c179e\"],[0.4444444444444444,\"#bd3786\"],[0.5555555555555556,\"#d8576b\"],[0.6666666666666666,\"#ed7953\"],[0.7777777777777778,\"#fb9f3a\"],[0.8888888888888888,\"#fdca26\"],[1.0,\"#f0f921\"]]},\"colorway\":[\"#636efa\",\"#EF553B\",\"#00cc96\",\"#ab63fa\",\"#FFA15A\",\"#19d3f3\",\"#FF6692\",\"#B6E880\",\"#FF97FF\",\"#FECB52\"],\"font\":{\"color\":\"#2a3f5f\"},\"geo\":{\"bgcolor\":\"white\",\"lakecolor\":\"white\",\"landcolor\":\"#E5ECF6\",\"showlakes\":true,\"showland\":true,\"subunitcolor\":\"white\"},\"hoverlabel\":{\"align\":\"left\"},\"hovermode\":\"closest\",\"mapbox\":{\"style\":\"light\"},\"paper_bgcolor\":\"white\",\"plot_bgcolor\":\"#E5ECF6\",\"polar\":{\"angularaxis\":{\"gridcolor\":\"white\",\"linecolor\":\"white\",\"ticks\":\"\"},\"bgcolor\":\"#E5ECF6\",\"radialaxis\":{\"gridcolor\":\"white\",\"linecolor\":\"white\",\"ticks\":\"\"}},\"scene\":{\"xaxis\":{\"backgroundcolor\":\"#E5ECF6\",\"gridcolor\":\"white\",\"gridwidth\":2,\"linecolor\":\"white\",\"showbackground\":true,\"ticks\":\"\",\"zerolinecolor\":\"white\"},\"yaxis\":{\"backgroundcolor\":\"#E5ECF6\",\"gridcolor\":\"white\",\"gridwidth\":2,\"linecolor\":\"white\",\"showbackground\":true,\"ticks\":\"\",\"zerolinecolor\":\"white\"},\"zaxis\":{\"backgroundcolor\":\"#E5ECF6\",\"gridcolor\":\"white\",\"gridwidth\":2,\"linecolor\":\"white\",\"showbackground\":true,\"ticks\":\"\",\"zerolinecolor\":\"white\"}},\"shapedefaults\":{\"line\":{\"color\":\"#2a3f5f\"}},\"ternary\":{\"aaxis\":{\"gridcolor\":\"white\",\"linecolor\":\"white\",\"ticks\":\"\"},\"baxis\":{\"gridcolor\":\"white\",\"linecolor\":\"white\",\"ticks\":\"\"},\"bgcolor\":\"#E5ECF6\",\"caxis\":{\"gridcolor\":\"white\",\"linecolor\":\"white\",\"ticks\":\"\"}},\"title\":{\"x\":0.05},\"xaxis\":{\"automargin\":true,\"gridcolor\":\"white\",\"linecolor\":\"white\",\"ticks\":\"\",\"title\":{\"standoff\":15},\"zerolinecolor\":\"white\",\"zerolinewidth\":2},\"yaxis\":{\"automargin\":true,\"gridcolor\":\"white\",\"linecolor\":\"white\",\"ticks\":\"\",\"title\":{\"standoff\":15},\"zerolinecolor\":\"white\",\"zerolinewidth\":2}}},\"title\":{\"font\":{\"color\":\"#4D5663\"}},\"xaxis\":{\"gridcolor\":\"#E1E5ED\",\"showgrid\":true,\"tickfont\":{\"color\":\"#4D5663\"},\"title\":{\"font\":{\"color\":\"#4D5663\"},\"text\":\"\"},\"zerolinecolor\":\"#E1E5ED\"},\"yaxis\":{\"gridcolor\":\"#E1E5ED\",\"showgrid\":true,\"tickfont\":{\"color\":\"#4D5663\"},\"title\":{\"font\":{\"color\":\"#4D5663\"},\"text\":\"\"},\"zerolinecolor\":\"#E1E5ED\"}},                        {\"showLink\": true, \"linkText\": \"Export to plot.ly\", \"plotlyServerURL\": \"https://plot.ly\", \"responsive\": true}                    ).then(function(){\n",
       "                            \n",
       "var gd = document.getElementById('132697d7-7a77-4716-9e5d-f4bfc228baaf');\n",
       "var x = new MutationObserver(function (mutations, observer) {{\n",
       "        var display = window.getComputedStyle(gd).display;\n",
       "        if (!display || display === 'none') {{\n",
       "            console.log([gd, 'removed!']);\n",
       "            Plotly.purge(gd);\n",
       "            observer.disconnect();\n",
       "        }}\n",
       "}});\n",
       "\n",
       "// Listen for the removal of the full notebook cells\n",
       "var notebookContainer = gd.closest('#notebook-container');\n",
       "if (notebookContainer) {{\n",
       "    x.observe(notebookContainer, {childList: true});\n",
       "}}\n",
       "\n",
       "// Listen for the clearing of the current output cell\n",
       "var outputEl = gd.closest('.output');\n",
       "if (outputEl) {{\n",
       "    x.observe(outputEl, {childList: true});\n",
       "}}\n",
       "\n",
       "                        })                };                });            </script>        </div>"
      ]
     },
     "metadata": {},
     "output_type": "display_data"
    }
   ],
   "source": [
    "# Bollinger Band Plot for Bank of America 2015\n",
    "BOA['Close'].loc['2015-01-01':'2015-12-31'].ta_plot(study=\"boll\")"
   ]
  },
  {
   "cell_type": "code",
   "execution_count": null,
   "id": "14d61939",
   "metadata": {},
   "outputs": [],
   "source": []
  }
 ],
 "metadata": {
  "kernelspec": {
   "display_name": "Python 3 (ipykernel)",
   "language": "python",
   "name": "python3"
  },
  "language_info": {
   "codemirror_mode": {
    "name": "ipython",
    "version": 3
   },
   "file_extension": ".py",
   "mimetype": "text/x-python",
   "name": "python",
   "nbconvert_exporter": "python",
   "pygments_lexer": "ipython3",
   "version": "3.9.12"
  }
 },
 "nbformat": 4,
 "nbformat_minor": 5
}
